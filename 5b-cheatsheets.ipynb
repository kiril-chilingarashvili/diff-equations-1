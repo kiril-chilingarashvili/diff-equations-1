{
 "cells": [
  {
   "cell_type": "markdown",
   "id": "1a2bfe9f-1204-4344-b5d8-901affef1f72",
   "metadata": {},
   "source": [
    "# Unit 5: Nonlinear DEs - Part b: Autonomous equations"
   ]
  },
  {
   "cell_type": "markdown",
   "id": "340f2770-feda-435f-b4b0-fa7798eb73d8",
   "metadata": {},
   "source": [
    "## 2. Definition\n",
    "\n",
    "### An ***autonomous*** ODE is a differential equation that does not explicitly depend on the independent variable. If time is the independent variable, this means that the ODE is time-invariant. We will use time as the independent variable in this lecture.\n",
    "\n",
    "### The standard form for a first order autonomous equation is\n",
    "## $$ \\frac{dy}{dt} = f(y) \\quad (\\text{instead of}\\, f(t, y)) $$\n",
    "\n",
    "### where the right hand side does not depend on $t$. As usual, we write $\\displaystyle \\dot{y} = \\frac{dy}{dt}$.\n",
    "\n",
    "### For example, the (nonlinear) equation\n",
    "## $$ \\dot{y} = y - 3 y^2 $$\n",
    "\n",
    "### is autonomous. We will find out later that this DE models population growth in an environment with limited resources. It is called a ***logistic equation***.\n",
    "\n",
    "### ***Why is this called autonomous***? \n",
    "### In ordinary English, a machine or robot is called autonomous if it operates without human input. A differential equation is called autonomous if its coefficients are not changed over time, such as might happen if a human adjusted a dial on a machine and let it run."
   ]
  },
  {
   "cell_type": "markdown",
   "id": "7b3da4ce-3508-4d45-b483-859cce75fc7b",
   "metadata": {},
   "source": [
    "## 3. First properties\n",
    "\n",
    "### Here are two consequences of the time invariance of an autonomous equation:\n",
    "### - Each isocline (in the $(t, y)$-plane) consists of one or more horizontal lines.\n",
    "### - Solution curves (in the $(t, y)$-plane) are horizontal translations of one another. That is, if $y(t)$ is a solution, then so is $y(t-a)$ for any $a$\n",
    "\n",
    "### For example, here is the slope field for $\\dot{y} = y(1-y)$ with the $(-1)$-isocline and a few solution curves:\n",
    "![img](img/sc22.png)\n",
    " \n",
    "### Why are all translations of solutions also solutions? (A non-geometric argument)\n",
    "### Let $y(t)$ be a solution to $\\dot{y} = f(y)$. We verify that $y(t-a)$ is also a solution.\n",
    "\n",
    "### Let $u=t-a$ then\n",
    "## $$ \\begin{array} {rcl} \\displaystyle \\frac{d}{dt} y(t-a) = \\frac{d}{dt} y(u(t)) & = & \\displaystyle \\frac{dy}{du}\\frac{du}{dt}\\quad (\\text{chain rule}) \\\\ \\, & = & f(y(u))(1) = f(y(t-a)) \\end{array} $$\n",
    "\n",
    "### Therefore $y(t-a)$ is also a solution."
   ]
  },
  {
   "cell_type": "markdown",
   "id": "aa0e754b-44d2-404f-86cf-d77d236de1a2",
   "metadata": {},
   "source": [
    "## 4. Critical points\n",
    "\n",
    "### ***Definition 4.1***\n",
    "### The values of $y$ at which $f(y) = 0$ are called the ***critical points*** or ***equilibria*** of the autonomous equation $\\dot{y} = f(y)$.\n",
    "\n",
    "### If $y_0$ is a critical point of an autonomous equation, then $y=y_0$ is a constant (or horizontal, or equilibrium) solution, because the derivative of a constant function is $0$. The $0$-isocline of an autonomous equation consists of all the constant solutions.\n",
    "![img](img/sc23.png)\n",
    "\n",
    "### Recall that for any first order DE, the $0$-isocline divides the $(t, y)$-plane into “up\" regions, where $f>0$ and solutions are increasing, and “down\" regions, where $f<0$ and solutions are decreasing. For autonomous equations, the qualitative behaviour of all solutions is encoded by the critical points and the signs of $f(y)$ in the intervals between the critical points.\n",
    "\n",
    "### To find the qualitative behaviour of solutions to $\\dot{y} = f(y)$ we follow two steps:\n",
    "### 1. Find the critical points. That is, solve $f(y) = 0$.\n",
    "### 2. Determine the intervals of $y$ in which $f(y) > 0$ and in which $f(y) < 0$. These are intervals in which solutions are increasing and decreasing respectively.\n",
    "\n",
    "### We will use these steps in the next two examples."
   ]
  },
  {
   "cell_type": "markdown",
   "id": "bb769097-e6d9-492a-bd83-3d57cd46c734",
   "metadata": {},
   "source": [
    "## 5. First example\n",
    "### ***Phase line***\n",
    "\n",
    "### Lets introduce ***phase lines*** explicitly.\n",
    "\n",
    "### First order autonomous DE:\n",
    "## $$ \\dot{y} = f(y) = ry-w (r, w > 0) $$\n",
    "\n",
    "### The variable $y$ models the amount of money (in dollars) in a savings account; $r$ is the interest rate (in units of $\\text{year}^{-1}$); and $w$ (in dollars per year) is the rate of money being stolen out of the account.\n",
    "\n",
    "### To find the qualitative behavior of the solutions, we follow the two steps described before.\n",
    "\n",
    "### 1. Find the critical points.\n",
    "## $$ f(y) = ry - w = 0 \\implies y = \\frac{w}{r} $$\n",
    "\n",
    "### So $\\displaystyle y = \\frac{w}{r}$ is the constant solution.\n",
    "\n",
    "### 2. Determine the intervals of $y$ in which $f(y) > 0$ and in which $f(y) < 0$. One way to do this is by graphing $f(y)$.\n",
    "![img](img/sc24.png)\n",
    "\n",
    "### For $\\displaystyle y > \\frac{w}{r}, f(y) > 0$ and any solution $y(t)$ is increasing; for $\\displaystyle y < \\frac{w}{r}, f(y) < 0$ and any solution $y(t)$ is decreasing.\n",
    "\n",
    "### We can summarize the above information by adding arrows on the (horizontal) $y$-axis. The critical points divides the $y$-axis into intervals. We place a right arrow (in the $+y$ direction) to each interval of $y$ where $f(y) > 0$ and any solution $y(t)$ is increasing. Similarly, we place a left arrow (in the $-y$ direction) to each interval where $f(y) < 0$ and solutions are decreasing. The $y$-axis with this extra information is called a ***phase line***.\n",
    "\n",
    "### ***Definition 5.1***\n",
    "### The ***phase line*** of a first order autonomous DE $\\dot{y} = f(y)$ is a plot of the $y$-axis with all critical points and with an arrow in each interval between the critical points indicating whether solutions increase or decrease.\n",
    "\n",
    "### In our example, the phase line is:\n",
    "![img](img/sc25.png)\n",
    "\n",
    "### If the phase line is drawn vertically, the qualitative behaviour of solution curves can be read directly from it, as you see in the diagram below.\n",
    "![img](img/sc26.png)\n",
    "\n",
    "### ***Example 5.2***\n",
    "### Use the phase line above to determine what happens to solutions with different initial conditions as time passes.\n",
    "\n",
    "### ***Solution***:\n",
    "### - If $\\displaystyle y(0) = \\frac{w}{r}$ which is the critical point, then the solution will be $\\displaystyle y(t) = \\frac{w}{r}$ for all $t$. This corresponds to the constant solution shown on $(t, y)$-plane in the figure above.\n",
    "### - If $\\displaystyle y(0) > \\frac{w}{r}$ then the up arrow (in the positive $y$ direction) on the phase line tells us that as $t$ increases, $y(t)$ increases and will tend to $+\\infty$ This corresponds to a solution curve above the horizontal solution, such as the one shown on the $(t, y)$-plane above.\n",
    "### - If $\\displaystyle y(0) < \\frac{w}{r}$ then the down arrow (in the negative $y$ direction) on the phase line says that as $t$ increases, $y(t)$ decreases and will tend to $-\\infty$. This corresponds to a solution curve below the horizontal solution, such as the one shown on the $(t, y)$-plane above."
   ]
  },
  {
   "cell_type": "markdown",
   "id": "fe923f2b-6a9b-4eb6-85a5-e7c36c3feaca",
   "metadata": {},
   "source": [
    "## ***Warning***:\n",
    "### Phase lines can only be used for autonomous equations.\n",
    "\n",
    "### The phase line does not capture the exact shape of solution curves. However, since all solutions are translations of one another, the phase line does retain the qualitative behavior of ***all*** solutions."
   ]
  },
  {
   "cell_type": "markdown",
   "id": "da303e06-b6bb-4c17-9f1d-740c7a3fbfd5",
   "metadata": {},
   "source": []
  }
 ],
 "metadata": {
  "kernelspec": {
   "display_name": "Python 3",
   "language": "python",
   "name": "python3"
  },
  "language_info": {
   "codemirror_mode": {
    "name": "ipython",
    "version": 3
   },
   "file_extension": ".py",
   "mimetype": "text/x-python",
   "name": "python",
   "nbconvert_exporter": "python",
   "pygments_lexer": "ipython3",
   "version": "3.8.8"
  }
 },
 "nbformat": 4,
 "nbformat_minor": 5
}
