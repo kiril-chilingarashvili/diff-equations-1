{
 "cells": [
  {
   "cell_type": "markdown",
   "id": "8f64d76a-e46e-43c6-a394-eb9c0a014179",
   "metadata": {},
   "source": [
    "# Unit 4: Exponential Response and Resonance - Part b: Complex Replacement, Gain and Phase Lag, Stability"
   ]
  },
  {
   "cell_type": "markdown",
   "id": "28d39523-1243-43cc-9789-cf79b19be1ab",
   "metadata": {},
   "source": [
    "## 2. Boston Harbor Example\n",
    "\n",
    "### Suppose we are studying the tides in Boston Harbor. Let $x$ be the water level in Boston Harbor. Let $y$ be the water level of the ocean. Then the input is the ocean level $y$, which is responsible for the changing tides $x$ in Boston Harbor, the system response.\n",
    "\n",
    "### ***The Physics***\n",
    "\n",
    "### We assume that the ocean and the harbor are connected by a narrow channel so that the flow is slow and not turbulent. This allows us to assume that the flow rate is pressure driven, and is linearly proportional to the pressure difference. Furthermore the pressure difference is linearly proportional to the difference in water level between the ocean and the harbor."
   ]
  },
  {
   "cell_type": "markdown",
   "id": "ba885f01-3b2e-4b4d-9105-1e6de33bf8ec",
   "metadata": {},
   "source": [
    "## 3. Complex replacement method\n",
    "\n",
    "### ***Complex replacement*** is a method for finding ***a particular solution*** to an inhomogeneous linear ODE\n",
    "## $$ P(D) x = \\cos(\\omega t) $$\n",
    " \n",
    "### where $P$ is a real polynomial, and $\\omega$ is a real number. (Note that in the video $y$ was the unknown function.)\n",
    "\n",
    "### 1. Write the right hand side of the equation $\\cos(\\omega t)$ as $\\operatorname{Re}(e^{i\\omega t})$:\n",
    "## $$ P(D) x = \\operatorname{ Re}(e^{i\\omega t}) $$\n",
    " \n",
    "### 2. Replace the right hand side of the differential equation with the complex exponential $e^{i\\omega t}$. We need a new variable for the solution, which will be a complex function. Give the name $z$ for the unknown complex function. The ***complexified*** differential equation is this:\n",
    "## $$ P(D) z = \\underbrace{e^{i\\omega t}}_{\\text{complex replacement}} $$\n",
    "\n",
    "### Use ERF (or generalized ERF if $P(i\\omega) = 0$) to find a particular solution $z_p$ to the complexified ODE.\n",
    "## $$ z_p = \\frac{e^{i\\omega t}}{P(i\\omega)} $$\n",
    "\n",
    "### Compute $x_p = \\operatorname{Re}(z_p)$. Then $x_p$ is a particular solution to the ***original*** ODE."
   ]
  },
  {
   "cell_type": "markdown",
   "id": "c7c7a144-6c34-4f22-8214-347c5c15230f",
   "metadata": {},
   "source": [
    "## 4. Why does complex replacement work?\n",
    "\n",
    "### ***Question 4.1***\n",
    "### Why does the complex replacement method work?\n",
    "\n",
    "### ***Answer***\n",
    "### If $z = x_1 + i x_2$ is a solution to the complex replacement ODE, i.e.,\n",
    "## $$ \\begin{array} {rcl} P(D) z & = & e^{i\\omega t} \\\\ P(D) (x_1 + i x_2) & = & \\cos(\\omega t) + i \\sin(\\omega t) \\end{array} $$\n",
    "\n",
    "### Since $P$ has real coefficients, taking the real parts of both sides gives\n",
    "## $$ P(D) x_1 = \\cos(\\omega t) $$\n",
    "\n",
    "### which says that $x_1$ is a solution to the original ODE.\n",
    "\n",
    "### Note that we've actually solved another equation too. Taking the imaginary parts of both gives us\n",
    "## $$ P(D) x_2 = \\sin(\\omega t) $$\n",
    "\n",
    "### Complex replacement is helpful also with other real input signals, with any real-valued function that can be written as the real part of a reasonably simple complex input signal. Here are some simple examples that would be helpful to have memorized:\n",
    "\n",
    "## $$ \\begin{array} {rcl} \\text{Real input signal} & & \\text{Complex replacement} \\\\ \\cos(\\omega t) & & e^{i\\omega t} \\\\ A\\cos(\\omega t - \\phi) & & A e^{i(\\omega t - \\phi)} \\\\ e^{at} \\cos(\\omega t) & & e^{(a+i\\omega)t} \\end{array} $$\n",
    "\n",
    "### Using complex arithmetic, there is a more complicated formula which can be derived as well (it was derived in [Lecture 6: Sinusoids](https://kiril-chilingarashvili.github.io/diff-equations-1/3a-cheatsheets.html#:~:text=6.%20The%20equivalence%20of%20the%20three%20forms))\n",
    "\n",
    "## $$ \\begin{array} {rcl} \\text{Real input signal} & & \\text{Complex replacement} \\\\ a\\cos(\\omega t) + b \\sin(\\omega t) & & (a-bi)e^{i\\omega t} \\end{array} $$\n",
    "\n",
    "### Each function in the first column is the real part of the corresponding function in the second column. The nice thing about these examples is that the complex replacement is a constant times a complex exponential, so ERF (or generalized ERF) applies."
   ]
  },
  {
   "cell_type": "markdown",
   "id": "484d3fc8-e004-4015-9318-2a5acc97c475",
   "metadata": {},
   "source": []
  }
 ],
 "metadata": {
  "kernelspec": {
   "display_name": "Python 3",
   "language": "python",
   "name": "python3"
  },
  "language_info": {
   "codemirror_mode": {
    "name": "ipython",
    "version": 3
   },
   "file_extension": ".py",
   "mimetype": "text/x-python",
   "name": "python",
   "nbconvert_exporter": "python",
   "pygments_lexer": "ipython3",
   "version": "3.8.8"
  }
 },
 "nbformat": 4,
 "nbformat_minor": 5
}
