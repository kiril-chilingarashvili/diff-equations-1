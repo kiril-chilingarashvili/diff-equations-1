{
 "cells": [
  {
   "cell_type": "markdown",
   "id": "a1659c49",
   "metadata": {},
   "source": [
    "# Unit 2: Complex Exponentials and ODEs - Part b: The Complex Exponential Function"
   ]
  },
  {
   "cell_type": "markdown",
   "id": "6031bb51",
   "metadata": {},
   "source": [
    "## 2. The complex exponential function\n",
    "\n",
    "### In the last lecture, we used Euler's formula to write a complex number $a+bi$ in polar form $r e^{i\\theta}$. In solving ODEs, it is going to be useful to define the complex exponential $e^z$ for any complex number $z=a+ib$.\n",
    "\n",
    "### Moreover:\n",
    "\n",
    "### ***Definition 2.1***\n",
    "### For any complex number $z$, the complex function $e^{zt}$ of a real variable $t$ is defined as the solution to the initial value problem\n",
    "## $$ \\frac{d}{dt} e^{zt} = z e^{zt},\\quad e^{z 0} = 1 $$\n",
    " \n",
    "### ***Properties of $e^{it}$***\n",
    "### For every real number $t$,\n",
    "### 1. $e^{it} = \\cos(t) + i \\sin(t)$ (***Euler's formula***),\n",
    "### 2. $e^{-it} = \\overline{e^{it}} = \\cos(t) - i \\sin(t)$,\n",
    "### 3. $|e^{it}| = 1$.\n",
    "\n",
    "### 1. (This is the justification from the previous lecture.) The calculation\n",
    "## $$ \\begin{array} {rcl} \\displaystyle \\frac{d}{dt} (\\cos(t) + i \\sin(t)) & = & \\displaystyle -\\sin(t) + i \\cos(t) \\\\ \\, & = & \\displaystyle i(\\cos(t) + i \\sin(t)) \\end{array} $$\t\t \t \n",
    "\n",
    "### shows that the function $F(t) = \\cos(t) + i \\sin(t)$ is the solution to the DE with initial condition\n",
    "## $$ \\dot{F}(t) = i F(t),\\quad F(0) = 1 $$\n",
    " \n",
    "### But by definition $G(t) = e^{it}$ also satisfies\n",
    "## $$ \\dot{G}(t) = i G(t),\\quad G(0) = 1 $$\n",
    " \n",
    "### The Existence and Uniqueness theorem for (first order) differential equations applies to complex-valued functions of a real variable. The uniqueness theorem tells us that $F(t) = G(t)$, or\n",
    "## $$ e^{it} = \\cos(t) + i \\sin(t) $$\n",
    " \n",
    "### The proof of 2. and 3. follow using 1.\n",
    "\n",
    "### ***Properties of the complex exponential***\n",
    "### 1. $e^{a+ib} = e^a(\\cos(b)+i\\sin(b))$ for all real numbers $a$ and $b$ (***Generalized Euler equation***).\n",
    "### 2. $e^{z+w} = e^z e^w$ for all complex numbers $z$ and $w$.\n",
    "### 3. $(e^z)^n = e^{nz}$ for every complex number $z$ and integer $n$.\n",
    "### - The $n=0$ case says $(e^z)^0 = e^{0+i 0} = \\cos(0)+i\\sin(0) = 1$.\n",
    "### - The $n=-1$ case says $\\displaystyle \\frac{1}{e^z} = (e^z)^{-1} = e^{-z}$.\n",
    "\n",
    "### ***Taylor series***\n",
    "### The Taylor series for $e^z$ is given by\n",
    "## $$ e^z = 1 + z + \\frac{z^2}{2!} + \\frac{z^3}{3!} + \\cdots $$\n",
    "### This formula can be deduced by multiplying $z$ by $t$, which gives\n",
    "## $$ e^{zt} = 1 + zt + \\frac{(zt)^2}{2!} + \\frac{(zt)^3}{3!} + \\cdots $$\n",
    "### and showing that the right hand side satisfies the initial value problem $\\dot{F} = zF,\\, F(0) = 1$. Uniqueness guarantees that the two sides are then equal. By setting $t=1$, the original statement is shown.\n",
    "\n",
    "### ***Remark 2.2***\n",
    "### Some books use the ***generalized Euler equation*** or the ***Taylor series for*** $e^z$ as the ***definition*** of the complex exponential function. The definition we gave in terms of the initial value problem $\\displaystyle \\frac{d}{dt}e^{zt} = z e^{zt}$ and $e^{z 0} = 1$ focuses on what makes the function useful.\n",
    "\n",
    "### ***Proof of the properties***\n",
    "### The proofs of these facts are similar to the proof of Euler's formula above.\n",
    "### 1. We show that $e^{a+ib} = e^a e^{ib} = e^a (\\cos(b)+i\\sin(b))$ by showing that $e^{(a+ib)t} = e^{at} (\\cos(bt) + i\\sin(bt))$ for real numbers.\n",
    "## $$ \\begin{array} {rcl} \\displaystyle \\frac{d}{dt} e^{at}(\\cos(bt) + i \\sin(bt)) & = & \\displaystyle a e^{at}(\\cos(bt) + i \\sin(bt)) + e^{at}(-b\\sin(bt) + ib\\cos(bt)) \\\\ \\, & = & \\displaystyle a e^{at} (\\cos(bt) + i\\sin(bt)) + e^{at} i b (\\cos(bt) + i\\sin(bt)) \\\\ \\, & = & \\displaystyle (a+ib)e^{at}(\\cos(bt)+i\\sin(bt)) \\end{array} $$\n",
    " \t \t\t \t \n",
    "### This shows that $e^{at}(\\cos(bt) + i\\sin(bt))$ is a solution to the initial value problem\n",
    "## $$ \\dot{F} = (a+ib) F, \\quad F(0) = 1 $$\n",
    " \n",
    "### But $e^{(a+ib)t}$ is a solution to this initial value problem by definition. The Uniqueness theorem for differential equations tells us that for all real values of $t$,\n",
    "## $$ e^{(a+ib)t} = e^{at}(\\cos(bt) + i\\sin(bt)) $$\n",
    " \n",
    "### In particular, this equation is true when $t=1$.\n",
    "\n",
    "### 2. Let $z=a+ib$, and $w={c+id}$, then\n",
    "## $$ \\begin{array} {rcl} e^z e^w & = & e^{a+ib}e^{c+id} \\\\ \\, & = & e^{a}e^{ib}e^{c}e^{id} \\\\ \\, & = & e^{a}e^{c}e{ib}e^{id} \\\\ \\, & = & e^{a+c}e^{ib}e^{id} \\end{array} $$\n",
    " \t \t\t \t \n",
    "### So all we need to show is that $e^{ib}e^{id} = e^{ib+id}$. We know that $e^{bit}$ solves the ODE\n",
    "## $$ \\dot{F} = ib F,\\quad F(0) = 1 $$\n",
    " \n",
    "### Notice that\n",
    "## $$ \\begin{array} {rcl} \\displaystyle \\frac{d}{dt} e^{ibt} e^{idt} & = & ibe^{ibt}e^{idt} + id e^{ibt}e^{idt} \\\\ \\, & = & (ib+id)e^{ibt}e^{idt} \\end{array} $$\t\n",
    " \t \t\t \t \n",
    "### Thus both $e^{ibt}e^{idt}$ and $e^{(ib+id)t}$ solve\n",
    "## $$ \\dot{F} = (ib+id) F, \\quad F(0) = 1 $$\n",
    " \n",
    "### The Uniqueness theorem for differential equations implies that these two functions must be equal for all real values of $t$. In particular, they are equal when $t=1$.\n",
    "\n",
    "### 3. If $n=0$, then this is $1=1$ by definition. If $n>0$,\n",
    "## $$ (e^z)^n = \\overbrace{e^z e^z\\cdots e^z}^{n\\,\\text{copies}} \\stackrel{\\text{item}\\,2\\,\\text{repeatedly}}= \\overbrace{e^{z+z+\\cdots +z}}^{n\\,\\text{copies}} = e^{n z} $$\n",
    " \n",
    "### If $n= -m<0$, then\n",
    "## $$ (e^z)^{-m} = \\frac{1}{(e^z)^{m}} \\stackrel{(\\text{just shown})}= \\frac{1}{e^{mz}} = e^{-m z} $$\n",
    " \n",
    "### since $e^{mz}e^{-mz} = e^{mz+(-mz)} = e^0 = 1$."
   ]
  },
  {
   "cell_type": "markdown",
   "id": "4ce45708",
   "metadata": {},
   "source": [
    "## 3. Proof of Uniqueness\n",
    "\n",
    "### Previously, we defined the function $e^{at}$ to be the solution to this equation guaranteed by the existence and uniqueness theorem, and then used the equation to establish various properties of the exponential function. In this note, we'll just assume that the solution given by the exponential function exists and prove the uniqueness part of the theorem. The most common proof of existence is not too hard but relies on some advanced Calculus – in particular convergence theorems.\n",
    "\n",
    "### We begin by restating with the most basic version of the existence and uniqueness theorem for first order equations with constant (complex) coefficients.\n",
    "\n",
    "### ***Theorem 3.1***\n",
    "### Let $\\alpha\\in \\mathbb{C}$. Then for a given $x_0\\in\\mathbb{C}$, the initial value problem\n",
    "## $$ \\begin{array} {rcl} x'(t) & = & \\alpha x(t) \\\\ x(0) & = & x_0 \\end{array} $$\n",
    "### has a unique solution given by\n",
    "## $$ x(t) = e^{\\alpha t} x_0 $$\n",
    "### ***Proof of uniqueness***\n",
    "### Suppose that $y(t)$ is any other solution to $y'(t) = \\alpha y(t)$. Define\n",
    "## $$ z(t) = e^{-\\alpha t}y(t) $$\n",
    "### Then,\n",
    "## $$ \\begin{array} {rcl} z'(t) & = & -\\alpha e^{-\\alpha t} y(t) + e^{-\\alpha t}y'(t) \\\\ \\, & = & -\\alpha e^{\\alpha t} y(t) + e^{-\\alpha t} \\alpha y(t) \\\\ \\, & = & 0 \\end{array} $$\n",
    "### where above in the second line we used the equation $y'(t) = \\alpha y(t)$. Since $z'(t) = 0$ we know $z(t)$ is equal to a constant. Using the initial conditions $y(0) = x_0$, we see that $z(0) = x_0$, and thus $z(t) = x_0$ for all $t\\in \\mathbb{R}$. Hence,\n",
    "## $$ x_0 = e^{-\\alpha t} y(t) $$\n",
    " \n",
    "### or in other words, $y(t) = e^{\\alpha t}x_0$, which proves uniqueness. $\\square$\n",
    "\n",
    "### The proof above easily generalizes to\n",
    "\n",
    "### ***Theorem 3.2***\n",
    "### (Uniqueness for an inhomogeneous equation) Let $\\alpha \\in \\mathbb{C}$ and let $q(t)$ be a continuous function on an open time interval $J \\subset \\mathbb{R}$ with $0\\in J$. Then for a given $x_0\\in\\mathbb{C}$, the initial value problem\n",
    "## $$ \\begin{array} {rcl} x'(t) - \\alpha x(t) & = & q(t) \\\\ x(0) & = & x_0 \\end{array} $$\n",
    "### has a unique solution on the interval $J$.\n",
    "\n",
    "### The existence part of the theorem can be proved using, say, the variation of parameters formula. We will prove uniqueness here.\n",
    "\n",
    "### ***Proof of uniqueness***\n",
    "### Suppose there are two solutions $x_1(t)$ and $x_2(t)$. Then $w(t):=x_1(t) - x_2(t)$ solves the homogeneous equation,\n",
    "## $$ \\begin{array} {rcl} w'(t) - \\alpha w(t) & = & 0 \\\\ w(0) & = & 0 \\end{array} $$\n",
    "### Then, we just apply the previous argument to conclude that $w(t) = 0$ is the unique solution to the above, and thus $x_1(t) = x_2(t)$ for all $t\\in J$. $\\square$ "
   ]
  },
  {
   "cell_type": "markdown",
   "id": "437ed006",
   "metadata": {},
   "source": [
    "## 4. Graphing the complex exponential function\n",
    "\n",
    "### One of the ways we understand a function is to understand its graph. Our goal is to understand the complex exponential function $e^{(a+bi)t}$ by plotting its trajectory as $t$ varies.\n",
    "\n",
    "### ***Fundamental case: the function*** $e^{it}$\n",
    "### As $t$ increases, the complex number $e^{it} = \\cos(t) + i\\sin(t)$ travels counterclockwise around the unit circle.\n",
    "![img](img/s21.png)\n",
    " \n",
    "### Here are some important values of $e^{it}$ and their locations on the unit circle.\n",
    "![img](img/s22.png)\n",
    "\n",
    "### ***The function*** $e^{(a+bi)t}$\n",
    "### Fix a nonzero complex number $a+bi$. As the real number $t$ increases, $e^{(a+bi)t}$ moves along part of a line, a circle, or a spiral, depending on the value of $a+bi$. You can see this in the mathlet below."
   ]
  },
  {
   "cell_type": "code",
   "execution_count": 1,
   "id": "33b5edc2",
   "metadata": {
    "jupyter": {
     "source_hidden": true
    },
    "tags": []
   },
   "outputs": [
    {
     "data": {
      "text/html": [
       "<iframe width=\"900\" height=\"650\" src=\"https://1803mathlets.netlify.app/complexexponential\" frameborder=\"0\" allow=\"accelerometer; autoplay; clipboard-write; encrypted-media; gyroscope; picture-in-picture\" allowfullscreen></iframe>  \n"
      ],
      "text/plain": [
       "<IPython.core.display.HTML object>"
      ]
     },
     "metadata": {},
     "output_type": "display_data"
    }
   ],
   "source": [
    "%%html\n",
    "<iframe width=\"900\" height=\"650\" src=\"https://1803mathlets.netlify.app/complexexponential\" frameborder=\"0\" allow=\"accelerometer; autoplay; clipboard-write; encrypted-media; gyroscope; picture-in-picture\" allowfullscreen></iframe>  "
   ]
  },
  {
   "cell_type": "markdown",
   "id": "b347fafe",
   "metadata": {},
   "source": [
    "## 6. Complex roots of polynomials\n",
    "\n",
    "### ***Example 6.1***\n",
    "### How many roots does the polynomial $z^3-3z^2+4$ have? It factors as $(z-2)(z-2)(z+1)$, so it has only two distinct roots ($2$ and $-1$). But if we count $2$ twice, then the number of roots ***counted with multiplicity*** is $3$, equal to the degree of the polynomial.\n",
    "\n",
    "### Some polynomials with real coefficients, like $z^2+9$, cannot be factored completely into degree $1$ real polynomials, but do factor into degree $1$ polynomials with complex coefficients: $(z+3i)(z-3i)$.\n",
    "\n",
    "### - ***Real polynomial***: polynomial with real coefficients.\n",
    "### - ***Complex polynomial***: polynomial with complex coefficients.\n",
    "\n",
    "### In fact, ***every*** complex polynomial factors completely into degree $1$ complex polynomials — this is proved in advanced courses in complex analysis. This implies the following:\n",
    "\n",
    "### ***Fundamental Theorem of algebra**. Every degree $n$ complex polynomial $f(z)$ has exactly $n$ complex roots, if counted with multiplicity.\n",
    "\n",
    "### Since real polynomials are special cases of complex polynomials, the fundamental theorem of algebra applies to them too. For real polynomials, any complex roots will occur with their complex conjugate pairs.\n",
    "\n",
    "### ***Example 6.2***\n",
    "### The degree $3$ polynomial $z^3+z^2-z+15$ factors as $(z+3)(z-1-2i)(z-1+2i)$, so it has three distinct roots: $-3,\\, 1+2i$ and $1-2i$. Of these roots, $-3$ is real, and $1+2i$ and $1-2i$ form a complex conjugate pair.\n",
    "\n",
    "### ***Example 6.3***   \n",
    "### Want a fourth root of $i$? The fundamental theorem of algebra guarantees that $z^4-i = 0$ has a complex solution (in fact, four of them). We'll learn how to find them next.\n",
    "\n",
    "### The fundamental theorem of algebra will be useful for constructing solutions to higher order linear ODEs with constant coefficients, and for discussing eigenvalues."
   ]
  },
  {
   "cell_type": "markdown",
   "id": "81f30a7d",
   "metadata": {},
   "source": [
    "## 7. Finding roots\n",
    "\n",
    "### ***Example 7.1***\n",
    "### What are the complex solutions to $z^5=-32$?\n",
    "\n",
    "### ***Solution***: \n",
    "### Whenever we want to find roots, we write the equation in polar form $z=r e^{i\\theta} (r>0)$\n",
    "## $$ \\begin{array} {rcl} (r e^{i \\theta})^5 & = & 32 e^{i\\pi} \\\\ r^5 e^{i(5\\theta)} & = & 32 e^{i\\pi} \\end{array} $$\n",
    " \t\t\t\t \t \n",
    "### The modulus or absolute value of the roots must satisfy the equation $r^5 = 32$. The angles must satisfy $5\\theta = \\pi + 2\\pi k$ for some integer $k$. Thus\n",
    "## $$ r=2\\quad \\text{and}\\quad \\theta=\\frac{\\pi+2\\pi k}{5}\\quad \\text{for some integer}\\, k $$\n",
    " \n",
    "### In other words,\n",
    "## $$ z = 2 e^{i\\frac{\\pi+2\\pi k}{5}}\\quad \\text{for some integer}\\, k $$\n",
    " \n",
    "### These are numbers on a circle of radius $2$; to get from one to the next (increasing $k$ by $1$), rotate by $\\displaystyle \\frac{2\\pi}{5}$. Increasing  five times brings the number back to its original position. So it's enough to take $k=0,1,2,3,4$. Answer:\n",
    "## $$ 2 e^{i\\frac{\\pi}{5}}, 2 e^{i\\frac{3 \\pi}{5}}, 2 e^{i\\frac{5 \\pi}{5}}, 2 e^{i\\frac{7 \\pi}{5}}, 2 e^{i\\frac{9 \\pi}{5}} $$\n",
    " \n",
    "![img](img/s31.png)\n",
    "\n",
    "### ***Remark 7.2***\n",
    "### The fundamental theorem of algebra predicts that the polynomial $z^5+32$ has $5$ roots when counted with multiplicity. We found $5$ roots, so each must have multiplicity $1$."
   ]
  },
  {
   "cell_type": "markdown",
   "id": "b5b582cc",
   "metadata": {},
   "source": [
    "## 8. Complex roots activity\n",
    "\n",
    "### The mathlet below allows you to visualize a complex number and its roots in the complex plane.\n",
    "\n",
    "### Observe the following:\n",
    "### - If a complex number $z$ has modulus $|z|=1$, then its $n$th roots also have modulus $|z^{\\frac{1}{n}}| = 1$; if $|z|>1$, then $|z^{\\frac{1}{n}}| > 1$; if $|z|<1$, then $|z^{\\frac{1}{n}}|<1$.\n",
    "### - If a complex number $z$ has modulus greater than $1$, then the roots lie on a circle closer to the unit circle than $z$.\n",
    "### - If a complex number $z$ has modulus less than $1$, then the roots lie on a circle closer to the unit circle than $z$.\n",
    "### - Place the complex number $z$ on the positive real axis. For what values $n$ does $z$ have a positive real root?\n",
    "### - Place the complex number $z$ on the negative real axis. For what values $n$ does $z$ have a negative real root?"
   ]
  },
  {
   "cell_type": "code",
   "execution_count": 2,
   "id": "8a3ea111",
   "metadata": {
    "jupyter": {
     "source_hidden": true
    },
    "tags": []
   },
   "outputs": [
    {
     "data": {
      "text/html": [
       "<iframe width=\"900\" height=\"650\" src=\"https://1803mathlets.netlify.app/complexroots\" frameborder=\"0\" allow=\"accelerometer; autoplay; clipboard-write; encrypted-media; gyroscope; picture-in-picture\" allowfullscreen></iframe>  \n"
      ],
      "text/plain": [
       "<IPython.core.display.HTML object>"
      ]
     },
     "metadata": {},
     "output_type": "display_data"
    }
   ],
   "source": [
    "%%html\n",
    "<iframe width=\"900\" height=\"650\" src=\"https://1803mathlets.netlify.app/complexroots\" frameborder=\"0\" allow=\"accelerometer; autoplay; clipboard-write; encrypted-media; gyroscope; picture-in-picture\" allowfullscreen></iframe>  "
   ]
  },
  {
   "cell_type": "markdown",
   "id": "15473788",
   "metadata": {},
   "source": [
    "## 9. Roots of unity\n",
    "\n",
    "### The same method shows that the $n^{\\text{th}}$ ***roots of unity*** (the solutions to $z^n = 1$) are the numbers $e^{i\\frac{2\\pi k}{n}}$ for $k=0,1,2,\\ldots,n-1$. Taking $k=1$ gives the number $\\zeta := e^{i\\frac{2\\pi}{n}}$. In terms of $\\zeta$, the complete list of $n^{\\text{th}}$ roots of unity is\n",
    "## $$ 1, \\zeta, \\zeta^2,\\ldots,\\zeta^{n-1} $$\n",
    " \n",
    "### (after that they start to repeat: $\\zeta^n=1$).\n",
    "\n",
    "### This shows there are $n$ complex $n$-th roots of unity. Geometrically, they all lie on the unit circle in the complex plane. Each root has the form $e^{i\\theta}$, which has absolute value $1$. The roots are evenly spaced around the unit circle, starting with the root $z=1$, and the angle between two consecutive roots is $\\displaystyle \\frac{2\\pi}{n}$. These facts are illustrated for the case $n=6$ in the figure below.\n",
    "![img](img/s41.png)"
   ]
  },
  {
   "cell_type": "markdown",
   "id": "0899d7ff",
   "metadata": {},
   "source": [
    "## 10. Worked Examples\n",
    "\n",
    "### ***Example 10.1***\n",
    "### Find in Cartesian form all values of $\\sqrt[3]{1}$\n",
    "\n",
    "### ***Worked Solution***\n",
    "### The cube roots of $1$ are $1, \\omega$ and $\\omega^2$, where\n",
    "## $$ \\begin{array} {rrrclll} \\omega & = & e^{\\frac{2\\pi i}{3}} & = & \\displaystyle \\cos(\\frac{2\\pi}{3}) + i \\sin(\\frac{2\\pi}{3}) & = & \\displaystyle -\\frac{1}{2} + i \\frac{\\sqrt{3}}{2} \\\\ \\omega^2 & = & e^{\\frac{4\\pi i}{3}} & = & \\displaystyle \\cos(\\frac{4\\pi}{3}) + i \\sin(\\frac{4\\pi}{3}) & = & \\displaystyle -\\frac{1}{2} - i \\frac{\\sqrt{3}}{2} \\end{array} $$\n",
    " \t\t\t\t\t \t \n",
    "### The Greek letter $\\omega$ (“omega\") is traditionally used for this cube root.\n",
    "\n",
    "### Note that $\\omega^2 = \\overline{\\omega}$. Another way to do this problem would be to draw the position of $\\omega^2$ and $\\omega$ on the unit circle and use geometry to figure out their coordinates.\n",
    "\n",
    "### We could have predicted in advance that $e^{\\frac{4\\pi i}{3}}$ would be the complex conjugate of $e^{\\frac{2 \\pi i}{3}}$, since $e^{\\frac{4\\pi i}{3}} = e^{\\frac{4\\pi i}{3} - 2\\pi} = e^{-\\frac{2\\pi i}{3}}$. Alternatively, it had to happen since the non-real roots of a real polynomial like $z^3-1$ come in complex conjugate pairs.\n",
    "\n",
    "### ***Example 10.2***\n",
    "### Find all values of $\\sqrt[4]{i}$\n",
    "\n",
    "### ***Worked Solution***\n",
    "### In polar form, $i=e^{\\frac{i\\pi}{2}}$. Therefore the fourth roots are\n",
    "## $$ \\sqrt[4]{i} = e^{i(\\frac{\\pi}{8} + \\frac{2\\pi k}{4})} $$\n",
    " \n",
    "### You might notice that\n",
    "## $$ e^{i(\\frac{\\pi}{8} + \\frac{2\\pi k}{4})} = e^{i\\frac{\\pi}{8}}e^{i\\frac{2\\pi k}{4}} $$\n",
    "\n",
    "### where $\\displaystyle e^{i\\frac{2\\pi k}{4}}$ are the $4$th roots of unity $\\sqrt[4]{1} = 1,i,-1,-i$.\n",
    "\n",
    "### Therefore one fourth root of $i$ is $\\displaystyle z_0 = e^{i\\frac{\\pi}{8}}$, and all of the fourth roots of $i$ are given by\n",
    "## $$ \\sqrt[4]{i} = z_0, i z_0, -z_0, -i z_0 $$\n",
    " \t\t\t\t \t \n",
    "### Notice that multiplying $\\displaystyle z_0 = e^{i\\frac{\\pi}{8}}$ by $i$ is the same as a $90$ degree rotation of $z_0$.\n",
    "\n",
    "### ***Example 10.3***\n",
    "### Solve the equation $x^6-2 x^3 + 2 = 0$.\n",
    "\n",
    "### ***Worked Solution***\n",
    "\n",
    "### Treating this as a quadratic equation in $x^3$, we solve the quadratic by using the quadratic formula; the two roots are $1+i$ and $1-i$ (check this!), so the roots of the original equation satisfy either\n",
    "## $$ x^3 = 1+i\\quad \\text{or}\\quad x^3=1-i $$\n",
    " \n",
    "### This reduces the problem to finding the cube roots of the two complex numbers $1\\pm i$. We start with $1+i$ and the first step is to write it in polar form:\n",
    "## $$ \\begin{array} {rcl} 1+i & = & \\sqrt{2}e^{\\frac{\\pi i}{4}} \\\\ \\, & \\, & \\, \\\\ (1+i)^{\\frac{1}{3}} & = & \\left( 2^{\\frac{1}{2}} e^{\\frac{i\\pi}{4}} \\right)^{\\frac{1}{3}} \\\\ \\, & = & 2^{\\frac{1}{6}} e^{i\\frac{(\\frac{\\pi}{4} + 2\\pi k)}{3}} \\\\ \\, & = & 2^{\\frac{1}{6}}e^{i\\frac{(1+8k)\\pi}{12}} \\end{array} $$\n",
    "\n",
    "### There are 3 choices for $k$ to find all $3$ cube roots\n",
    "## $$ 2^{\\frac{1}{6}}e^{\\frac{i\\pi}{12}}, 2^{\\frac{1}{6}}e^{\\frac{i9\\pi}{12}}, 2^{\\frac{1}{6}}e^{-\\frac{i 7 \\pi}{12}} $$\n",
    " \n",
    "### Note that $1-i$ is the complex conjugate of $1+i$. Since we started out with a real equation, all roots must occur as complex conjugate pairs. Therefore the cube roots of $1-i$ must be the complex conjugates of the cube roots of $1+i$:\n",
    "## $$ 2^{\\frac{1}{6}}e^{-\\frac{i\\pi}{12}}, 2^{\\frac{1}{6}}e^{-\\frac{i9\\pi}{12}}, 2^{\\frac{1}{6}}e^{\\frac{i 7 \\pi}{12}} $$\n",
    " \n",
    "### You may notice that\n",
    "## $$ 2^{\\frac{1}{6}}e^{i\\frac{\\frac{\\pi}{4}+2\\pi k}{3}} = 2^{\\frac{1}{6}} e^{i\\frac{\\pi}{12}}e^{i\\frac{2\\pi k}{3}} $$\n",
    "\n",
    "### where $\\displaystyle e^{i\\frac{2\\pi k}{3}} = \\omega$ where $\\omega$ is one of the cube roots of unity, $\\omega^3 = 1$.\n",
    "\n",
    "### The cube roots can also be described as\n",
    "## $$ z_1, z_1\\omega, z_1\\omega^2 \\quad \\text{and}\\quad z_2, z_2 \\omega, z_2\\omega^2 $$\n",
    "## $$ \\text{where}\\quad z_1 = 2^{\\frac{1}{6}}e^{i\\frac{\\pi}{12}}, z_2 = \\overline{z_1} = 2^{\\frac{1}{6}}e^{-i\\frac{\\pi}{12}},\\,\\text{and}\\, \\omega=e^{i\\frac{2\\pi}{3}} $$"
   ]
  },
  {
   "cell_type": "markdown",
   "id": "d4c6628e",
   "metadata": {},
   "source": []
  }
 ],
 "metadata": {
  "kernelspec": {
   "display_name": "Python 3",
   "language": "python",
   "name": "python3"
  },
  "language_info": {
   "codemirror_mode": {
    "name": "ipython",
    "version": 3
   },
   "file_extension": ".py",
   "mimetype": "text/x-python",
   "name": "python",
   "nbconvert_exporter": "python",
   "pygments_lexer": "ipython3",
   "version": "3.8.8"
  }
 },
 "nbformat": 4,
 "nbformat_minor": 5
}
