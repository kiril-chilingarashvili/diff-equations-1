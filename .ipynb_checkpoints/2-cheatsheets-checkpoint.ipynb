{
 "cells": [
  {
   "cell_type": "markdown",
   "id": "ac74cca5",
   "metadata": {},
   "source": [
    "# Unit 1: Unit 2: Complex Exponentials and ODEs"
   ]
  },
  {
   "cell_type": "markdown",
   "id": "e79c5f6f",
   "metadata": {},
   "source": [
    "## 2. Complex numbers and the complex plane\n",
    "\n",
    "### ***Complex numbers*** are expressions of the form $a+bi$, where $a$ and $b$ are real numbers, and $i$ is a new symbol. Just as real numbers can be plotted on a line, complex numbers can be plotted in a plane: plot $a+bi$ at the point $(a,b)$.\n",
    "![img](img/complex.png)\n",
    "\n",
    "### - A complex number of the form $0+ib$ is called ***purely imaginary***.\n",
    "### - A complex number of the form $a+0i$ is called ***real***.\n",
    "\n",
    "### Multiplication will eventually be defined so that $i^2=-1$. (Electrical engineers sometimes write $j$ instead of $i$, because they want to reserve $i$ for current, but everybody else thinks that's weird.) Just as the set of all real numbers is denoted $\\mathbb{R}$, the set of all complex numbers is denoted $\\mathbb{C}$.\n",
    "\n",
    "### ***Historical origin of complex numbers***\n",
    "### Most people think that complex numbers arose from attempts to solve quadratic equations, but actually they first appeared in connection with cubic equations. Everyone knew that certain quadratic equations, like\n",
    "## $$ x^2+1=0 $$ \n",
    "### or\n",
    "## $$ x^2+2x+5=0 $$\n",
    "### had no solutions. The problem was with certain cubic equations, for example\n",
    "## $$ x^3-6x-2=0 $$\n",
    "### This equation was known to have three real roots, given by simple combinations of the expressions\n",
    "## $$ \\begin{array} {rcl} A & = & \\sqrt[3]{1 + \\sqrt{-7}} \\\\ B & = & \\sqrt[3]{1 - \\sqrt{-7}} \\end{array} $$\n",
    "### Check that one of the roots is $A + B$; it may not look like a real number, but it turns out to be one!\n",
    "\n",
    "### Note that the word complex does not mean complicated. Instead, it refers to a complex of real numbers."
   ]
  },
  {
   "cell_type": "markdown",
   "id": "f4d58cb6",
   "metadata": {},
   "source": [
    "## 3. Operations on complex numbers\n",
    "\n",
    "### ***Real part***:\n",
    "## $$ \\begin{array} {rcl} \\operatorname{Re}(a+bi) & := & a \\\\ \\operatorname{Re}(2-i) & = & 2 \\end{array} $$\n",
    "![img](img/c1.png)\n",
    "### ***Imaginary part***:\n",
    "## $$ \\begin{array} {rcl} \\operatorname{Im}(a+bi) & := & b \\\\ \\operatorname{Im}(2-i) & = & -1 \\end{array} $$\n",
    "![img](img/c2.png)\n",
    "### ***Complex conjugate***:\n",
    "## $$ \\begin{array} {rcl} \\overline{a+bi} & := & a-bi \\\\ \\overline{a+bi} & = & 2 + i \\end{array} $$\n",
    "![img](img/c3.png)"
   ]
  },
  {
   "cell_type": "markdown",
   "id": "1fb85172",
   "metadata": {},
   "source": [
    "### ***Note***: $\\operatorname{Im}(a+bi) = b$ is a real number. It is not $bi$.\n",
    "### ***Note***: To find the complex conjugate, negate the imaginary component. This reflects the complex number across the real axis.\n",
    "\n",
    "### Complex numbers can be ***added***, ***subtracted***, ***multiplied***, and ***divided***(except for division by 0). Addition, subtraction, and multiplication are defined as for polynomials, except that after multiplication one should simplify by using $i^2=-1$.\n",
    "\n",
    "### ***Example 3.1***\n",
    "\n",
    "### ***Addition***\n",
    "## $$ (a+bi)+(c+di) = (a+c) + (b+d)i $$\n",
    "## $$ (2-2i)+(3+1) = 5-i $$\n",
    "![img](img/c4.png)\n",
    "### ***Multiplication by a real number***\n",
    "## $$ c(a+bi) = (ca)+(cb)i $$\n",
    "## $$ 3(-2-i) = -6-3i $$\n",
    "### ***Multiplication of two complex numbers***\n",
    "## $$ (a+bi)(c+di) = (ac-bd)+(cb-ad)i $$\n",
    "## $$ (2+3i)(1-5i) = 2-7i-15i^2=17-7i $$\n",
    "### The only new operation is that we can now multiply two complex numbers using the rule:\n",
    "## $$ i^2=-1 $$ \n",
    "### To ***divide*** $z$ by $w$, we “realify\" the denominator by multiplying top and bottom by the complex conjugate of the denominator $\\displaystyle \\frac{\\overline{w}}{\\overline{w}}$. (“Realification\" is the same as rationalizing the denominator since $i=\\sqrt{-1}$ is a square root.)\n",
    "\n",
    "### ***Example 3.2***\n",
    "### We have\n",
    "## $$ \\frac{2+3i}{1-5i} = \\frac{2+3i}{1-5i}\\cdot\\frac{1+5i}{1+5i} = \\frac{2+13i+15i^2}{1-25i^2} = \\frac{-13+13i}{26} = -\\frac{1}{2}+\\frac{1}{2}i $$\n",
    "\n",
    "## Properties of arithmetic on complex numbers\n",
    "### The arithmetic operations on complex numbers satisfy the same properties as for real numbers($zw=wz$ etc). The mathematical jargon for this is that $\\mathbb{C}$, like $\\mathbb{R}$, is a ***field***.\n",
    "\n",
    "### ***Properties***:\n",
    "### - Closure under addition and multiplication: if $z$ and $w$ are complex numbers, so are $z+w$ and $zw$.\n",
    "### - Commutativity of addition and multiplication: $z+w = w+z$ and $zw=wz$.\n",
    "### - Associativity of addition and multiplication: $v=(z+w) = (v+z) + w$ and $v(zw)=(vz)w$.\n",
    "### - Distribution of multiplication over addition: $v(z+w) = vz+vw$.\n",
    "### - Additive inverses: $z+(-z)=0$.\n",
    "### - Multiplicative inverses: $\\displaystyle z\\frac{1}{z} = 1$ if $z\\neq 0$.\n",
    "\n",
    "### ***Example 3.3***\n",
    "### In particular, for any complex number $z$ and integer $n$, the $n-$th ***power*** $z^n$ can be defined in the usual way. (We need $z\\neq 0$ if $n<0$.)\n",
    "## $$ \\begin{array} {rcl} z^3 & := & zzz \\\\ z^0 & := & 1 \\\\ z^{-3} & := & \\frac{1}{z^3} \\end{array} $$\n",
    "### Addition and subtraction of complex numbers has the same geometric interpretation as for vectors in $\\mathbb{R}^2$. The same holds for scalar multiplication of a complex number by a real number."
   ]
  },
  {
   "cell_type": "markdown",
   "id": "4eb7ad7c",
   "metadata": {},
   "source": [
    "## 4. Complex conjugation\n",
    "\n",
    "### Complex conjugation, changing $i$ to $-i$, transforms the equation $i^2=-1$ into a true equation $(-i)^2=-1$, so it will also preserve any equation that is deduced from $i^2=-1$. The definitions of addition and multiplication used only $i^2=-1$, so addition and multiplication respect complex conjugation. For example, if complex numbers satisfy $y=z+w$, then $\\overline{y}=\\overline{z}+\\overline{w}$. In other words,\n",
    "## $$ \\overline{z+w} = \\overline{z}+\\overline{w} $$\n",
    "### Similarly,\n",
    "## $$ \\overline{zw} = \\overline{z}\\,\\overline{w} $$\n",
    "### What does this multiplication rule say if $z$ happens to be a real number $a$? Answer: $\\overline{aw} = a\\overline{w}$."
   ]
  },
  {
   "cell_type": "markdown",
   "id": "d57e2812",
   "metadata": {},
   "source": [
    "## 5. Absolute value\n",
    "\n",
    "### The ***absolute value*** (or ***magnitude*** or ***modulus***) $|z|$ of a complex number $z=a+bi$ is its distance to the origin:\n",
    "## $$ |a+bi| := \\sqrt{a^2+b^2}\\quad (\\text{this is a real number}) $$\n",
    "### We know that when we multiply a complex number by its complex conjugate, we get a real number. This real number is the square of the distance to the origin:\n",
    "## $$ z \\overline{z} = a^2+b^2=|z|^2 $$\n",
    "### For a complex number $z$, inequalities like $z<3$ do not make sense, but inequalities like $|z<3|$ do, because $|z|$ is a real number. The complex numbers satisfying $|z|<3$ are those in the open disk of radius $3$ centered at $0$ in the complex plane. (***Open*** disk means the disk without its boundary.)\n",
    "![img](img/cdisk.png)\n"
   ]
  },
  {
   "cell_type": "markdown",
   "id": "7f9bbaea",
   "metadata": {},
   "source": [
    "## 6. Some useful identities\n",
    "\n",
    "### The following are true for all complex numbers $z$:\n",
    "## $$ \\operatorname{Re}(z) = \\frac{z+\\overline{z}}{2},\\quad \\operatorname{Im}(z)=\\frac{z-\\overline{z}}{2i},\\quad \\overline{\\overline{z}} = z, \\quad z\\overline{z} = |z|^2 $$\n",
    "### For the first identity, write $z$ as $a+bi$. Then $\\operatorname{Re}(z)=a$ and $\\displaystyle\\frac{z+\\overline{z}}{2} = \\frac{(a+bi)+(a-bi)}{2} = a$ too.\n",
    "\n",
    "### The proofs of the others are similar. The identities can also be visualized geometrically:\n",
    "![img](img/cidentities.png)\n",
    "\n",
    "### Also, for any ***real*** number $c$ and complex number $z$,\n",
    "## $$ \\operatorname{Re}(cz) = c \\operatorname{Re}(z), \\quad \\operatorname{Im}(cz) = c \\operatorname{Im}(z) $$\n",
    "### ***Warning***: it is very important here that $c$ be real. To see this let's consider what multiplication by $i$ does to a complex number."
   ]
  },
  {
   "cell_type": "markdown",
   "id": "14b7357e",
   "metadata": {},
   "source": []
  }
 ],
 "metadata": {
  "kernelspec": {
   "display_name": "Python 3",
   "language": "python",
   "name": "python3"
  },
  "language_info": {
   "codemirror_mode": {
    "name": "ipython",
    "version": 3
   },
   "file_extension": ".py",
   "mimetype": "text/x-python",
   "name": "python",
   "nbconvert_exporter": "python",
   "pygments_lexer": "ipython3",
   "version": "3.6.15"
  }
 },
 "nbformat": 4,
 "nbformat_minor": 5
}
