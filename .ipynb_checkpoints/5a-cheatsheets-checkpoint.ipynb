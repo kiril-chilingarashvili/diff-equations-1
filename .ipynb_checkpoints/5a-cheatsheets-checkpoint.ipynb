{
 "cells": [
  {
   "cell_type": "markdown",
   "id": "edaee594-9751-408d-a79f-9eb7bc4681ce",
   "metadata": {},
   "source": [
    "# Unit 5: Nonlinear DEs - Part a: Nonlinear DEs: Graphical methods"
   ]
  },
  {
   "cell_type": "markdown",
   "id": "12db1039-c401-4b1f-a7ff-dc8e1ca22f0b",
   "metadata": {},
   "source": [
    "## 2. Introduction\n",
    "\n",
    "### First order (nonlinear) equations can be written in the ***standard form***:\n",
    "## $$ y' = f(x, y) $$\n",
    " \n",
    "### where $f(x, y)$ is a function of the two variables $x$ and $y$.\n",
    "\n",
    "### Notice we now have two standard forms for first order differential equations. \n",
    "### Recall first order ***linear*** equations can also be written in the standard form for linear equations:\n",
    "## $$ y'+p(x)y = q(x) $$\n",
    "\n",
    "### This unit is concerned with first order ***nonlinear*** differential equations, such as the one boxed in blue in the video:\n",
    "## $$ y' = x - y^2 $$\n",
    "\n",
    "### The sad fact is that we can hardly ever find formulas for the solutions to nonlinear DEs. Instead we try to understand the qualitative behavior of solutions using geometric methods or approximations."
   ]
  },
  {
   "cell_type": "markdown",
   "id": "d6a93e69-b5db-4530-b626-dd19d4917b62",
   "metadata": {},
   "source": [
    "## 3. Geometric view of DEs\n",
    "\n",
    "### The figure below is the geometric picture of the differential equation $y' = f(x, y)$. This sketch is called a ***slope field***.\n",
    "![img](img/sc16.png)\n",
    "\n",
    "### ***Definition 3.1***\n",
    "### For a differential equation $y' = f(x, y)$ a ***slope field*** is a diagram which includes at each point $(x, y)$ a short line element (or line segment) whose slope is the ***value*** $f(x, y)$.\n",
    "![img](img/sc17.png)\n",
    "\n",
    "### The graph of a solution $y_1(x)$ to the DE in the $xy$-plane is called a ***solution curve*** or an ***integral curve***.\n",
    "\n",
    "### An integral curve must be tangent to the slope field at every point:\n",
    "## $$ y_1'(x) = f(x, y_1(x)) $$"
   ]
  },
  {
   "cell_type": "markdown",
   "id": "deb17111-fe0e-4357-a3db-b4621bdd421e",
   "metadata": {},
   "source": [
    "## 4. Slope field\n",
    "\n",
    "### ***Example 4.1***\n",
    "### Sketch the slope field for $y' = y^2 - x$.\n",
    "\n",
    "### ***Solution***:\n",
    "### Let $f(x, y) := y^2 - x$. Then\n",
    "### $f(1, 2) = 3$, so at $(1,2)$ draw a short segment of slope $3$;\n",
    "### $f(0, 0) = 0$, so at $(0,0)$ draw a short segment of slope $0$;\n",
    "### $f(1, 0) = -1$, so at $(1,0)$ draw a short segment of slope $-1$;\n",
    "### $f(0, 1) = 1$, so at $(0,1)$ draw a short segment of slope $1$;\n",
    " \t\n",
    "### The diagram of all these short segments is the slope field. You can see how tedious this process is; a computer will sketch the slope field much more quickly. You can see the slope field for this example in the Mathlet below by choosing the right function and parameter."
   ]
  },
  {
   "cell_type": "code",
   "execution_count": 1,
   "id": "b70f72be-c98c-46b2-8c18-3a2a146d7241",
   "metadata": {
    "jupyter": {
     "source_hidden": true
    },
    "tags": []
   },
   "outputs": [
    {
     "data": {
      "text/html": [
       "<iframe width=\"900\" height=\"650\" src=\"https://1803mathlets.netlify.app/isoclines.html\" frameborder=\"0\" allow=\"accelerometer; autoplay; clipboard-write; encrypted-media; gyroscope; picture-in-picture\" allowfullscreen></iframe>  \n"
      ],
      "text/plain": [
       "<IPython.core.display.HTML object>"
      ]
     },
     "metadata": {},
     "output_type": "display_data"
    }
   ],
   "source": [
    "%%html\n",
    "<iframe width=\"900\" height=\"650\" src=\"https://1803mathlets.netlify.app/isoclines.html\" frameborder=\"0\" allow=\"accelerometer; autoplay; clipboard-write; encrypted-media; gyroscope; picture-in-picture\" allowfullscreen></iframe>  "
   ]
  },
  {
   "cell_type": "markdown",
   "id": "645163b6-1471-49e2-ba88-71dd917575d4",
   "metadata": {},
   "source": [
    "### ***Slope Fields***\n",
    "### The mathlet above shows many slope fields for various functions. You can click on points to see the solution curve through that point.\n",
    "\n",
    "### Why draw a slope field? The ODE is telling us that the slope of the solution curve at each point is the value of $f(x, y)$, so the short segment is, to first approximation, a little piece of the solution curve. To get an entire solution curve, follow the segments!\n",
    "\n",
    "### We will get practice thinking about slope field and solution curves next."
   ]
  },
  {
   "cell_type": "markdown",
   "id": "8536e995-bf85-4b64-935a-df9aa52a49bf",
   "metadata": {},
   "source": [
    "## 6. Isoclines\n",
    "\n",
    "### ***Definition 6.1***\n",
    "### For a number $C$ the ***$C$-isocline*** is the set of points in the $(x, y))$-plane such that the solution curve through that point has slope $C$. (Isocline means “same incline\", or “same slope\".)\n",
    "\n",
    "### ***Question 6.2***\n",
    "### What is the equation for the $C$-isocline?\n",
    "\n",
    "### ***Answer***:\n",
    "### The ODE says that the slope of the solution curve through a point $(x, y)$ is $f(x, y)$, so the ***equation of the ***$C$-isocline*** is\n",
    "## $$ f(x, y) = C $$"
   ]
  },
  {
   "cell_type": "markdown",
   "id": "d2838c58-2b14-411c-8ff8-9f1d3f01a64b",
   "metadata": {},
   "source": [
    "## 7. Zero Isoclines\n",
    "\n",
    "### Isoclines organize the slope field. The $0$-isocline, also called the ***nullcline*** , is especially helpful. The critical points of all solutions to the DE lie on the $0$-isocline.\n",
    "\n",
    "### ***Example 7.1***\n",
    "### For $y' = y^2 - x$, what is the $0$-isocline?\n",
    "\n",
    "### ***Solution***:\n",
    "### Here $f(x, y) := y^2 - x$, so the $0$-isocline is the curve $y^2 - x = 0$, which is a parabola concave to the right. At every point of this parabola, the slope of the solution curve is $0$.\n",
    "![img](img/sc18.png)\n",
    " \n",
    "### ***Example 7.2***\n",
    "### For $y' = y^2 - x$, where are the points at which the slope of the solution curve is positive?\n",
    "\n",
    "### ***Solution***:\n",
    "### This will be the region in which $f(x, y) > 0$. The $0$-isocline $f(x, y)$ divides the plane into regions, and $f(x, y)$ has constant sign on each region. To test the sign, check one point in each region.\n",
    "\n",
    "### Recall $f(x, y) = y^2 - x$. Since $f(-1, 0) = 0^2 - (-1) > 0$ by continuity it follows that $f(x, y) > 0$ in the entire region to the left of the parabola. Similarly, since $f(1, 0) = 0^2 - (1)$ it follows that $f(x, y)$ in the region to the right of the parabola. Therefore, the answer is that the slope of the solution curve is negative in the region to the right of the parabola, and the slope of the solution is positive in the region to the left.\n",
    "![img](img/sc19.png)"
   ]
  },
  {
   "cell_type": "markdown",
   "id": "b4e8250e-e476-45f1-ba52-75d45616f01b",
   "metadata": {},
   "source": [
    "## 10. Existence and uniqueness revisited\n",
    "\n",
    "### We have already discussed the existence and uniqueness theorem for linear ODEs. Here is a version of the theorem that also works for first order nonlinear ODEs.\n",
    "\n",
    "### ***Theorem 10.1***\n",
    "### Existence and uniqueness theorem for a first order (linear or nonlinear) ODE.\n",
    "### Consider a first order ODE\n",
    "## $$ y' = f(x, y) $$\n",
    " \n",
    "### For any point $(x_0, y_0)$ if $f(x, y)$ and $\\displaystyle \\frac{\\partial f}{\\partial y}$ are continuous near $(x_0, y_0)$ then there is a unique solution to the first order DE through the point $(x_0, y_0)$\n",
    "\n",
    "### As a consequence of uniqueness, we have the following two geometric features:\n",
    "### 1. Solutions curves cannot cross.\n",
    "### 2. Solutions curves cannot become tangent to one another; that is, they cannot touch."
   ]
  },
  {
   "cell_type": "markdown",
   "id": "0945eb25-ba56-415d-9fde-c0db637c4406",
   "metadata": {},
   "source": [
    "### Solution Target mathlet\n",
    "\n",
    "### This is a game to find a solution curve through a specific point called the target. If you click on the target itself, the mathlet will draw the solution curve through it. When you click on another point, the mathlet will draw the solution curve through that point. You can try to aim for the solution through the target by clicking on other points than the target.\n",
    "\n",
    "### You may notice in some examples, the consequences of uniqueness seem to fail. Why is that the case?"
   ]
  },
  {
   "cell_type": "code",
   "execution_count": 2,
   "id": "2cd21ca2-95cf-4186-9aeb-535df1fbeb67",
   "metadata": {
    "jupyter": {
     "source_hidden": true
    },
    "tags": []
   },
   "outputs": [
    {
     "data": {
      "text/html": [
       "<iframe width=\"900\" height=\"650\" src=\"https://1803mathlets.netlify.app/solutiontargets\" frameborder=\"0\" allow=\"accelerometer; autoplay; clipboard-write; encrypted-media; gyroscope; picture-in-picture\" allowfullscreen></iframe>\n"
      ],
      "text/plain": [
       "<IPython.core.display.HTML object>"
      ]
     },
     "metadata": {},
     "output_type": "display_data"
    }
   ],
   "source": [
    "%%html\n",
    "<iframe width=\"900\" height=\"650\" src=\"https://1803mathlets.netlify.app/solutiontargets\" frameborder=\"0\" allow=\"accelerometer; autoplay; clipboard-write; encrypted-media; gyroscope; picture-in-picture\" allowfullscreen></iframe>"
   ]
  },
  {
   "cell_type": "markdown",
   "id": "1601dd76-6599-4ae6-a986-9748f457bc00",
   "metadata": {},
   "source": [
    "## 11. When Existence and Uniqueness fails\n",
    "\n",
    "### ***Problem 11.1***\n",
    "### Find the general solution to the ODE\n",
    "## $$ xy' = y-1 $$\n",
    " \n",
    "### ***Solution***:\n",
    "### Using separation of variables, we have\n",
    "## $$ \\begin{array} {rcl} \\displaystyle x\\frac{dy}{dx} & = & y-1 \\\\ \\displaystyle \\implies \\frac{dy}{y-1} & = & \\displaystyle \\frac{dx}{x}\\quad(y\\neq 1,x\\neq 0) \\\\ \\implies \\ln|y-1| & = & \\ln|x|+c \\\\ \\implies |y-1| & = & C|x|\\quad(C>0) \\\\ \\implies y-1 & = & \\pm C x \\quad(C\\neq 0) \\end{array} $$\n",
    "\n",
    "### To bring back the solution $y=1$, we allow $C=0$ as well."
   ]
  },
  {
   "cell_type": "markdown",
   "id": "180ae70c-7a2f-4261-836f-21e7e64632f2",
   "metadata": {},
   "source": [
    "## At the points where the hypotheses of the existence and uniqueness theorem fail, the conclusion of the theorem may also fail. Here is an example demonstrating this.\n",
    "\n",
    "### ***Example 11.2***\n",
    "### Draw the solution curves for $\\displaystyle y' = \\frac{2y}{x}$.\n",
    "\n",
    "### ***Solution***:\n",
    "### Here $\\displaystyle f(x, y) = \\frac{2y}{x}$ which is undefined when $x=0$ so things might go wrong along the $y$-axis, and in fact they ***do*** go wrong.\n",
    "\n",
    "### Solve the ODE by separation of variables:\n",
    "## $$ \\begin{array} {rcl} \\displaystyle \\frac{dy}{dx} & = & \\displaystyle \\frac{2y}{x}\\quad(x\\neq 0) \\\\ \\displaystyle \\frac{dy}{y} & = & \\displaystyle \\frac{2dx}{x}\\quad(\\text{assuming also that}\\,y\\neq 0) \\\\ \\displaystyle \\int \\frac{dy}{y} & = & \\displaystyle \\int \\frac{2dx}{x} \\\\ \\ln|y| & = & 2 \\ln|x| + C \\quad(\\text{for some constant}\\, C) \\\\ y & = & \\pm e^{2 \\ln|x| + C} \\\\ y & = & \\pm|x|^2 e^C \\\\ y & = & c x^2 \\quad(x\\neq 0) \\end{array} $$\n",
    "\n",
    "### where $c:=\\pm e^{C}$ which can be any nonzero real number. To bring back the solution $y=0$, we allow $c=0$ as well.\n",
    "![img](img/sc20.png)\n",
    "\n",
    "### Weird behavior happens along $x=0$ where $\\displaystyle y' = \\frac{2y}{x}$ is not even defined:\n",
    "### - Through any point $(0, b)$ on the $y$-axis, there is ***no*** solution curve. The existence theorem does not apply.\n",
    "### - Geometrically, the parabolas become tangent at the origin. This would be ruled out by uniqueness if the uniqueness theorem applied. The full parabolas are not solutions; the solution curves are half parabolas defined for either all $x<0$ or all $x>0$.\n",
    "\n",
    "### Both existence and uniqueness apply to every point outside the $y$-axis. The rest of the plane (outside the $y$-axis) is covered with good solution curves, one through each point, none touching or crossing the others.\n",
    "\n",
    "### There is no connection between any half parabola on the left and any half parabola on the right."
   ]
  },
  {
   "cell_type": "markdown",
   "id": "ad55d6db-90cc-468a-b379-3e6d13d69437",
   "metadata": {},
   "source": []
  }
 ],
 "metadata": {
  "kernelspec": {
   "display_name": "Python 3",
   "language": "python",
   "name": "python3"
  },
  "language_info": {
   "codemirror_mode": {
    "name": "ipython",
    "version": 3
   },
   "file_extension": ".py",
   "mimetype": "text/x-python",
   "name": "python",
   "nbconvert_exporter": "python",
   "pygments_lexer": "ipython3",
   "version": "3.8.8"
  }
 },
 "nbformat": 4,
 "nbformat_minor": 5
}
