{
 "cells": [
  {
   "cell_type": "markdown",
   "id": "6d5f674f-5dff-4c61-a41f-8972c7982c33",
   "metadata": {},
   "source": [
    "# Unit 3: Damped Oscillations - Part a: Sinusoidal Functions"
   ]
  },
  {
   "cell_type": "markdown",
   "id": "f578bed4-1ecd-4d6f-a833-0eccd2ddd961",
   "metadata": {},
   "source": [
    "## 3. Real solutions to spring-mass-dashpot system\n",
    "\n",
    "![img](img/sc01.png) \n",
    "\n",
    "### In the last lecture, we modeled the spring-mass-dashpot system with no external force by the second order linear homogenous DE\n",
    "## $$ m\\ddot{x}+b\\dot{x}+k x = 0, \\quad m,k>0,\\,b\\geq0 $$\n",
    " \n",
    "### When there are two distinct characteristic complex roots, that is, when the discriminant $b^2-4km < 0$ the real basis that you found in the previous problem gives the general real solution:\n",
    "## $$ x(t) = e^{-\\frac{b}{2m} t} (c_1 \\cos(\\omega_d t) + c_2 \\sin(\\omega_d t)),\\quad c_1,c_2\\in \\mathbb{R} $$\n",
    "\n",
    "### where $\\displaystyle \\omega_d = \\sqrt{\\frac{k}{m} - \\frac{b^2}{4m^2}}$ is called the ***damped frequency*** of the system.\n",
    "![img](img/sc02.png)\n",
    "\n",
    "### It is useful to contrast the solutions of the general spring-mass-dashpot system with the solutions to the system with no dashpot (damping), i.e. $b=0 (<\\sqrt{4km})$ If the system has no damping, the DE reduces to\n",
    "## $$ m\\ddot{x}+kx=0,\\quad m,k>0 $$\n",
    " \n",
    "### and the general real solution reduces to\n",
    "## $$ x(t) = c_1 \\cos(\\omega_n t) + c_2\\sin(\\omega_n t),\\quad c_1, c_2 \\in \\mathbb{R} $$\n",
    "\n",
    "### where $\\displaystyle \\omega_n = \\sqrt{\\frac{k}{m}}$ is called the ***natural frequency*** of the system. We will continue to call the value of $\\omega_n$ the natural frequency of the system even if damping is present ($b>0$).\n",
    "\n",
    "### ***Question 3.1***   What do these general solutions look like? Both of these general solutions involve linear combinations of $\\cos(\\omega t)$ and $\\sin(\\omega t)$ for some angular frequency $\\omega$ that is the same for both the sine and cosine functions. What do the graphs of such linear combinations look like?\n",
    "\n",
    "### To make graphing these solutions easy, we will first rewrite the linear combination $a \\cos(\\theta) + b \\sin(\\theta)$ in polar form."
   ]
  },
  {
   "cell_type": "markdown",
   "id": "a8c51f86-588f-403b-895f-c02fdc018428",
   "metadata": {},
   "source": [
    "## 4. From rectangular to polar form\n",
    "\n",
    "### There are two ways of expressing any sinusoidal function, in rectangular form and in polar form. They are related as follows:\n",
    "## $$ \\begin{array} {rcl} \\underbrace{{\\color{blue}{a}}\\cos(\\theta) +{\\color{blue}{b}}\\sin(\\theta) }_{{\\color{blue}{\\text{rectangular form}}}} & = & \\underbrace{{\\color{orange}{A}}\\cos(\\theta-{\\color{orange}{\\phi}} )}_{{\\color{orange}{\\text{polar form}}}}\\quad {\\color{blue}{a}},{\\color{blue}{b}},{\\color{orange}{\\phi}}\\in\\mathbb{R},\\,{\\color{orange}{A}}\\geq 0\\in\\mathbb{R} \\\\ \\, & = & \\underbrace{{\\color{orange}{A}}\\cos({\\color{orange}{\\phi}}) }_{{\\color{blue}{a}}}\\cos(\\theta)+\\underbrace{{\\color{orange}{A}}\\sin({\\color{orange}{\\phi}}) }_{{\\color{blue}{b}}}\\sin(\\theta) \\quad \\text{by the trig sum formula} \\end{array} $$\n",
    "### where $A$ and $\\phi$ in terms of $a$ and $b$ are given implicitly by the following diagram:\n",
    "![img](img/sc03.png)\n",
    "\n",
    "### That is,\n",
    "## $$ \\begin{array} {rcl} A & = & \\sqrt{a^2+b^2} \\\\ \\phi & : & \\text{Angle betw. the posit. horiz. axis and the ray to the point}\\,(a,b) \\end{array} $$\n",
    "\n",
    "### Note that $(A, \\phi)$ are polar coordinates of the point with rectangular coordinates $(a,b)$. We will use the convention $A\\geq 0$. As usual for polar coordinate, the angle $\\phi$ is well-defined only up to addition of integer multiples of $2\\pi$.\n",
    "\n",
    "### It is amazing that the sum of two sinusoids is another sinusoid! And while graphing the sinusoid in rectangular form is a mystery, graphing the polar form is easy. We will do this shortly."
   ]
  },
  {
   "cell_type": "markdown",
   "id": "0dab3998-4c87-4a22-9110-c5da09a5841a",
   "metadata": {},
   "source": [
    "## 5. Worked Example\n",
    "\n",
    "### In practice, the argument of the cosine and sine terms is often a function rather than a constant angle. In this course, we usually have\n",
    "## $$ \\theta = \\omega t\\quad \\text{for some}\\, \\omega>0 $$\n",
    "\n",
    "### ***Example 5.1***\n",
    "### Convert $-\\cos(5t)-\\sqrt{3}\\sin(5t)$ to polar form.\n",
    "\n",
    "### ***Solution***:\n",
    "\n",
    "### Given: $a=-1, b=-\\sqrt{3}, \\theta(t) = \\omega t$ where $\\omega = 5$.\n",
    "\n",
    "### Want: $A, \\phi$. These are polar coordinates of the point with rectangular coordinates $(a,b)$.\n",
    "![img](img/sc04.png)\n",
    "\n",
    "### Using the diagram above,\n",
    "## $$ \\begin{array} {rcl} A & = & \\sqrt{(-1)^2+(-\\sqrt{3})^2} = 2 \\\\ \\phi & = & \\displaystyle -\\frac{2\\pi}{3} \\end{array} $$\n",
    "\n",
    "### Therefore, the answer is\n",
    "## $$ A\\cos(\\omega t-\\phi) = 2\\cos(5t+\\frac{2\\pi}{3}) $$\n",
    " \n",
    "### Note that $\\displaystyle \\frac{4\\pi}{3}$ (or $\\displaystyle -\\frac{2\\pi}{3}+2\\pi n$ for any integer $n$) also works since $\\phi$ is well-defined up to addition of $2\\pi$ "
   ]
  },
  {
   "cell_type": "markdown",
   "id": "68b3064e-1771-4f3f-a78a-778a4ef42d50",
   "metadata": {},
   "source": [
    "## 6. The equivalence of the three forms\n",
    "\n",
    "### There are three ways to write a sinusoid function of angular frequency $\\omega$:\n",
    "\n",
    "### - ***amplitude-phase form***: $A\\cos(\\omega t-\\phi)$, where $A$ and $\\phi$ are real numbers with $A\\geq 0$\n",
    "### - ***complex form***: $\\operatorname{Re}(ce^{i\\omega t})$, where $c$ is a complex number\n",
    "### - ***linear combination***: $a\\cos(\\omega t)+b\\sin(\\omega t)$, where $a$ and $b$ are real numbers\n",
    "\n",
    "### Different forms are useful in different contexts, so we'll need to know how to convert between them. The following proposition explains how.\n",
    "\n",
    "### ***Proposition 6.1***\n",
    "### If constants $A,\\omega,\\phi,a,b,c$ are set so that the equations\n",
    "## $$ \\overline{c} = Ae^{i\\phi}=a+bi,\\quad c\\in\\mathbb{C},\\quad A\\geq 0,a,b,\\phi\\in\\mathbb{R} $$\n",
    " \n",
    "### hold, then\n",
    "## $$ \\operatorname{Re}(ce^{i\\omega t}) = A\\cos(\\omega t-\\phi) = a \\cos(\\omega t) + b\\sin(\\omega t),\\quad \\omega>0\\in\\mathbb{R} $$\n",
    " \n",
    "### ***Use these key equations to convert between the three forms!***\n",
    "\n",
    "### ***Warning***:\n",
    "### Don't forget that it is $\\overline{c}$ and not $c$ itself that appears in the key equations. An equivalent form of the key equations (obtained by taking complex conjugates) is\n",
    "## $$ c=Ae^{-i\\phi} = a-bi $$\n",
    " \n",
    "### If you ever forget the key equations above, you can do the conversion manually by going through the steps in the proofs below.\n",
    "\n",
    "### ***Proofs***:\n",
    "### 1.\n",
    "## $$ \\begin{array} {rcl} \\operatorname{Re}(ce^{i\\omega t}) & = & \\operatorname{Re}(A e^{-i\\phi}e^{i\\omega t}) \\\\ \\, & = & \\operatorname{Re}(A e^{i(\\omega t-\\phi)}) \\\\ \\, & = & A\\cos(\\omega t - \\phi) \\end{array} $$\n",
    "### 2.\n",
    "## $$ \\begin{array} {rcl} \\operatorname{Re}(c^{i\\omega t}) & = & \\operatorname{Re}((a-bi)(\\cos(\\omega t)+i\\sin(\\omega t))) \\\\ \\, & = & \\operatorname{Re}(a\\cos(\\omega t) + b\\sin(\\omega t) + i(\\cdots)) \\\\ \\, & = & a\\cos(\\omega t) + b\\sin(\\omega t) \\end{array} $$\n",
    "\n",
    "### 3. Using $\\cos(x-y) = \\cos(x)\\cos(y) + \\sin(x)\\sin(y)$ we have\n",
    "## $$ \\begin{array} {rcl} A\\cos(\\omega t - \\phi) & = & A\\cos(\\omega t) \\cos(\\phi) + A\\sin(\\omega t)\\sin(\\phi) \\\\ \\, & = & a\\cos(\\omega t) + b\\sin(\\omega t) \\end{array}  $$\n",
    " \t \t\t \t \n",
    "### The last step follows from $a=A\\cos(\\phi)$ and $b=A\\sin(\\phi)$ since $A,\\phi$ are polar coordinates of $(a,b)$.\n",
    "\n",
    "### 4.\n",
    "## $$ \\begin{array} {rcl} a\\cos(\\omega t) + b\\sin(\\omega t) & = & (a,b)\\cdot (\\cos(\\omega t), \\sin(\\omega t)) \\\\ \\, & = & |(a,b)||(\\cos(\\omega t), \\sin(\\omega t))| \\cos(\\text{angle between vectors}\\,(a,b)\\,\\text{and}\\,(\\cos(\\omega t), \\sin(\\omega t))) \\\\ \\, & & \\text{(by the geometric interpretation of the dot product)} \\\\ \\, & = & A\\cos(\\omega t - \\phi) \\end{array} $$"
   ]
  },
  {
   "cell_type": "markdown",
   "id": "b6ebf1ed-6207-4763-a0d1-acbe30269cd6",
   "metadata": {},
   "source": [
    "## 7. Graphing sinusoidal functions\n",
    "\n",
    "### In polar form, it is easy to see that the graph of the sinusoidal function $f(t) = A\\cos(\\omega t-\\phi)$ is a rescaled and shifted version of the cosine graph, as shown below:\n",
    "![img](img/sc05.png)\n",
    " \n",
    "### This graph of $f(t)$ can be described geometrically in terms of\n",
    "### $A$, its ***amplitude***, how high the graph rises above the $t$-axis at its maximum;\n",
    "### $P$ (in ***seconds*** or ***seconds per cycle***), its ***period***, the time for one complete oscillation, or equivalently the width between successive maxima;\n",
    "### $t_0$ (in ***seconds***), its ***time lag*** (relative to the cosine curve), a $t$-value at which a maximum is attained. The time lag is well defined up to the addition of integer multiples of a period.\n",
    "\n",
    "### ***Question 7.1***\n",
    "### How are the parameters describing the graph, $P$ and $t_0$ related to the parameters, $\\omega$ and $\\phi$ in the function $f(t)$?\n",
    "\n",
    "### ***Answer***:\n",
    "### - $\\displaystyle P = \\frac{2\\pi}{\\omega}$ since adding $\\displaystyle \\frac{2\\pi}{\\omega}$ to $t$ increases the angle $\\omega t - \\phi$ by $2\\pi$.\n",
    "### - $\\displaystyle t_0 = \\frac{\\phi}{\\omega}$ since $t_0$ is the $t$-value for which the angle $\\omega t - \\phi = 0$.\n",
    "\n",
    "### There is also ***frequency*** $\\displaystyle \\nu := \\frac{1}{P}$ (in ***Hertz =cycles per second***), the number of complete oscillations per second. To convert from frequency $\\nu$ to angular frequency $\\omega$, multiply by $\\displaystyle \\frac{2\\pi\\,\\text{radians}}{1\\,\\text{cycle}}$; thus $\\displaystyle \\omega = 2\\pi \\nu = \\frac{2\\pi}{P}$, which is consistent with the formula $\\displaystyle P = \\frac{2\\pi}{\\omega}$ above.\n",
    "\n",
    "### ***Steps to graph*** $f(t) = A\\cos(\\omega t - \\phi)$:\n",
    "\n",
    "### Start with the curve $y(\\theta) = \\cos(\\theta)$ Then “work from the outside in.\"\n",
    "\n",
    "### 1. Amplify (stretch vertically) by a factor of $A$ the ***amplitude***. You now have the graph of $y(\\theta) = A\\cos(\\theta)$.\n",
    "### 2. Shift the graph by $\\phi$ (in ***radians***) to the right. You now have the graph of $y(\\theta) = A\\cos(\\theta-\\phi)$\n",
    "###    The angle $\\phi$ is called the ***phase lag*** or ***phase shift*** (relative to the cosine curve). The first maximum of the graph of $A\\cos(\\theta-\\phi)$ is at $\\theta = \\phi$ shifted from $\\theta = 0$ in the graph of $A\\cos(\\theta)$\n",
    "### 3. Compress the result horizontally by ***dividing*** by the scale factor $\\omega$ (in ***radians/second***), the ***angular frequency***. The result is the graph of $f(t) = A\\cos(\\omega t - \\phi)$ \n",
    "\n",
    "###    With this horizontal rescaling, the horizonal axis changes from the $\\theta$-axis (in radians) to the $t$-axis (in seconds). The first maximum of the rescaled graph is at $\\displaystyle t_0 = \\frac{\\phi}{\\omega}$ instead of at $\\theta = \\phi$ and one complete oscillation takes $\\displaystyle \\frac{2\\pi}{\\omega}$ instead of $2\\pi$.\n",
    "\n",
    "### ***Remark***: \n",
    "### The phase lag $\\phi$ tells us by what ***fraction of a cycle*** the graph of $f(t)$ is shifted from a cosine graph of the same frequency. For example, the graph of $\\displaystyle f(t) = A\\cos(\\omega t - \\frac{\\pi}{2})$ is shifted by $\\displaystyle \\frac{1}{4}$ of a cycle to the right from the graph of $A\\cos(\\omega t)$. On the other hand, the time lag $t_0$ tells us by ***how much time*** the graph of $\\displaystyle f(t) = A\\cos(\\omega t - \\frac{\\pi}{2}) = A\\cos(\\omega(t-t_0))$ is shifted to the right from the graph of $A\\cos(\\omega t)$. Also note that $\\displaystyle \\frac{\\phi}{2\\pi} = \\frac{t_0}{P}$\n",
    "\n",
    "### Link to glossary of terms can be found [here](https://ocw.mit.edu/courses/18-03sc-differential-equations-fall-2011/6aa608816eca943e2bd9cff517d88362_MIT18_03SCF11_s7_1text.pdf)."
   ]
  },
  {
   "cell_type": "markdown",
   "id": "7e6e27fe-b7ae-4baf-ae75-8cbd45d18261",
   "metadata": {},
   "source": [
    "## 8. Trigonometric identity mathlet"
   ]
  },
  {
   "cell_type": "code",
   "execution_count": 1,
   "id": "c4750810-3d5c-4a10-aa0a-68a40c02b84e",
   "metadata": {
    "jupyter": {
     "source_hidden": true
    },
    "tags": []
   },
   "outputs": [
    {
     "data": {
      "text/html": [
       "<iframe width=\"900\" height=\"650\" src=\"https://1803mathlets.netlify.app/trigid\" frameborder=\"0\" allow=\"accelerometer; autoplay; clipboard-write; encrypted-media; gyroscope; picture-in-picture\" allowfullscreen></iframe> \n"
      ],
      "text/plain": [
       "<IPython.core.display.HTML object>"
      ]
     },
     "metadata": {},
     "output_type": "display_data"
    }
   ],
   "source": [
    "%%html\n",
    "<iframe width=\"900\" height=\"650\" src=\"https://1803mathlets.netlify.app/trigid\" frameborder=\"0\" allow=\"accelerometer; autoplay; clipboard-write; encrypted-media; gyroscope; picture-in-picture\" allowfullscreen></iframe> "
   ]
  },
  {
   "cell_type": "markdown",
   "id": "7d8848e9-e00a-4886-981d-587f2cd298b7",
   "metadata": {},
   "source": [
    "## 11. Amplitude phase forms of solutions to spring-mass-dashpot system\n",
    "\n",
    "![img](img/sc06.png)\n",
    "\n",
    "### Previously we found the solution of a spring-mass-dashpot system with $m=1, b=4, k =5$ and initial conditions $y(0) = 1, y'(0) = 0$. Recall the solution is\n",
    "## $$ y(t) = e^{-2t}(\\cos(t) + 2\\sin(t)) $$\n",
    "\n",
    "### Now we will start with this solution and convert it into amplitude-phase form.\n",
    "\n",
    "### The main difference between solutions to an undamped system and a damped system (where $b$ is small enough so there are two complex roots) is that real solutions to the damped system have an additional overall exponential factor.\n",
    "\n",
    "### The general real solution to $m\\ddot{y}+b\\dot{y}+ky = 0$ (when $b^2<4km$) is:\n",
    "## $$ \\begin{array} {rcl} y(t) & = & e^{-\\frac{b}{2m}t}(c_1\\cos(\\omega_d t)+c_2\\sin(\\omega_d t) ) \\\\ \\, & = & e^{-\\frac{b}{2m}t}(A\\cos(\\omega_d t - \\phi)) \\\\ \\, & = & \\left(A e^{-\\frac{b}{2m}t}\\right) \\cos(\\omega_d t - \\phi) \\end{array} $$\n",
    "\n",
    "### Since cosine oscillates between $1$ and $-1$, the function $y(t)$ oscillates between $Ae^{-\\frac{b}{2m}t}$ and $-Ae^{-\\frac{b}{2m}t}$. We call the graphs of $\\pm Ae^{-\\frac{b}{2m}t}$ the ***envelope*** of the oscillations."
   ]
  },
  {
   "cell_type": "markdown",
   "id": "dca70c95-4fa5-41a2-8875-5f4b187abc05",
   "metadata": {},
   "source": [
    "## 12. Damped sinusoid revisited\n",
    "\n",
    "### The system response for an unforced spring-mass-dashpot system with small damping term ($b^2<4km$) is called a ***damped sinusoid*** and is of the form\n",
    "## $$ x(t) = \\left( A e^{-\\frac{b}{2m}t} \\right) \\cos(\\omega t - \\phi) $$\n",
    "\n",
    "### In the last problem, we have just seen that the exponential factor does not affect the frequency of the oscillations: $x(t)$ crosses the equilibrium whenever the pure sinusoid $\\cos(\\omega t - \\phi)$ does.\n",
    "\n",
    "### Therefore, the period $P$ and the time lag $t_0$ still make sense and have the same formulas as for the pure sinusoid $\\cos(\\omega t - \\phi)$\n",
    "## $$ \\begin{array} {rcl} t_0 & = & \\displaystyle \\frac{\\phi}{\\omega} \\\\ P & = & \\displaystyle \\frac{2\\pi}{\\omega} \\end{array} $$\n",
    "\n",
    "### Because the graph of $x(t)$ is not truly periodic–its amplitude is decreasing, we call $P$ the ***pseudo-period***.\n",
    "\n",
    "### For damped sinusoids, the time lag $t_0$ is easier to see from the shifts of zeros. The value of $t_0$ is the time difference between a zero of $x(t)$ and a corresponding zero of $\\cos(\\omega t)$.\n",
    "\n",
    "### (You can check using calculus that the local extrema of $x(t)$ are no longer at the same $t$-values as those of the pure sinusoid $\\cos(\\omega t - \\phi)$. However, they are still equally spaced. Consecutive local maxima of a damped sinusoid are still a full period $P$ apart.)\n",
    "\n",
    "### A series of exercises in recitation will take you through the steps of graphing a damped sinusoid."
   ]
  },
  {
   "cell_type": "markdown",
   "id": "bb303265-1daa-4d6b-973b-34815b24cde0",
   "metadata": {},
   "source": [
    "## 13. Mathlet: Beats"
   ]
  },
  {
   "cell_type": "code",
   "execution_count": 2,
   "id": "6ae3fe5e-b258-473b-902b-86b84fededa7",
   "metadata": {
    "jupyter": {
     "source_hidden": true
    },
    "tags": []
   },
   "outputs": [
    {
     "data": {
      "text/html": [
       "<iframe width=\"900\" height=\"650\" src=\"https://1803mathlets.netlify.app/beats.html\" frameborder=\"0\" allow=\"accelerometer; autoplay; clipboard-write; encrypted-media; gyroscope; picture-in-picture\" allowfullscreen></iframe>\n"
      ],
      "text/plain": [
       "<IPython.core.display.HTML object>"
      ]
     },
     "metadata": {},
     "output_type": "display_data"
    }
   ],
   "source": [
    "%%html\n",
    "<iframe width=\"900\" height=\"650\" src=\"https://1803mathlets.netlify.app/beats.html\" frameborder=\"0\" allow=\"accelerometer; autoplay; clipboard-write; encrypted-media; gyroscope; picture-in-picture\" allowfullscreen></iframe>"
   ]
  },
  {
   "cell_type": "markdown",
   "id": "5ede7c9d-ee80-46da-b8af-8369f4727d15",
   "metadata": {},
   "source": [
    "## Beats\n",
    "\n",
    "### ***Beats*** occur when two very nearby pitches are sounded simultaneously.\n",
    "\n",
    "### ***Problem 13.1***\n",
    "### Consider two sinusoid sound waves of angular frequencies $\\omega + \\epsilon$ and $\\omega - \\epsilon$, say $\\cos((\\omega+\\epsilon)t)$ and $\\cos((\\omega-\\epsilon)t)$, where $\\epsilon$ is much smaller than $\\omega$. What happens when they are superimposed?\n",
    "\n",
    "### ***Solution***: \n",
    "### The sum is\n",
    "## $$ \\begin{array} {rcl} \\cos((\\omega+\\epsilon)t) + \\cos((\\omega-\\epsilon)t)) & = & \\operatorname{Re}(e^{i(\\omega+\\epsilon)t})+\\operatorname{Re}(e^{i(\\omega-\\epsilon)t}) \\\\ \\, & = & \\operatorname{Re}(e^{i\\omega t}(e^{i\\epsilon t}+e^{-i\\epsilon t})) \\\\ \\, & = & \\operatorname{Re}(e^{i\\omega t}(2\\cos(\\epsilon t))) \\\\ \\, & = & (2\\cos(\\epsilon t))\\operatorname{Re}(e^{i\\omega t}) \\\\ \\, & = & 2 \\cos(\\epsilon t)\\cos(\\omega t) \\end{array} $$\n",
    "\n",
    "### The function $\\cos(\\omega t)$ oscillates rapidly between $\\pm 1$. Multiplying it by the slowly varying function $2\\cos(\\epsilon t)$ produces a rapid oscillation between $\\pm 2 \\cos(\\epsilon t)$, so one hears a sound wave of angular frequency $\\omega$ whose amplitude is the slowly varying function $|2\\cos(\\epsilon t)|$.\n",
    "![img](img/sc07.png) \n",
    "\n",
    "### ***Figure***: A plot of $2\\cos(\\omega t) \\cos(\\epsilon t)$ for $\\displaystyle \\epsilon = \\frac{1}{8}$ and $\\omega = 4$.\n",
    "\n",
    "### ***Practical application***\n",
    "### You hear beats when tuning the strings of an instrument, or in tuning one instrument to another. The waa waa waa sound you hear is exactly these beats. The higher the frequency of the beats, the more out of tune. As the instruments or strings become closer and closer in tune, the frequency of the beats diminish until you cannot hear them at all.\n",
    "\n",
    "### Observe that changing the phase of one signal with respect to the other doesn't change the frequency of the beats! This is important. If you could hear phase shifts, it would be very difficult to tune your instrument by ear."
   ]
  },
  {
   "cell_type": "markdown",
   "id": "6a3fd3a1-a748-47fb-93c0-dcbd6f77b3ad",
   "metadata": {},
   "source": [
    "## Envelope of the beats\n",
    "\n",
    "### In the mathlet above, use the slider at the very bottom to set the amplitude $A$ of the sinusoid $g(t) = A\\sin(\\omega t - \\phi)$ to $A = 0.5$. Click on the envelope button and notice the two curves comprising the envelope of the beats are no longer sinusoids.\n",
    "\n",
    "### In general, the sum of the two sinusoids with ***different frequencies*** and different amplitudes can be written as the imaginary part of a complex valued function as follows:\n",
    "##  $$ \\begin{array} {rcl} f(t) + g(t) & = & \\sin(t) + A\\sin(\\omega t) \\\\ \\, & = & \\operatorname{Im}(R(t) e^{i\\theta(t)})\\quad R(t) \\, \\text{real} \\\\ \\, & = & R(t) \\sin(\\theta(t)) \\end{array} $$\n",
    "\n",
    "### Notice that $|f(t) + g(t)| \\leq R(t)$ This function $R(t)$ is called the ***envelope of the beats***."
   ]
  },
  {
   "cell_type": "markdown",
   "id": "517713c3-5d88-4e4f-bfae-06e19605bc32",
   "metadata": {},
   "source": []
  }
 ],
 "metadata": {
  "kernelspec": {
   "display_name": "Python 3",
   "language": "python",
   "name": "python3"
  },
  "language_info": {
   "codemirror_mode": {
    "name": "ipython",
    "version": 3
   },
   "file_extension": ".py",
   "mimetype": "text/x-python",
   "name": "python",
   "nbconvert_exporter": "python",
   "pygments_lexer": "ipython3",
   "version": "3.8.8"
  }
 },
 "nbformat": 4,
 "nbformat_minor": 5
}
