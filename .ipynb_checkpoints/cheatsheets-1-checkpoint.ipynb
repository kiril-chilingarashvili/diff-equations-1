{
 "cells": [
  {
   "cell_type": "markdown",
   "id": "fe8affa7-89e9-4ea9-b2d2-d20b92dea09c",
   "metadata": {},
   "source": [
    "# Unit 1: Modeling and First Order ODEs"
   ]
  },
  {
   "cell_type": "markdown",
   "id": "ce3544c1-c845-47bc-928a-9fa2df0b5402",
   "metadata": {},
   "source": [
    "## Example: The differential equation\n",
    "\n",
    "# $$ \\dot{y} = 3 y $$\n",
    "\n",
    "### Note that $\\dot{y}$ is common notation for the derivative with respect to time; $\\dot{y}$, $y'$, and $\\frac{dy}{dt}$ all mean the same thing here.\n",
    "\n",
    "### ***A solution*** to the differential equation above is\n",
    "## $$  = 3 e^{3 t} $$\n",
    "\n",
    "### because substituting it into the DE gives\n",
    "## $$ 3 e^{3 t}  $$\n",
    "\n",
    "### Some other solutions are\n",
    "## $$ y = 7 e^{3 t}, y = -5 e^{3 t}, y = 0,  $$\n",
    "\n",
    "### From calculus we know that the family of functions\n",
    "## $$ y = c e^{3 t} $$\n",
    "\n",
    "### is the ***general solution***.\n",
    "\n",
    "\n",
    "### Saying this means that\n",
    "### - for each number $c$, the function $ y = c e^{3 t} $ is a solution, and\n",
    "### - there are no other solutions besides these.\n",
    "\n",
    "### So there is a 1-parameter family of solutions to this DE. The constant $c$ is a ***parameter***.\n",
    "\n",
    "### Example: ***Initial condition*** $y(0) = 5$.\n",
    "## $$ 5 = c e^0 \\implies c = 5 $$\n",
    "\n",
    "### Thus, among the infinitely many solutions to the DE, the solution satisfying the initial condition $y(0) = 5$ is\n",
    "## $$ y(t) = 5 e^{3 t} $$\n",
    "\n",
    "## Definition 3.2\n",
    "### An ***initial value problem*** is a differential equation together with initial conditions.\n",
    "\n",
    "## Important:\n",
    "### Checking a solution to a DE is usually easier than finding the solution in the first place, so it is often worth doing. Just plug in the function to both sides, and also check that it satisfies the initial condition.\n",
    "### In the solution to the DE, only one initial condition was needed, since only one parameter $c$ needed to be recovered."
   ]
  },
  {
   "cell_type": "markdown",
   "id": "c64c3691-d5be-4ef2-ad28-1c884f04753a",
   "metadata": {},
   "source": [
    "## Example: Cell division\n",
    "\n",
    "### Here we will see how the differential equation for our secret function appears when modeling a natural phenomenon – the population growth of a colony of cells.\n",
    "\n",
    "## The system\n",
    "\n",
    "### For our system, we assume we have a colony of yeast cells in a batch of bread dough. The first step is to identify the variables, the units, and give them names.\n",
    "### - y: number of cells\n",
    "### - t: time measured in seconds\n",
    "\n",
    "### We also need to set some initial condition, $y_0$, the number of cells that we begin with at $t = 0$. In this system, this might be the number of yeast cells in a yeast packet.\n",
    "\n",
    "## A differential model\n",
    "\n",
    "### The growth rate of cells is proportional to the number of cells:\n",
    "## $$ \\dot{y} \\propto y $$\n",
    "\n",
    "### With a proportionality constant $a$:\n",
    "## $$ \\dot{y} = a y $$\n",
    "\n",
    "### We say that $\\frac{1}{a}$ is a “characteristic\" timescale for our problem, setting the rate at which the cells divide. A solution to the above differential equation is\n",
    "## $$ y = y_0 e^{a t} $$\n",
    "\n",
    "### where $y_0$ is the number of yeast cells we started with at $t = 0$. In our case, we assume that $y_0$ is the number of yeast cells in a packet"
   ]
  },
  {
   "cell_type": "markdown",
   "id": "e260843c-c0c3-4b0c-b284-6060a3eb06ec",
   "metadata": {},
   "source": [
    "## Classification of differential equations\n",
    "\n",
    "### There are two kinds:\n",
    "### - An ***ordinary differential equation (ODE)*** involves derivatives of a function of ***only one*** variable.\n",
    "### - A ***partial differential equation (PDE)*** involves ***partial derivatives*** of a ***multivariable*** function.\n",
    "\n"
   ]
  },
  {
   "cell_type": "markdown",
   "id": "eda48459-19b9-4819-89da-6754e442e003",
   "metadata": {},
   "source": [
    "## Notation for higher derivatives of a function $y(t)$:\n",
    "\n",
    "### First derivative\n",
    "## $$ \\dot{y}, y', \\frac{dy}{dt} $$\n",
    "### Second derivative\n",
    "## $$ \\ddot{y}, y'', \\frac{d^2y}{dt^2} $$\n",
    "### Third derivative\n",
    "## $$ y^{(3)}, \\frac{d^3y}{dt^3} $$\n",
    "## ...\n",
    "### $n^{th}$ derivative\n",
    "## $$ y^{(n)}, \\frac{d^ny}{dt^n} $$\n",
    "\n",
    "## Warning: \n",
    "### The dot notation $\\dot{y}$ should only be used to refer to a time derivative."
   ]
  },
  {
   "cell_type": "markdown",
   "id": "e8fbf1ec-c86a-433e-870b-ab888235a6af",
   "metadata": {},
   "source": [
    "## Definition 5.1\n",
    "\n",
    "### The ***order*** of a DE is the highest $n$ such that the $n^{th}$ derivative of the function appears."
   ]
  },
  {
   "cell_type": "markdown",
   "id": "045896e1-c2d6-45f9-adbd-abaa3ba5a76e",
   "metadata": {},
   "source": [
    "## A ***homogeneous linear ODE***\n",
    "### is a differential equation such as\n",
    "## $$ e^t \\ddot{y} + 5 \\dot{y} + t^9 y = 0 $$\n",
    "### in which each summand is a function of $t$ times one of $y$, $\\dot{y}$, $\\ddot{y}$,  ...\n",
    "\n",
    "## Most general $n^{th}$ order homogeneous linear ODE:\n",
    "## $$ p_n(t) y^{(n)} + p_{n - 1}(t) y^{(n - 1)} + \\text{...} + p_1(t) \\dot{y} + p_0(t) y = 0 $$\n",
    "### for some functions $p_n(t), \\text{...}, p_0(t)$  called the ***coefficients***.\n"
   ]
  },
  {
   "cell_type": "markdown",
   "id": "02a60e88-944a-4dcc-b449-a2683db0289d",
   "metadata": {},
   "source": [
    "## An ***inhomogeneous linear ODE***\n",
    "### is the same except that it has also ***one term that is a function of $t$ only***. \n",
    "### For example,\n",
    "## $$ e^t \\ddot{y} + 5 \\dot{y} + t^9 y = 7 \\sin(t) $$\n",
    "### is a second-order inhomogeneous linear ODE.\n",
    "\n",
    "## Most general $n^{th}$ order inhomogeneous linear ODE:\n",
    "## $$ p_n(t) y^{(n)} + p_{n - 1}(t) y^{(n - 1)} + \\text{...} + p_1(t) \\dot{y} + p_0(t) y = q(t) $$\n",
    "### for some functions $p_n(t), \\text{...}, p_0(t), q(t)$"
   ]
  },
  {
   "cell_type": "markdown",
   "id": "7835898b-a94b-4aa3-a674-31989f8a6f51",
   "metadata": {},
   "source": [
    "## A ***linear ODE***\n",
    "### is an ODE that can be rearranged into either of the two types above.\n"
   ]
  },
  {
   "cell_type": "markdown",
   "id": "883b86b3-49bd-4577-9c0f-9c481481ae0f",
   "metadata": {},
   "source": [
    "## ***Standard linear form***\n",
    "\n",
    "### Either of the two forms above can be reduced further by dividing the entire DE by $p_n(t)$ so that the coefficient of the highest derivative $y^{(n)}$ becomes 1. A differential equation written in either of the two forms above but with leading coefficient $1$ is said to be in ***standard linear form***.\n",
    "\n",
    "## $$ y^{(n)} + p_{n - 1}(t) y^{(n - 1)} + \\text{...} + p_1(t) \\dot{y} + p_0(t) y = 0 $$\n",
    "## $$ y^{(n)} + p_{n - 1}(t) y^{(n - 1)} + \\text{...} + p_1(t) \\dot{y} + p_0(t) y = q(t) $$\n"
   ]
  },
  {
   "cell_type": "markdown",
   "id": "55d2e832-15e8-4cc3-81fa-2adfbfac5ffe",
   "metadata": {},
   "source": [
    "## Remark 6.1   \n",
    "### We insist that solutions $y(t)$ are defined on an entire open interval $I$, as opposed to disjoint intervals. We will always assume the functions , $p_n(t), \\text{...}, p_0(t), q(t)$  are well behaved, for example continuous, on $I$. "
   ]
  },
  {
   "cell_type": "markdown",
   "id": "ea27e72b-2a40-49b0-a931-fd65ca173a63",
   "metadata": {},
   "source": [
    "## Remark 6.2\n",
    "\n",
    "### If you already know that an ODE is linear, there is an easy test to decide if it is homogeneous or not: Plug in the constant function $y = 0$.\n",
    "### - If $y = 0$ is a solution, the ODE is homogeneous.\n",
    "### - If $y = 0$ is not a solution, the ODE is inhomogeneous.\n",
    "\n",
    "## Remark 6.3\n",
    "### The cell division example gives us a homogeneous equation. If you start with no yeast cells, the population stays at $0$."
   ]
  },
  {
   "cell_type": "markdown",
   "id": "c0497f53-8b1f-4ead-a5c4-2c8d5984465c",
   "metadata": {},
   "source": [
    "## ***Nonlinear ODE***\n",
    "### For an ODE to be nonlinear, the functions $y$, $\\dot{y}$, ...  must enter the equation in a more complicated way: raised to powers, multiplied by each other, or with nonlinear functions applied to them."
   ]
  },
  {
   "cell_type": "markdown",
   "id": "00043e8b-ff1f-4005-b2fc-3556df82fd64",
   "metadata": {},
   "source": [
    "## Natural growth and decay equations\n",
    "\n",
    "### Basic growth equation (governs systems like bank accounts and cell populations):\n",
    "## $$ \\dot{y} = a y $$\n",
    "\n",
    "\n",
    "### Basic decay equation (used to describe things like radioactive decay of materials):\n",
    "## $$ \\dot{y} = - a y $$"
   ]
  },
  {
   "cell_type": "markdown",
   "id": "dd86d28c-1ed6-4cfc-a439-d2e7955ccdce",
   "metadata": {},
   "source": [
    "## Mathematical modeling\n",
    "\n",
    "### is converting a real-world problem into mathematical equations.\n",
    "\n",
    "### Guidelines:\n",
    "### - Identify relevant quantities, both known and unknown, and give them symbols. Find the units for each.\n",
    "### - Identify the independent variable(s). The other quantities will be functions of them, or constants. Often time is the only independent variable.\n",
    "### - Write down equations expressing how the functions change in response to small changes in the independent variable(s). Also write down any “laws of nature\" relating the variables. As a check, make sure that all summands in an equation have the same units.\n",
    "### Often simplifying assumptions need to be made; the challenge is to simplify the equations so that they can be solved but so that they still describe the real-world system well."
   ]
  },
  {
   "cell_type": "code",
   "execution_count": null,
   "id": "6ae56d65-e81c-4dfd-9309-bada2642e77a",
   "metadata": {},
   "outputs": [],
   "source": []
  }
 ],
 "metadata": {
  "kernelspec": {
   "display_name": "Python 3",
   "language": "python",
   "name": "python3"
  },
  "language_info": {
   "codemirror_mode": {
    "name": "ipython",
    "version": 3
   },
   "file_extension": ".py",
   "mimetype": "text/x-python",
   "name": "python",
   "nbconvert_exporter": "python",
   "pygments_lexer": "ipython3",
   "version": "3.8.8"
  }
 },
 "nbformat": 4,
 "nbformat_minor": 5
}
