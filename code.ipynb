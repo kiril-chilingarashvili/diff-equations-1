{
 "cells": [
  {
   "cell_type": "code",
   "execution_count": 19,
   "id": "c3dfdd07-9598-461c-91f1-f0d61c307ff3",
   "metadata": {},
   "outputs": [
    {
     "name": "stdout",
     "output_type": "stream",
     "text": [
      "1.0000000000000007 3.1515759869231266\n"
     ]
    }
   ],
   "source": [
    "import numpy as np\n",
    "h=0.01\n",
    "n=int(1/h)\n",
    "x=np.zeros(n+1,dtype=(float))\n",
    "y=np.zeros(n+1,dtype=(float))\n",
    "F=np.zeros(n+1,dtype=(float))\n",
    "hF=np.zeros(n+1,dtype=(float))\n",
    "\n",
    "\n",
    "x[0]=0\n",
    "y[0]=0\n",
    "F[0]=4/(1+x[0]**2)\n",
    "hF[0]=F[0]*h\n",
    "\n",
    "for n in range(1, n+1):\n",
    "    x[n] = x[n-1]+h\n",
    "    y[n] = y[n-1] + hF[n-1]\n",
    "    F[n]=4/(1+x[n]**2)\n",
    "    hF[n]=F[n]*h\n",
    "    \n",
    "print(x[n], y[n])"
   ]
  },
  {
   "cell_type": "code",
   "execution_count": 21,
   "id": "0cf129eb-a0a7-4710-bd54-950402c762c4",
   "metadata": {},
   "outputs": [
    {
     "name": "stdout",
     "output_type": "stream",
     "text": [
      "120.0 24.573477838562678\n"
     ]
    }
   ],
   "source": [
    "import numpy as np\n",
    "h=1\n",
    "n=120\n",
    "x=np.zeros(n+1,dtype=(float))\n",
    "y=np.zeros(n+1,dtype=(float))\n",
    "F=np.zeros(n+1,dtype=(float))\n",
    "hF=np.zeros(n+1,dtype=(float))\n",
    "\n",
    "\n",
    "x[0]=0\n",
    "y[0]=3\n",
    "F[0]=0.05*y[0]-0.002*y[0]**2\n",
    "hF[0]=F[0]*h\n",
    "\n",
    "for n in range(1, n+1):\n",
    "    x[n] = x[n-1]+h\n",
    "    y[n] = y[n-1] + hF[n-1]\n",
    "    F[n]=0.05*y[n]-0.002*y[n]**2\n",
    "    hF[n]=F[n]*h\n",
    "    \n",
    "print(x[n], y[n])"
   ]
  },
  {
   "cell_type": "markdown",
   "id": "0ffb1724-a0bd-4333-b314-9f6ac4b5067b",
   "metadata": {},
   "source": []
  }
 ],
 "metadata": {
  "kernelspec": {
   "display_name": "Python 3",
   "language": "python",
   "name": "python3"
  },
  "language_info": {
   "codemirror_mode": {
    "name": "ipython",
    "version": 3
   },
   "file_extension": ".py",
   "mimetype": "text/x-python",
   "name": "python",
   "nbconvert_exporter": "python",
   "pygments_lexer": "ipython3",
   "version": "3.8.8"
  }
 },
 "nbformat": 4,
 "nbformat_minor": 5
}
