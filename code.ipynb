{
 "cells": [
  {
   "cell_type": "code",
   "execution_count": 19,
   "id": "c3dfdd07-9598-461c-91f1-f0d61c307ff3",
   "metadata": {},
   "outputs": [
    {
     "name": "stdout",
     "output_type": "stream",
     "text": [
      "1.0000000000000007 3.1515759869231266\n"
     ]
    }
   ],
   "source": [
    "import numpy as np\n",
    "h=0.01\n",
    "n=int(1/h)\n",
    "x=np.zeros(n+1,dtype=(float))\n",
    "y=np.zeros(n+1,dtype=(float))\n",
    "F=np.zeros(n+1,dtype=(float))\n",
    "hF=np.zeros(n+1,dtype=(float))\n",
    "\n",
    "\n",
    "x[0]=0\n",
    "y[0]=0\n",
    "F[0]=4/(1+x[0]**2)\n",
    "hF[0]=F[0]*h\n",
    "\n",
    "for n in range(1, n+1):\n",
    "    x[n] = x[n-1]+h\n",
    "    y[n] = y[n-1] + hF[n-1]\n",
    "    F[n]=4/(1+x[n]**2)\n",
    "    hF[n]=F[n]*h\n",
    "    \n",
    "print(x[n], y[n])"
   ]
  },
  {
   "cell_type": "code",
   "execution_count": 21,
   "id": "0cf129eb-a0a7-4710-bd54-950402c762c4",
   "metadata": {},
   "outputs": [
    {
     "name": "stdout",
     "output_type": "stream",
     "text": [
      "120.0 24.573477838562678\n"
     ]
    }
   ],
   "source": [
    "import numpy as np\n",
    "h=1\n",
    "n=120\n",
    "x=np.zeros(n+1,dtype=(float))\n",
    "y=np.zeros(n+1,dtype=(float))\n",
    "F=np.zeros(n+1,dtype=(float))\n",
    "hF=np.zeros(n+1,dtype=(float))\n",
    "\n",
    "\n",
    "x[0]=0\n",
    "y[0]=3\n",
    "F[0]=0.05*y[0]-0.002*y[0]**2\n",
    "hF[0]=F[0]*h\n",
    "\n",
    "for n in range(1, n+1):\n",
    "    x[n] = x[n-1]+h\n",
    "    y[n] = y[n-1] + hF[n-1]\n",
    "    F[n]=0.05*y[n]-0.002*y[n]**2\n",
    "    hF[n]=F[n]*h\n",
    "    \n",
    "print(x[n], y[n])"
   ]
  },
  {
   "cell_type": "code",
   "execution_count": 32,
   "id": "45232907-ed3a-463a-9911-2d55c3d55e75",
   "metadata": {},
   "outputs": [
    {
     "name": "stdout",
     "output_type": "stream",
     "text": [
      "9.89999999999998 inf inf\n"
     ]
    },
    {
     "name": "stderr",
     "output_type": "stream",
     "text": [
      "<ipython-input-32-5e5160367949>:49: RuntimeWarning: overflow encountered in double_scalars\n",
      "  return y**2-x**2\n"
     ]
    },
    {
     "data": {
      "image/png": "[encoded data removed]",
      "text/plain": [
       "<Figure size 432x288 with 1 Axes>"
      ]
     },
     "metadata": {
      "needs_background": "light"
     },
     "output_type": "display_data"
    },
    {
     "data": {
      "image/png": "[encoded data removed]",
      "text/plain": [
       "<Figure size 432x288 with 1 Axes>"
      ]
     },
     "metadata": {
      "needs_background": "light"
     },
     "output_type": "display_data"
    }
   ],
   "source": [
    "import numpy as np\n",
    "import matplotlib.pyplot as plt\n",
    "\n",
    "def approx(\n",
    "    func,\n",
    "    start_time=0,\n",
    "    end_time=10,\n",
    "    initial_condition=-20):\n",
    "    start_time=0\n",
    "    end_time=10\n",
    "    initial_condition=-20\n",
    "    h=0.1\n",
    "    n=int((end_time-start_time)//h)\n",
    "    x=np.zeros(n+1,dtype=(float))\n",
    "    y=np.zeros(n+1,dtype=(float))\n",
    "    F=np.zeros(n+1,dtype=(float))\n",
    "    hF=np.zeros(n+1,dtype=(float))\n",
    "\n",
    "\n",
    "    x[0]=0\n",
    "    y[0]=initial_condition\n",
    "    F[0]=func(x[0], y[0])\n",
    "    hF[0]=F[0]*h\n",
    "\n",
    "    for n in range(1, n+1):\n",
    "        x[n] = x[n-1]+h\n",
    "        y[n] = y[n-1] + hF[n-1]\n",
    "        F[n]=func(x[n], y[n])\n",
    "        hF[n]=F[n]*h\n",
    "    \n",
    "    print(x[n], y[n], np.max(F[n]))\n",
    "    \n",
    "    plt.figure()\n",
    "    # Specifying color, linestyle and marker using keyword arguments\n",
    "    plt.plot(x, y, label = '$y$', color='g')\n",
    "    plt.xlabel('$x$')\n",
    "    plt.ylabel('$y$')\n",
    "    plt.legend(loc = 'upper left')\n",
    "    plt.show()\n",
    "    plt.figure()\n",
    "    # Specifying color, linestyle and marker using keyword arguments\n",
    "    plt.plot(x, F, label = '$F$', color='r')\n",
    "    plt.xlabel('$x$')\n",
    "    plt.ylabel('$y$')\n",
    "    plt.legend(loc = 'upper left')\n",
    "    plt.show()\n",
    "\n",
    "def f12(x, y):\n",
    "    return y**2-x**2\n",
    "approx(f12,\n",
    "        start_time=1,\n",
    "        end_time=10,\n",
    "        initial_condition=1)"
   ]
  },
  {
   "cell_type": "markdown",
   "id": "7dd7e89c-6d2a-4889-bd7d-528badb89d06",
   "metadata": {},
   "source": []
  }
 ],
 "metadata": {
  "kernelspec": {
   "display_name": "Python 3",
   "language": "python",
   "name": "python3"
  },
  "language_info": {
   "codemirror_mode": {
    "name": "ipython",
    "version": 3
   },
   "file_extension": ".py",
   "mimetype": "text/x-python",
   "name": "python",
   "nbconvert_exporter": "python",
   "pygments_lexer": "ipython3",
   "version": "3.8.8"
  }
 },
 "nbformat": 4,
 "nbformat_minor": 5
}
