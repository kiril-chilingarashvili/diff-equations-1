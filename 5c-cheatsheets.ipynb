{
 "cells": [
  {
   "cell_type": "markdown",
   "id": "5c5f6352-4145-4a2f-8896-5141dd075e3d",
   "metadata": {},
   "source": [
    "# Unit 5: Nonlinear DEs - Part c: Numerical methods"
   ]
  },
  {
   "cell_type": "markdown",
   "id": "7abd7363-9539-425c-93ac-1824b2d36aa1",
   "metadata": {},
   "source": [
    "## 2. Euler's method\n",
    "\n",
    "### Consider an ODE $\\dot{y} = f(t, y)$. It specifies a slope field in the $(t, y)$-plane, and solution curves follow the slope field.\n",
    "\n",
    "### Suppose that we are given a starting point $(t_0, y_0)$ and that we are trying to approximate the solution curve through it.\n",
    "\n",
    "### ***Question 2.1***\n",
    "### Where, approximately, will be the point on the solution curve at a time $h$ seconds later?\n",
    "\n",
    "### ***Solution***\n",
    "### We have $y(t_0) = y_0$ and $y'(t_0) = f(t_0, y_0)$. Using linear approximation, we get\n",
    "## $$ y(t_0 + h) = y_0 + h f(t_0, y_0) $$\n",
    " \n",
    "### The geometrical picture as follows:\n",
    "![img](img/sc38.png) "
   ]
  },
  {
   "cell_type": "markdown",
   "id": "6be052b7-05d9-4e14-bae3-cc407d5b6210",
   "metadata": {},
   "source": [
    "### Consider again the ODE $\\dot{y} = f(t, y)$ and the starting point $(t_0, y_0)$. We try to approximate the solution curve through it.\n",
    "\n",
    "### ***Question 2.2***\n",
    "### Where, approximately, will be the point on the solution curve at time $t_0 + 3h$?\n",
    "\n",
    "### ***Solution***\n",
    "### The crude answer would be to take $3$ steps each using the initial slope $f(t_0, y_0)$ (or equivalently, one big step of width $3h$).\n",
    "\n",
    "### Geometrically:\n",
    "![img](img/sc39.png)\n",
    " \n",
    "### The more refined answer is called ***Euler's method***: take $3$ steps, ***but reassess the slope after each step, using the slope field at each successive position***:\n",
    "![img](img/sc40.png)\n",
    "\n",
    "## $$ \\begin{array} {rcl} t_1 = t_0 + h & & y_1 = y_0 + f(t_0, y_0) h \\\\ t_2 = t_1 + h & & y_2 = y_1 + f(t_1, y_1) h \\\\ t_3 = t_2 + h & & y_3 = y_2 + f(t_2, y_2) h \\end{array} $$\n",
    "\n",
    "### The sequence of line segments from $(t_0, y_0)$ to $(t_1, y_1)$ to $(t_2, y_2)$ to $(t_3, y_3)$ is a piecewise linear approximation to the solution curve. The more refined answer to the question is $(t_3, y_3)$\n",
    "\n",
    "### ***Euler's Method***:\n",
    "\n",
    "### Given an initial value problem\n",
    "## $$ y' = f(t, y) \\quad y(t_0) = y_0 $$\n",
    "\n",
    "### and a choice of ***step size*** $h$ (in seconds if time is the independent variable), the Euler method gives an approximation to the solution curve between $t=t_0$ and $t=t_0 + (n+1)h$ by a sequence of line segments connecting the points $(t_0, y_0), (t_1, y_1), \\ldots,(t_n, y_n), (t_{n+1}, y_{n+1})$, where for each $0 \\leq k \\leq n$\n",
    "## $$ \\begin{array} {rcl} t_{k+1} & = & t_k + h \\\\ y_{k+1} & = & y_k + h f(t_k, y_k) \\end{array} $$\n",
    "![img](img/sc41.png)\n",
    "\n",
    "### These calculations are usually done by computer, and there are round-off errors in calculations. But even if there are no round-off errors, Euler's method hardly ever gives the exact answer. The problem is that the actual solution is rarely a straight line."
   ]
  },
  {
   "cell_type": "markdown",
   "id": "a661bf0b-ca39-45de-85f6-7c04ce0f1d87",
   "metadata": {},
   "source": []
  }
 ],
 "metadata": {
  "kernelspec": {
   "display_name": "Python 3",
   "language": "python",
   "name": "python3"
  },
  "language_info": {
   "codemirror_mode": {
    "name": "ipython",
    "version": 3
   },
   "file_extension": ".py",
   "mimetype": "text/x-python",
   "name": "python",
   "nbconvert_exporter": "python",
   "pygments_lexer": "ipython3",
   "version": "3.8.8"
  }
 },
 "nbformat": 4,
 "nbformat_minor": 5
}
