{
 "cells": [
  {
   "cell_type": "markdown",
   "id": "fe8affa7-89e9-4ea9-b2d2-d20b92dea09c",
   "metadata": {},
   "source": [
    "# Unit 1: Modeling and First Order ODEs"
   ]
  },
  {
   "cell_type": "markdown",
   "id": "ce3544c1-c845-47bc-928a-9fa2df0b5402",
   "metadata": {},
   "source": [
    "## Example 3.1: The differential equation\n",
    "\n",
    "### ***Clue***: it satisfies the differential equation\n",
    "# $$ \\dot{y} = 3 y $$\n",
    "\n",
    "### Note that $\\dot{y}$ is common notation for the derivative with respect to time; $\\dot{y}$, $y'$, and $\\frac{dy}{dt}$ all mean the same thing here.\n",
    "\n",
    "### ***A solution*** to the differential equation above is\n",
    "## $$ y = 3 e^{3 t} $$\n",
    "\n",
    "### because substituting it into the DE gives\n",
    "## $$ 3 e^{3 t}  $$\n",
    "\n",
    "### Some other solutions are\n",
    "## $$ y = 7 e^{3 t}, y = -5 e^{3 t}, y = 0,  $$\n",
    "\n",
    "### From calculus we know that the family of functions\n",
    "## $$ y = c e^{3 t} $$\n",
    "\n",
    "### is the ***general solution***.\n",
    "\n",
    "\n",
    "### Saying this means that\n",
    "### - for each number $c$, the function $ y = c e^{3 t} $ is a solution, and\n",
    "### - there are no other solutions besides these.\n",
    "\n",
    "### So there is a 1-parameter family of solutions to this DE. The constant $c$ is a ***parameter***.\n",
    "\n",
    "### Example: ***Initial condition*** $y(0) = 5$.\n",
    "## $$ 5 = c e^0 \\implies c = 5 $$\n",
    "\n",
    "### Thus, among the infinitely many solutions to the DE, the solution satisfying the initial condition $y(0) = 5$ is\n",
    "## $$ y(t) = 5 e^{3 t} $$\n",
    "\n",
    "## Definition 3.2\n",
    "### An ***initial value problem*** is a differential equation together with initial conditions.\n",
    "\n",
    "## Important:\n",
    "### Checking a solution to a DE is usually easier than finding the solution in the first place, so it is often worth doing. Just plug in the function to both sides, and also check that it satisfies the initial condition.\n",
    "### In the solution to the DE, only one initial condition was needed, since only one parameter $c$ needed to be recovered."
   ]
  },
  {
   "cell_type": "markdown",
   "id": "c64c3691-d5be-4ef2-ad28-1c884f04753a",
   "metadata": {},
   "source": [
    "## Example: Cell division\n",
    "\n",
    "### Here we will see how the differential equation for our secret function appears when modeling a natural phenomenon – the population growth of a colony of cells.\n",
    "\n",
    "## The system\n",
    "\n",
    "### For our system, we assume we have a colony of yeast cells in a batch of bread dough. The first step is to identify the variables, the units, and give them names.\n",
    "### - y: number of cells\n",
    "### - t: time measured in seconds\n",
    "\n",
    "### We also need to set some initial condition, $y_0$, the number of cells that we begin with at $t = 0$. In this system, this might be the number of yeast cells in a yeast packet.\n",
    "\n",
    "## A differential model\n",
    "\n",
    "### The growth rate of cells is proportional to the number of cells:\n",
    "## $$ \\dot{y} \\propto y $$\n",
    "\n",
    "### With a proportionality constant $a$:\n",
    "## $$ \\dot{y} = a y $$\n",
    "\n",
    "### We say that $\\frac{1}{a}$ is a “characteristic\" timescale for our problem, setting the rate at which the cells divide. A solution to the above differential equation is\n",
    "## $$ y = y_0 e^{a t} $$\n",
    "\n",
    "### where $y_0$ is the number of yeast cells we started with at $t = 0$. In our case, we assume that $y_0$ is the number of yeast cells in a packet"
   ]
  },
  {
   "cell_type": "markdown",
   "id": "e260843c-c0c3-4b0c-b284-6060a3eb06ec",
   "metadata": {},
   "source": [
    "## Classification of differential equations\n",
    "\n",
    "### There are two kinds:\n",
    "### - An ***ordinary differential equation (ODE)*** involves derivatives of a function of ***only one*** variable.\n",
    "### - A ***partial differential equation (PDE)*** involves ***partial derivatives*** of a ***multivariable*** function.\n",
    "\n"
   ]
  },
  {
   "cell_type": "markdown",
   "id": "eda48459-19b9-4819-89da-6754e442e003",
   "metadata": {},
   "source": [
    "## Notation for higher derivatives of a function $y(t)$:\n",
    "\n",
    "### First derivative\n",
    "## $$ \\dot{y}, y', \\frac{dy}{dt} $$\n",
    "### Second derivative\n",
    "## $$ \\ddot{y}, y'', \\frac{d^2y}{dt^2} $$\n",
    "### Third derivative\n",
    "## $$ y^{(3)}, \\frac{d^3y}{dt^3} $$\n",
    "## ...\n",
    "### $n^{th}$ derivative\n",
    "## $$ y^{(n)}, \\frac{d^ny}{dt^n} $$\n",
    "\n",
    "## Warning: \n",
    "### The dot notation $\\dot{y}$ should only be used to refer to a time derivative."
   ]
  },
  {
   "cell_type": "markdown",
   "id": "e8fbf1ec-c86a-433e-870b-ab888235a6af",
   "metadata": {},
   "source": [
    "## Definition 5.1\n",
    "\n",
    "### The ***order*** of a DE is the highest $n$ such that the $n^{th}$ derivative of the function appears."
   ]
  },
  {
   "cell_type": "markdown",
   "id": "045896e1-c2d6-45f9-adbd-abaa3ba5a76e",
   "metadata": {},
   "source": [
    "## A ***homogeneous linear ODE***\n",
    "### is a differential equation such as\n",
    "## $$ e^t \\ddot{y} + 5 \\dot{y} + t^9 y = 0 $$\n",
    "### in which each summand is a function of $t$ times one of $y$, $\\dot{y}$, $\\ddot{y}$,  ...\n",
    "\n",
    "## Most general $n^{th}$ order homogeneous linear ODE:\n",
    "## $$ p_n(t) y^{(n)} + p_{n - 1}(t) y^{(n - 1)} + \\text{...} + p_1(t) \\dot{y} + p_0(t) y = 0 $$\n",
    "### for some functions $p_n(t), \\text{...}, p_0(t)$  called the ***coefficients***.\n"
   ]
  },
  {
   "cell_type": "markdown",
   "id": "02a60e88-944a-4dcc-b449-a2683db0289d",
   "metadata": {},
   "source": [
    "## An ***inhomogeneous linear ODE***\n",
    "### is the same except that it has also ***one term that is a function of $t$ only***. \n",
    "### For example,\n",
    "## $$ e^t \\ddot{y} + 5 \\dot{y} + t^9 y = 7 \\sin(t) $$\n",
    "### is a second-order inhomogeneous linear ODE.\n",
    "\n",
    "## Most general $n^{th}$ order inhomogeneous linear ODE:\n",
    "## $$ p_n(t) y^{(n)} + p_{n - 1}(t) y^{(n - 1)} + \\text{...} + p_1(t) \\dot{y} + p_0(t) y = q(t) $$\n",
    "### for some functions $p_n(t), \\text{...}, p_0(t), q(t)$"
   ]
  },
  {
   "cell_type": "markdown",
   "id": "7835898b-a94b-4aa3-a674-31989f8a6f51",
   "metadata": {},
   "source": [
    "## A ***linear ODE***\n",
    "### is an ODE that can be rearranged into either of the two types above.\n"
   ]
  },
  {
   "cell_type": "markdown",
   "id": "883b86b3-49bd-4577-9c0f-9c481481ae0f",
   "metadata": {},
   "source": [
    "## ***Standard linear form***\n",
    "\n",
    "### Either of the two forms above can be reduced further by dividing the entire DE by $p_n(t)$ so that the coefficient of the highest derivative $y^{(n)}$ becomes 1. A differential equation written in either of the two forms above but with leading coefficient $1$ is said to be in ***standard linear form***.\n",
    "\n",
    "## $$ y^{(n)} + p_{n - 1}(t) y^{(n - 1)} + \\text{...} + p_1(t) \\dot{y} + p_0(t) y = 0 $$\n",
    "## $$ y^{(n)} + p_{n - 1}(t) y^{(n - 1)} + \\text{...} + p_1(t) \\dot{y} + p_0(t) y = q(t) $$\n"
   ]
  },
  {
   "cell_type": "markdown",
   "id": "55d2e832-15e8-4cc3-81fa-2adfbfac5ffe",
   "metadata": {},
   "source": [
    "## Remark 6.1   \n",
    "### We insist that solutions $y(t)$ are defined on an entire open interval $I$, as opposed to disjoint intervals. We will always assume the functions , $p_n(t), \\text{...}, p_0(t), q(t)$  are well behaved, for example continuous, on $I$. "
   ]
  },
  {
   "cell_type": "markdown",
   "id": "ea27e72b-2a40-49b0-a931-fd65ca173a63",
   "metadata": {},
   "source": [
    "## Remark 6.2\n",
    "\n",
    "### If you already know that an ODE is linear, there is an easy test to decide if it is homogeneous or not: Plug in the constant function $y = 0$.\n",
    "### - If $y = 0$ is a solution, the ODE is homogeneous.\n",
    "### - If $y = 0$ is not a solution, the ODE is inhomogeneous.\n",
    "\n",
    "## Remark 6.3\n",
    "### The cell division example gives us a homogeneous equation. If you start with no yeast cells, the population stays at $0$."
   ]
  },
  {
   "cell_type": "markdown",
   "id": "c0497f53-8b1f-4ead-a5c4-2c8d5984465c",
   "metadata": {},
   "source": [
    "## ***Nonlinear ODE***\n",
    "### For an ODE to be nonlinear, the functions $y$, $\\dot{y}$, ...  must enter the equation in a more complicated way: raised to powers, multiplied by each other, or with nonlinear functions applied to them."
   ]
  },
  {
   "cell_type": "markdown",
   "id": "00043e8b-ff1f-4005-b2fc-3556df82fd64",
   "metadata": {},
   "source": [
    "## Natural growth and decay equations\n",
    "\n",
    "### Basic growth equation (governs systems like bank accounts and cell populations):\n",
    "## $$ \\dot{y} = a y $$\n",
    "\n",
    "\n",
    "### Basic decay equation (used to describe things like radioactive decay of materials):\n",
    "## $$ \\dot{y} = - a y $$"
   ]
  },
  {
   "cell_type": "markdown",
   "id": "dd86d28c-1ed6-4cfc-a439-d2e7955ccdce",
   "metadata": {},
   "source": [
    "## Mathematical modeling\n",
    "\n",
    "### is converting a real-world problem into mathematical equations.\n",
    "\n",
    "### Guidelines:\n",
    "### 1. Draw a diagram of the system.\n",
    "### 2. Identify relevant quantities, both known and unknown, and give them symbols. Find the units for each.\n",
    "### 3. Identify the independent variable(s). The other quantities will be functions of them, or constants. Often time is the only independent variable.\n",
    "### 4. Write down equations expressing how the functions change in response to small changes in the independent variable(s). Also write down any “laws of nature\" relating the variables. As a check, make sure that all summands in an equation have the same units.\n",
    "### 5. If linear, rewrite the equation in standard linear form (with initial conditions).\n",
    "\n",
    "\n",
    "### Often simplifying assumptions need to be made; the challenge is to simplify the equations so that they can be solved but so that they still describe the real-world system well."
   ]
  },
  {
   "cell_type": "markdown",
   "id": "c1956157-c035-4b75-b4f5-7d3939a50112",
   "metadata": {},
   "source": [
    "## Example model:\n",
    "\n",
    "### I have a savings account earning interest compounded daily, and I make frequent deposits or withdrawals into the account. Find an ODE with initial condition to model the balance.\n",
    "\n",
    "### ***Simplifying assumptions***:\n",
    "### - Daily compounding is almost the same as continuous compounding, so let's assume that interest is paid continuously instead of at the end of each day.\n",
    "### - Similarly, let's assume that my deposits/withdrawals are frequent enough that they can be approximated by a continuous money flow at a certain rate, the net deposit rate (which is negative when I am withdrawing).\n",
    "\n",
    "### ***Variables and functions (with units)***:\n",
    "### - $P$: \tthe initial amount that the account starts with (dollars)\n",
    "### - $t$: \ttime from the start (years)\n",
    "### - $x$: \tbalance (dollars)\n",
    "### - $I$: \tthe interest rate (year<sup>-1</sup>; for example 4%/year=0.04year<sup>-1</sup>)\n",
    "### - $q$: \tthe net deposit rate (dollars/year).\n",
    "\n",
    "### Here $t$ is the independent variable, $P$ is a constant, and $x, I, q$ are functions of $t$.\n",
    "\n",
    "### ***Equations***:\n",
    "### This yields the ***differential equation***\n",
    "## $$ \\frac{dx}{dt} = I(t) x(t) + q(t) $$\n",
    "\n",
    "### Also, there is the initial condition $x(0)=P$\n",
    "### Thus we have an ODE with initial condition:\n",
    "## $$ \\dot{x} = I(t) x + q(t), x(0) = P $$"
   ]
  },
  {
   "cell_type": "markdown",
   "id": "dd297b02-c215-43ae-892f-4b2726ad7772",
   "metadata": {},
   "source": [
    "## Systems and Signals\n",
    "\n",
    "### Example: savings account model above\n",
    "### Maybe for financial planning I am interested in testing different saving strategies (different functions $q$) to see what balances $x$ they result in\n",
    "### Lets rewrite the saving account model ODE:\n",
    "## $$ \\underbrace{\\dot{x} - I(t) x}_{\\text{controlled by bank}} = \\underbrace{q(t)}_{\\text{controlled by me}} $$\n",
    "\n",
    "### In the “***systems and signals***\" language of engineering, $q$ is called the ***input signal***, the bank is the ***system***, and $x$ is the output signal . These terms do not have a mathematical meaning dictated by the DE alone; their interpretation is guided by the system being modeled. But the general picture is this:\n",
    "\n",
    "![Tangent Plane](img/system.png)\n",
    "\n",
    "### - The ***system*** may be a mechanical system such as an automobile suspension or an electrical circuit, or an economic market. It is impacted by some external signal. We are interested in understanding how the system responds to the external stimulus.\n",
    "### - The ***input signal*** is the external stimulus. It usually does not appear in as simple a way in the DE as it does in the example above. But it does always determine the right hand side of the DE (when written in standard linear form).\n",
    "### - The ***system response*** (also called ***output signal***) is the measurable behavior of the system that we are interested in. It is always the unknown function that we write a differential equation for.\n",
    "### - All differential equations have many solutions. The solution of interest is often determined by the state of the system at the beginning. This initial state is given by the initial conditions."
   ]
  },
  {
   "cell_type": "markdown",
   "id": "be281fd6-0924-4671-8889-7a31c0185491",
   "metadata": {},
   "source": [
    "## Example: Newtonian mechanics\n",
    "\n",
    "### Newton's second law:\n",
    "## $$ F = m a $$\n",
    "### That is, force equals mass times acceleration. The acceleration $a$ is the second time derivative of position $x$, which is $\\ddot{x}$. Thus we can rewrite the equation as\n",
    "## $$ m \\ddot{x} $$"
   ]
  },
  {
   "cell_type": "markdown",
   "id": "21b0c9f5-7e4d-453b-99b6-e2c181bcefcf",
   "metadata": {},
   "source": [
    "## Separation of variables for first order ODEs\n",
    "\n",
    "### ***Separation of variables*** is a technique that reduces the problem of solving certain first-order ODEs to evaluating two integrals.\n",
    "\n",
    "### Separation of variables works when we can write the equation in the form\n",
    "## $$ \\frac{dy}{dt} = g(t) f(y) $$\n",
    "### Here's an example\n",
    "### Example 2.1\n",
    "### Solve $\\dot{y} - 2 t y = 0$\n",
    "### Solution:\n",
    "### 1. Isolate the derivative and express in the form $\\dot{y} = h(t, y)$:\n",
    "## $$ \\dot{y} = 2 t y $$\n",
    "### 2. Write as\n",
    "## $$ \\frac{dy}{dt} = g(t) f(y) = 2 t y, (g(t) = 2 t, f(y) = y) $$\n",
    "### 3. Separation: Put the terms involving $y$ on the left and terms involving $t$ on the right.\n",
    "## $$ \\frac{dy}{f(y)} = g(t) dt \\iff \\frac{dy}{y} = 2 t dt $$\n",
    "### ***Warning***: We divided by $y$, so at some point we will have to check $y=0$ as a potential solution.\n",
    "### 4. Integrate\n",
    "## $$ \\int \\frac{dy}{y} = \\int 2 t dt $$\n",
    "## $$ ln \\left|y\\right|+C_1 = t^2 + C_2 $$\n",
    "## $$ ln \\left|y\\right| = t^2 + (C_2 - C_1) $$\n",
    "## $$ ln \\left|y\\right| = t^2 + C $$\n",
    "### ***Note***: The method reduces to evaluating two integrals separately, one in $y$ and one in $t$. Observe that we combined the two constants $C_1$ and $C_2$ of integration into one constant $C$. We will combine the two constants to form $C=C_2 - C_1$ immediately from now on.\n",
    "### 5. Solve for y\n",
    "## $$ \\left|y\\right| = e^{t^2+C} $$\n",
    "## $$ y = \\pm e^C e^{t^2} $$\n",
    "### As $C$ runs over all real numbers, the coefficient $\\pm e^C$ runs over all nonzero real numbers. Thus the solutions we have found so far are\n",
    "## $$ y = c e^{t^2}, c \\neq 0 $$\n",
    "### 6. Because we divided by $y$, there is possibly an exceptional solution $y=0$. Checking directly, it turns out that it is indeed a solution. It can be considered as the function $c e^{t^2}$ for $c=0$.\n",
    "### ***Conclusion***: The general solution to $\\dot{y} - 2 t y = 0$ is\n",
    "## $$ y = c e^{t^2} $$\n",
    "### where c is any real number\n",
    "### 7. (Optional) Double check your solution. Plugging in $y=c e^{t^2}$ to $\\dot{y} - 2 t y = 0$ gives $c e^{t^2}(2 t) - 2 t c e^{t^2}=0$, which is true, as it should be.\n",
    "\n"
   ]
  },
  {
   "cell_type": "markdown",
   "id": "6cd6baeb-b59c-484c-8dc9-814308f8e6a7",
   "metadata": {},
   "source": [
    "## Separation of variables, the systematic procedure:\n",
    "### 1. Check that the DE is a ***first-order ODE***. (If not, give up and try another method.) Suppose that the function to be solved for is $y=y(t)$.\n",
    "### 2. Rewrite $\\dot{y}$ as $\\frac{dy}{dt}$\n",
    "### 3. Express $\\frac{dy}{dt}$ as a function of $t$ and $y$ only.\n",
    "## $$ \\frac{dy}{dt} = h(t, y) $$\n",
    "### 4. If you are lucky, you can write $h(t,y)$ as a product of two functions, one of which is purely a function of $t$; and the other purely a function of $y$:\n",
    "## $$ h(t, y) = g(t) f(y) $$\n",
    "### 5. Separate the $y$'s and $t$'s. Specifically, try to multiply and/or divide (and in particular move the $dt$ to the right side) so that the equation ends up as an equality of differentials of the form\n",
    "## $$ \\frac{dy}{f(y)} = g(t) dt $$\n",
    "### ***Note***: If there are factors involving both variables, such as $y+t$, then it is impossible to separate variables; in this case, give up and try a different method.\n",
    "### ***Warning***: Dividing by $f(y)$ invalidates the calculation if $f(y)=0$, so at the end, check what happens if $f(y)=0$; this may add to the list of solutions.\n",
    "### 6. Integrate both sides to get an equation of the form\n",
    "## $$ F(y) = G(t) + C $$\n",
    "### These are implicit equations for the solutions, in terms of a parameter $C$.\n",
    "### 7. If possible (and if desired), solve for $y$ in terms of $t$.\n",
    "### 8. Check for extra solutions coming from dividing by zero (see the warning in Step 5). The solutions in the previous step and this step comprise the general solution.\n",
    "### 9. (Optional, but recommended) Check your work by verifying that the general solution actually satisfies the original DE."
   ]
  },
  {
   "cell_type": "markdown",
   "id": "b07bf46b-5580-4ece-bcf6-2b9035046fae",
   "metadata": {},
   "source": [
    "## A justification of separation of variables\n",
    "### In the argument above, the step where we multiply by $dt$ seems informal. To justify this step, we check that it works in reverse. If\n",
    "## $$ \\frac{d}{dy} H(y) = \\frac{1}{f(y)}, \\, \\frac{d}{dt} G(t) = g(t) $$\n",
    "### and the function $y=y(t)$ is implicitly defined by\n",
    "## $$ H(y) = G(t) + C $$\n",
    "### Implicitly differentiate this to see that we get the differential equation we started with.\n",
    "## $$ \\frac{d}{dt}H(y) = \\frac{d}{dt}(G(t)+C) $$\n",
    "## $$ \\frac{dH}{dy} \\frac{dy}{dt} = \\frac{dG}{dt} $$\n",
    "## $$ \\frac{1}{f(y)}\\frac{dy}{dt} = g(t) $$\n",
    "## $$ \\dot{y} = f(y) g(t) $$\n",
    "### The technique of multiplying by differentials allows us to work backwards to the formula for the solution.\n",
    "### What about the exceptional solution? If $f(y0)=0$ for a constant $y_0$, then $y(t)=y_0$ is a solution to the differential equation since $\\dot{y} = f(y) g(t) = 0$ holds true (as both sides evaluate to $0$ for all $t$)."
   ]
  },
  {
   "cell_type": "markdown",
   "id": "3aeca5e9-c555-47d3-9c27-77646d5b391d",
   "metadata": {},
   "source": [
    "## Standard linear form\n",
    "### Every first-order linear ODE can be written in ***standard linear form*** as follows:\n",
    "## $$ \\dot{y} + p(t) y = q(t) $$\n",
    "### where $p(t)$ and $q(t)$ can be any functions of $t$.\n",
    "### When the right hand side $q(t)$ is zero, we call the equation ***homogeneous***. An equation that is not homogeneous is ***inhomogeneous***.\n",
    "### Homogeneous:\n",
    "## $$ \\dot{y} + p(t) y = 0 $$\n",
    "### Inhomogeneous:\n",
    "## $$ \\dot{y} + p(t) y = q(t) $$"
   ]
  },
  {
   "cell_type": "markdown",
   "id": "451167c5-9f8c-447e-909b-f397e88a47ca",
   "metadata": {},
   "source": [
    "## Example \n",
    "### Liquid in an insulating thermos. Model its temperature as a function of time\n",
    "### Simplifying assumptions:\n",
    "### - The insulating ability of the thermos does not change with time.\n",
    "### - The rate of cooling depends only on the difference between the soup temperature and the external temperature.\n",
    "\n",
    "### 1. Draw a picture\n",
    "![Liiquid](img/liquid.png)\n",
    "### 2. Identify variables and parameters (with units)\n",
    "### - $t$ - time (minutes)\n",
    "### - $x$ - external temperature ($^\\circ C$)\n",
    "### - $y$ - liquid temperature ($^\\circ C$)\n",
    "### - $k$ - conduction of thermos (to be determined by equation)\n",
    "\n",
    "### Here $t$ is the independent variable, and $x$ and $y$ are functions of $t$. The conduction $k$ is a parameter of the system determined by the conductivity of the thermos.\n",
    "### 3. Identify input, response, and any initial conditions:\n",
    "### - The ***system*** is the thermos full of liquid.\n",
    "### - The ***input*** is $x$, the temperature outside of the thermos.\n",
    "### - The ***response*** is $y$, the temperature of the liquid inside of the thermos.\n",
    "### - We are not given initial conditions in this problem.\n",
    "\n",
    "### 4. Write differential equation:\n",
    "## $$ \\dot{y} = k (x - y) $$\n",
    "### This is ***Newton's law of cooling***: the rate of cooling of an object is proportional to the difference between its temperature and the external temperature. It's very important to get the sign right. When the temperature outside the thermos is smaller than the temperature of the contents, the liquid is cooling. We set up the equation this way so that the conductivity constant $k$ is positive.\n",
    "## $$ \\dot{y} < 0 $$\n",
    "## $$ x - y < 0 $$\n",
    "## $$ k > 0 $$\n",
    "### The units of $k$ must be $\\text{minutes}^{-1}$ for the units of $\\dot{y}$, which is Celsius per minute, to agree with the right hand side, which has units of $k$ times units of Celsius.\n",
    "### Smaller $k$ means better insulation, because smaller $k$ leads to smaller rate of change of temperature. The case $k=0$ is perfect insulation; the temperature inside the thermos doesn't change at all.\n",
    "\n",
    "### 5. ***Put into standard linear form***: This ODE can be rearranged into standard form:\n",
    "## $$ \\dot{y} + k y = k x $$\n",
    "### It's a first-order inhomogeneous linear ODE!\n",
    "### ***Note***: Notice that the factor of $k$ is essential in the differential equation for the units to work out. In standard linear form\n",
    "## $$ p(t) = k $$\n",
    "## $$ q(t) = k x(t) $$\n",
    "### Note that the right hand side $q(t) = k x(t)$ is not the input. The input signal is $x(t)$. The system response is $y(t)$"
   ]
  },
  {
   "cell_type": "markdown",
   "id": "2fa22cf3-9994-4be0-9c07-ab072482ef85",
   "metadata": {},
   "source": [
    "## Solving homogeneous first-order linear ODEs\n",
    "### Homogeneous first-order linear ODEs can always be solved by separation of variables:\n",
    "### $$ \\dot{y} + p(t) y = 0 $$\n",
    "### $$ \\frac{dy}{dt} + p(t) y = 0 $$\n",
    "### $$ \\frac{dy}{dt} = -p(t) y $$\n",
    "### $$ \\frac{dy}{y} = -p(t) dt $$\n",
    "### Choose any antiderivative $P(t)$ of $p(t)$. Then\n",
    "## $$ ln |y| = -P(t) + C $$\n",
    "## $$ |y| = e^{-P(t) + C} $$\n",
    "## $$ y = \\pm e^{-P(t) + C} $$\n",
    "## $$ y = c e^{-P(t)} $$\n",
    "### where $c$ is any number (we brought back the solution $y = 0$ corresponding to $c = 0$).\n",
    "### ***Note***: If you choose a different antiderivative, it will have the form $P(t) + d$ for some constant $d$, and then the new $e^{-P(t)}$ is just a constant $e^{-d}$ times the old one, so the set of all scalar multiples of the function $e^{-P(t)}$ is the same as before.\n",
    "\n",
    "### ***Conclusion***\n",
    "\n",
    "### ***General solution to first-order homogeneous linear ODE***. Let $p(t)$ be a continuous function on an open interval $I$. This ensures that $p(t)$ has an antiderivative $P(t)$. The general solution to $\\dot{y} + p(t) y = 0$ is\n",
    "## $$ y = c e^{-P(t)} $$\n",
    "### where $c$ is any real number. The parameter $c$ can be determined from an initial condition.\n"
   ]
  },
  {
   "cell_type": "markdown",
   "id": "31501355-8995-4234-8089-f61c1f852609",
   "metadata": {},
   "source": [
    "## Solving inhomogeneous equations: variation of parameters\n",
    "\n",
    "### ***Variation of parameters*** is a method for solving inhomogeneous linear ODEs. Recall a first-order inhomogeneous linear ODE in standard linear form:\n",
    "## $$ \\dot{y} + p(t) y = q(t) $$\n",
    "### Let's see how variation of parameters works in the following example.\n",
    "\n",
    "### Example 6.1\n",
    "### Solve \n",
    "## $$ t \\dot{y} + 2 y = t^5 $$\n",
    "### on the interval $(0, \\infty)$.\n",
    "### ***Solution:***\n",
    "### ***Step 1***. The associated homogeneous equation is $t \\dot{y} + 2 y = 0$, or equivalently, $\\dot{y} + \\frac{2}{t} y = 0$. Solve by separation of variables:\n",
    "## $$ \\frac{dy}{dt} = -\\frac{2}{t} y $$\n",
    "## $$ \\frac{dy}{y} = -\\frac{2}{t} dt $$\n",
    "## $$ \\ln|y| = -2 \\ln t + C \\, , \\, (\\text{since} \\, t > 0) $$\n",
    "## $$ y = c e^{-2 \\ln t} $$\n",
    "## $$ y = c t^{-2} $$\n",
    "### (Here, we have recovered the $y = 0$ solution by allowing $c = 0$.)\n",
    "### Choose one nonzero solution, say $y_h = t^{-2}$.\n",
    "### ***Step 2***. Substitute $y = u(t) t^{-2}$ into the inhomogeneous equation: the left side is\n",
    "## $$ t \\dot{y} + 2y = t\\left( \\dot{u} t^{-2} + (-2 t^{-3}) \\right) + 2 (u) t^{-2} = t^{-1} \\dot{u} $$\n",
    "### ***Note***: Observe the cancellation of two terms after the substitution. If you do not observe such a cancellation, you know you have made an computational error. The reason behind this cancellation will be explained shortly.\n",
    "### Using the result of our substitution, the inhomogeneous equation becomes\n",
    "## $$ t^{-1} \\dot{u} = t^5 $$\n",
    "### ***Step 3***. Solve for $u$\n",
    "## $$ \\dot{u} = t^6 $$\n",
    "## $$ u = \\frac{t^7}{7}+c $$\n",
    "### ***Step 4***. The general solution to the inhomogeneous equation is\n",
    "## $$ y = u t^{-2} = \\left( \\frac{t^7}{7} + c \\right) t^{-2} = \\frac{t^5}{7}+c t^{-2} $$\n",
    "### (If you want, check by direct substitution that this really is a solution.)\n",
    "\n"
   ]
  },
  {
   "cell_type": "markdown",
   "id": "76ea2ab3-f0c2-4f91-9a46-1e421ac5dafb",
   "metadata": {},
   "source": [
    "## Variation of parameters general procedure\n",
    "\n",
    "### ***1.*** Find a nonzero solution, say $y_h$, of the associated homogeneous ODE\n",
    "## $$ \\dot{y_h} + p(t) y_h = 0 $$\n",
    "### ***2.*** Substitute $y = u y_h$ into the inhomogeneous equation, $\\dot{y} + p(t) y = q(t)$ to find an equation for the unknown function $u = u(t)$.\n",
    "## $$ \\frac{d}{dt}(u y_h) + p u y_h = q $$\n",
    "## $$ \\iff \\dot{u} y_h + u \\dot{y_h} + p u y_h = q $$\n",
    "## $$ \\iff \\dot{u} y_h + u \\underbrace{(\\dot{y_h} + p y_h)}_{=0} = q $$\n",
    "## $$ \\iff \\dot{u} y_h = q $$\n",
    "### Note that the term in parentheses is zero because $y_h$ is a solution to the homogeneous differential equation.\n",
    "### ***3.*** Solve $\\dot{u} = \\frac{q}{y_h}$ for $u(t)$ by integration\n",
    "### ***4.*** Once the general $u(t)$ is found, don't forget to multiply it by the homogeneous solution $y_h(t)$ to find $y = u(t) y_h(t)$, the general solution to the inhomogeneous equation.\n",
    "### The idea is that the functions of the form $c y_h$ are solutions to the homogeneous equation; maybe we can get solutions to the inhomogeneous equation by allowing the parameter $c$ to vary, i.e., if we replace it by a nonconstant function $u(t)$.\n"
   ]
  },
  {
   "cell_type": "markdown",
   "id": "46731849-de75-47b9-8f3f-262e56902b73",
   "metadata": {},
   "source": [
    "## Solving inhomogeneous equations by integrating factor\n",
    "\n",
    "### This method is exactly the same as variation of parameters. It is algebraically equivalent, but comes at the approach from a slightly different angle. We are adding it here because some texts and courses will refer to the term integrating factor, and we want you to be familiar with it.\n",
    "### The set up is the same, we start with a first order, linear, inhomogeneous ODE:\n",
    "## $$ \\dot{y} + p(t) y = q(t) $$\n",
    "### To find an ***integrating factor***:\n",
    "### ***1.*** Find an antiderivative $P(t)$ of $p(t)$. The integrating factor is $e^{P(t)}$.\n",
    "### ***2.*** Multiply both sides of the ODE by the integrating factor $e^{P(t)}$..\n",
    "## $$ e^{P(t)}\\dot{y} + e^{P(t)} p(t) y = q(t) e^{P(t)} $$\n",
    "### We do this multiplication because it is now possible to express the left side as the derivative of something:\n",
    "## $$ e^{P(t)} \\dot{y}(t) + e^{P(t)} p(t) y(t) = \\frac{d}{dt} \\left(e^{P(t)} y(t) \\right) $$\n",
    "### Now  we can carry out the integration\n",
    "## $$ \\frac{d}{dt} \\left( e^{P} y \\right) = q e^{P} $$\n",
    "## $$ e^P y =\\int q e^P dt $$\n",
    "## $$ y = e^{-P} \\int q e^P dt $$\n",
    "### The indefinite integral $\\int q(t) e^{P(t)} dt$ represents a family of solutions because there is a constant of integration. If we fix one antiderivative, say $R(t)$, then the others are $R(t) + C$ for a constant $C$. So the general solution is\n",
    "## $$ y = R(t) e^{-P(t)} + C e^{-P(t)} $$\n",
    "### ***Remark 8.1*** The integrating factor $e^{P(t)}$ is the reciprocal of a solution to the homogeneous equation\n",
    "### ***Remark 8.2*** This process is equivalent to variation of parameters. The connection between the methods is that the unknown in variation by parameters is\n",
    "## $$ u = \\frac{y}{y_h} = y e^P $$"
   ]
  },
  {
   "cell_type": "markdown",
   "id": "b873ba65-6985-48c9-bc33-fb029e2b50bb",
   "metadata": {},
   "source": [
    "## Definition: ***Linear Combination***\n",
    "### A ***linear combination*** of a list of functions is any function that can be built from them by scalar multiplication and addition."
   ]
  },
  {
   "cell_type": "markdown",
   "id": "38160819-06ed-4e86-8e00-f21cf1693499",
   "metadata": {},
   "source": [
    "## Superposition\n",
    "\n",
    "### Let's compare the solutions to a homogeneous equation and some inhomogeneous equations with the same left hand side:\n",
    "## $$ \\begin{array} \\ \\text{general solution to} & t\\dot{y}+2y=0\\,:&ct^{-2} \\\\ \\text{one solution to} & t\\dot{y}+2y=t^5\\,: & \\frac{t^5}{7} \\\\ \\text{general solution to} & t\\dot{y}+2y=t^5\\,: & \\frac{t^5}{7} + c t^{-2} \\\\ \\text{one solution to} & t\\dot{y}+2y=1\\,: & \\frac{1}{2} \\\\ \\text{general solution to} & t\\dot{y}+2y=1\\,: & \\frac{1}{2} + c t^{-2} \\\\ \\end{array} $$\n",
    "\n",
    "### From each “one solution\" above, scalar-multiply to get\n",
    "## $$ \\begin{array} \\ \\text{one solution to} & t\\dot{y}+2y=9 t^5\\,:& \\frac{9t^5}{7} \\\\ \\text{one solution to} & t\\dot{y}+2y=3\\,: & \\frac{3}{2} \\end{array} $$\n",
    "\n",
    "### and add to get\n",
    "## $$ \\begin{array} \\ \\text{one solution to} & t\\dot{y}+2y=9 t^5+3\\,:& \\frac{9t^5}{7} + \\frac{3}{2} \\end{array} $$\n",
    "\n",
    "### The general principle, which works for all linear ODEs, is this:\n",
    "## Superposition principle.\n",
    "### ***1.*** Multiplying a solution to\n",
    "## $$ p_n(t) y^{(n)} +\\ldots+p_0(t) y = q(t) $$\n",
    "### by a number $a$, gives a solution to\n",
    "## $$ p_n(t) y^{(n)} +\\ldots+p_0(t) y = q(t) $$\n",
    "### ***2.*** Adding a solution of \n",
    "## $$ p_n(t) y^{(n)} +\\ldots+p_0(t) y = q_1(t) $$\n",
    "### to a solution of \n",
    "## $$ p_n(t) y^{(n)} +\\ldots+p_0(t) y = q_2(t) $$\n",
    "### gives a solution to\n",
    "## $$ p_n(t) y^{(n)} +\\ldots+p_0(t) y = q_1(t) + q_2(t) $$\n",
    "### Together these two properties show that linear combinations of $y$'s solve the ODE with the corresponding linear combination of $q$'s."
   ]
  },
  {
   "cell_type": "markdown",
   "id": "a80d06bc-a8a9-4223-85ab-3e19f09a8931",
   "metadata": {},
   "source": [
    "## Consequence of superposition for first order linear ODEs\n",
    "### To understand the general solution $y(t)$ to an inhomogeneous linear ODE\n",
    "## $$ \\dot{y} + p(t) y = q(t) $$\n",
    "### do the following:\n",
    "### ***1.*** Find the general solution to the associated homogeneous equation\n",
    "## $$ \\dot{y} + p(t) y = 0 $$\n",
    "### i.e., write down the general solution $y_h$.\n",
    "### ***2.*** Find (in some way) any one particular solution $y_p$ to the inhomogeneous ODE.\n",
    "### ***3.*** Add $y_p$ to the general solution of the homogeneous ODE to get the general solution to the inhomogeneous ODE.\n",
    "### ***Summary***\n",
    "## $$ \\underbrace{y}_{\\text{general inhomogeneous solution}} = \\underbrace{y_p}_{\\text{particular solution}} + \\underbrace{y_h}_{\\text{general homogeneous solution}} $$\n",
    "### (Note that here we are using $y_h$ for the general homogeneous solution rather than a specific homogeneous solution.)\n",
    "\n",
    "### Why does this work? Superposition says that adding $y_p$ to a homogeneous solution gives a solution to the DE with right hand side $q(t)+0=q(t)$. All solutions to the DE with right hand side $q(t)$ arise this way, since subtracting $y_p$ from any solution gives a solution to the DE with right hand side $0$.\n",
    "\n",
    "### The result of this section is the key point of linearity in the inhomogeneous case. It allows us to combine solutions efficiently."
   ]
  },
  {
   "cell_type": "markdown",
   "id": "197fdfdc-59ca-4142-8e61-35017898cd44",
   "metadata": {},
   "source": [
    "### The superposition principle does not hold for nonlinear differential equations."
   ]
  },
  {
   "cell_type": "markdown",
   "id": "5c4edf9c-b130-4523-af26-038b43c65f80",
   "metadata": {},
   "source": [
    "## Existence and uniqueness of solutions\n",
    "\n",
    "### Using separation of variables (in the homogeneous case) and variation of parameters (in the inhomogeneous case), we showed that every first-order linear ODE has a 1-parameter family of solutions. To nail down a specific solution in this family, we need one initial condition, such as y(0).\n",
    "\n",
    "### You may wonder if there are other solutions. Here is a general result which says that there aren't and confirms that our methods find all the solutions.\n",
    "\n",
    "### ***Existence and uniqueness theorem for a linear ODE.*** \n",
    "### Let $p(t)$ and $q(t)$ be continuous functions on an open interval $I$. Let $a \\in I$, and let $b$ be a given number. Then there exists a unique solution defined on the entire interval $I$ to the first order linear ODE\n",
    "## $$ \\dot{y} + p(t) y = q(t) $$\n",
    "### satisfying the initial condition\n",
    "## $$ y(a) = b $$\n",
    "### ***Existence*** means that there is ***at least*** one solution\n",
    "### ***Uniqueness*** means that there is ***only*** one solution"
   ]
  },
  {
   "cell_type": "code",
   "execution_count": null,
   "id": "560cdbfc-6ef1-4e1a-9991-c57e6b87b4b6",
   "metadata": {},
   "outputs": [],
   "source": []
  }
 ],
 "metadata": {
  "kernelspec": {
   "display_name": "Python 3",
   "language": "python",
   "name": "python3"
  },
  "language_info": {
   "codemirror_mode": {
    "name": "ipython",
    "version": 3
   },
   "file_extension": ".py",
   "mimetype": "text/x-python",
   "name": "python",
   "nbconvert_exporter": "python",
   "pygments_lexer": "ipython3",
   "version": "3.8.8"
  }
 },
 "nbformat": 4,
 "nbformat_minor": 5
}
