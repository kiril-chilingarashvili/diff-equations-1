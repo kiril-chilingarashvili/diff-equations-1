{
 "cells": [
  {
   "cell_type": "markdown",
   "id": "e6fc3193-122c-4de9-af4b-6d82bd7b9bbe",
   "metadata": {},
   "source": [
    "# Unit 3: Damped Oscillations - Part b: Damped Harmonic Oscillators"
   ]
  },
  {
   "cell_type": "markdown",
   "id": "63540fc5-64f9-47c1-a106-5817ecb39f0b",
   "metadata": {},
   "source": [
    "## 2. Simple harmonic oscillator\n",
    "\n",
    "### Let us review what we have learned about the spring-mass-dashpot system with no external force. We will first review the cases where oscillations are present.\n",
    "\n",
    "### If there is ***no damping***, the DE that models the position of the mass is\n",
    "## $$ \\begin{array} {rcl} m\\ddot{x} + kx & = & 0\\quad (m, k > 0) \\\\ \\displaystyle \\text{standard linear form:}\\quad \\ddot{x} + \\frac{k}{m} x & = & 0 \\\\ \\text{or}\\quad \\ddot{x} + \\omega_n^2 x & = & \\displaystyle 0 \\quad \\text{where}\\, \\omega_n = :=\\sqrt{\\frac{k}{m}} \\end{array} $$\n",
    "\n",
    "### ***Summary of results***:\n",
    "\n",
    "### - Characteristic polynomial: $P(r) = mr^2 + k$ (defined up to a constant multiple)\n",
    "### - Roots: $\\pm i \\omega_n$ where $\\displaystyle \\omega_n = \\sqrt{\\frac{k}{m}}$.\n",
    "### - Basis of solution space: $e^{i\\omega_n t}, e^{-i\\omega_n t}$.\n",
    "### - Real-valued basis: $\\cos(\\omega_n t), \\sin(\\omega_n t)$.\n",
    "### - General real solution: $a\\cos(\\omega_n t), b\\sin(\\omega_n t)$, where $a, b$ are real constants\n",
    "###     = $A\\cos(\\omega_n t - \\phi)$, where $A>0$ and $\\phi$ are real constants\n",
    "\n",
    "### In other words, the real-valued solutions are all the sinusoidal functions of angular frequency $\\omega_n$.\n",
    "\n",
    "### This system, or any other system governed by the same DE, is also called a ***simple harmonic oscillator***. The angular frequency $\\omega_n$ is also called the ***natural frequency*** (or ***resonant frequency***) of the oscillator.3. Damped Harmonic Oscillator"
   ]
  },
  {
   "cell_type": "markdown",
   "id": "13be467b-4f8e-4e1d-a64c-1ebbebc31091",
   "metadata": {},
   "source": [
    "## 3. Damped Harmonic Oscillator\n",
    "\n",
    "![img](img/sc08.png)\n",
    "\n",
    "### When damping is present, the DE that models the position of the mass is\n",
    "## $$ \\begin{array} {rcl} m\\ddot{x} + b\\dot{x}+kx = 0 \\quad m,b,k > 0 \\end{array} $$\n",
    "\n",
    "### ***Summary of results***:\n",
    "### Characteristic polynomial:\t\n",
    "## $$ mr^2+br+k $$\n",
    "### Roots:\n",
    "## $$ \\begin{array} {rcl} \\, & & \\displaystyle \\frac{-b\\pm \\sqrt{b^2-4mk}}{2m} \\quad\\text{(by the quadratic formula)} \\\\ \\, & = & \\displaystyle -\\frac{b}{2m} \\pm \\sqrt{\\left(\\frac{b}{2m}\\right)^2-\\omega_n^2} \\end{array} $$\n",
    " \t\n",
    "### There are three cases, depending on the sign of $b^2-4mk$. The behavior of the solutions in these 3 cases are qualitatively different."
   ]
  },
  {
   "cell_type": "markdown",
   "id": "33542ba7-9f2d-4727-9479-97bc70194da2",
   "metadata": {},
   "source": [
    "## 4. Case 1: underdamped\n",
    "\n",
    "### ***Case 1***: \n",
    "### $b^2<4mk$ ***underdamped***\n",
    "\n",
    "### There are two complex roots, and we will give names to the real and imaginary parts. Since the real part is always negative, we call it - $p$ with $\\displaystyle p = \\frac{b}{2m}$. The imaginary part is either positive or negative of the ***damped frequency*** $\\omega_d$ given by\n",
    "## $$ \\begin{array} {rcl} \\omega_d & := & \\displaystyle \\frac{\\sqrt{4mk - b^2}}{2m} \\\\ \\, & = & \\displaystyle \\sqrt{\\omega_n^2} \\end{array} $$\n",
    "### where $\\displaystyle \\omega_n = \\sqrt{\\frac{k}{m}}$ is the natural frequency\n",
    "\n",
    "### Note that both $p$ and $\\omega_d$ are positive.\n",
    "\n",
    "### ***Summary of results***:\n",
    "\n",
    "### Roots:\n",
    "## $$ -p\\pm i\\omega_d $$\n",
    "### Basis of solution space:\n",
    "## $$ e^{(-p+i\\omega_d)t}, e^{(-p-i\\omega_d)t} $$\n",
    "### Real-valued basis:\n",
    "## $$ e^{-pt}\\cos(\\omega_d t), e^{-pt}\\sin(\\omega_d t) $$\n",
    "### General real solution:\n",
    "## $$ e^{-pt}(a\\cos(\\omega_d t) + b\\sin(\\omega_d t)) $$\n",
    "### where $a,b$ are real constants.\n",
    "## $$ = Ae^{-pt}\\cos(\\omega_d t - \\phi) $$\n",
    "### for some $A$ and $\\phi$.\n",
    "\n",
    "### This is a sinusoid multiplied by a decaying exponential. Each nonzero solution tends to $0$, but changes sign infinitely many times along the way. The system is called ***underdamped***, because there was not enough damping to eliminate the oscillation completely.\n",
    "\n",
    "### The damping not only causes the solution to decay exponentially, but also ***changes the frequency of the sinusoid***. The new angular frequency, $\\omega_d$, is called ***damped (angular) frequency*** (or sometimes pseudo (angular) frequency).\n",
    "\n",
    "### The damped frequency $\\omega_d$ is less than the natural (undamped) frequency $\\omega_n$, as evident from the formula $\\omega_d = \\sqrt{\\omega_n^2-p^2}$. When $b=0$, $\\omega_d$ is the same as $\\omega_n$.\n",
    "\n",
    "### The damped solutions are not actually periodic: they don't repeat exactly, because of the decay. Therefore, $\\displaystyle \\frac{2\\pi}{\\omega_d}$ is called the ***pseudo-period***."
   ]
  },
  {
   "cell_type": "markdown",
   "id": "29832bf8-9f4c-421a-b3d2-57af0c969b75",
   "metadata": {},
   "source": [
    "## Mathlet: Effect of damping on the decay rate"
   ]
  },
  {
   "cell_type": "code",
   "execution_count": 1,
   "id": "22a4d43c-8416-4255-b395-85211d85f96c",
   "metadata": {
    "jupyter": {
     "source_hidden": true
    },
    "tags": []
   },
   "outputs": [
    {
     "data": {
      "text/html": [
       "<iframe width=\"900\" height=\"650\" src=\"https://1803mathlets.netlify.app/dampedvibrations\" frameborder=\"0\" allow=\"accelerometer; autoplay; clipboard-write; encrypted-media; gyroscope; picture-in-picture\" allowfullscreen></iframe>\n"
      ],
      "text/plain": [
       "<IPython.core.display.HTML object>"
      ]
     },
     "metadata": {},
     "output_type": "display_data"
    }
   ],
   "source": [
    "%%html\n",
    "<iframe width=\"900\" height=\"650\" src=\"https://1803mathlets.netlify.app/dampedvibrations\" frameborder=\"0\" allow=\"accelerometer; autoplay; clipboard-write; encrypted-media; gyroscope; picture-in-picture\" allowfullscreen></iframe>"
   ]
  },
  {
   "cell_type": "markdown",
   "id": "78765117-60e4-4e2f-81d4-1a74f64759b6",
   "metadata": {},
   "source": [
    "## 6. Case 2: overdamped\n",
    "\n",
    "### ***Case 2***:\n",
    "### $\\displaystyle b^2>4mk$ ***overdamped***.\n",
    "\n",
    "### In this case, the roots\n",
    "## $$ \\frac{-b\\pm \\sqrt{b^2-4mk}}{2m} $$\n",
    "\n",
    "### are real and distinct. \n",
    "### Both roots are negative, since $\\sqrt{b^2-4mk} < b$. \n",
    "### Call them $-s_1$ and $-s_2$.\n",
    "\n",
    "### General real solution:\n",
    "## $$ ae^{-s_1 t} + b e^{-s_2 t} $$\n",
    "\n",
    "### where $a, b$ are real constants.\n",
    "\n",
    "### As in all the other damped cases, all solutions tend to $0$ as $t\\to\\infty$. \n",
    "### The term corresponding to the ***less negative*** root eventually controls the rate of return to equilibrium. \n",
    "### The system is called ***overdamped***; there is so much damping that it is slowing the return to equilibrium."
   ]
  },
  {
   "cell_type": "markdown",
   "id": "994abf85-53e3-44b8-bc0d-7bfbce49e1d2",
   "metadata": {},
   "source": [
    "## 7. Case 3: critically damped\n",
    "\n",
    "### ***Case 3***: $b^2=4mk$ ***critically damped***.\n",
    "\n",
    "### The critically damped case happens when $b^2=4mk$, at the border between the underdamped case when $b^2<4mk$ and the overdamped case, when $b^2>4mk$.\n",
    "\n",
    "### There is a repeated (negative) real root, which we denote by $-p$ with $\\displaystyle \\frac{b}{2m}$ as before. The repeated root gives only one exponential solution $e^{-\\frac{bt}{2m}}$ What is another solution?\n",
    "\n",
    "### For a second order (homogeneous linear constant coefficient) ODE with repeated (real) characteristic roots $r$ a basis of the solutions is\n",
    "## $$ e^{rt}, t e^{rt} $$\n",
    "\n",
    "### giving the general (real) solution \n",
    "## $$ c_1 e^{rt} + c_2 t e^{rt} $$\n",
    "\n",
    "### ***Example 7.1***\n",
    "### Solve \n",
    "## $$ \\ddot{x} + 4\\dot{x}+4 x = 0 $$\n",
    "\n",
    "### ***Worked Solution***\n",
    "### The characteristic polynomial is\n",
    "## $$ p(r) = (r+2)^2 $$\n",
    "\n",
    "### has $r = -2$ as a repeated root. The only exponential solution is $e^{-2t}$. \n",
    "### Another solution, which is not a constant multiple of $e^{-2t}$, is given by $te^{-2t}$. \n",
    "### We will not check this for now, you know how to do it: plug in and use the product rule.\n",
    "\n",
    "### So the general solution is the linear combination of these two basis solutions:\n",
    "## $$ x(t) = c_1 e^{-2t} + c_2 t e^{-2t} \\quad \\text{or} \\quad x(t) = e^{-2t}(c_1 + c_2 t ) $$\n",
    "\n",
    "### ***Summary of results for the critically damped case***:\n",
    "### Basis of solution space:\n",
    "## $$ e^{-pt}, te^{-pt} $$\n",
    "\n",
    "### General real solution:\n",
    "## $$ e^{-pt}(a+bt) $$\n",
    "### where $a,b$ are real constants.\n",
    "### What happens to the solutions as $t\\to+\\infty$? The solution $e^{-pt}$ tends to $0$. So does $\\displaystyle t e^{-pt} = \\frac{t}{e^{pt}}$: even though the numerator $t$ is tending to $+\\infty$, the denominator $e^{pt}$ is tending to $+\\infty$ faster (in a contest between exponentials and polynomials, exponentials always win). Thus all solutions eventually decay.\n",
    "\n",
    "### This case is when there is just enough damping to eliminate oscillation. The system is called ***critically damped***."
   ]
  },
  {
   "cell_type": "markdown",
   "id": "26271af4-df4b-4dbd-8374-2e2bceae0938",
   "metadata": {},
   "source": [
    "## 8. Summary\n",
    "\n",
    "### The DE that models the position of the mass in a spring-mass-dashpot system is\n",
    "## $$ m\\ddot{x} + b\\dot{x} + kx = 0, \\quad m,b,k>0 $$\n",
    "\n",
    "### The following table summarizes the various damping conditions for a spring-mass-dashpot system.\n",
    "\n",
    "### 1. $b=0$: Roots: two complex roots $\\pm i\\omega_n$, System: undamped (simple harmonic oscillator)\n",
    "### 2. $b^2<4mk$: Roots: two complex roots $-p\\pm i\\omega_r$, System:\tunderdamped (damped oscillator)\n",
    "### 3. $b^2=4mk$: Roots: repeated real root $-p, -p$, System: critically damped\n",
    "### 4. $b^2>4mk$: Roots: distinct real roots $-s_1, -s_2$, System: overdamped\n",
    "\n",
    "### In the table above, $\\displaystyle p = \\frac{b}{2m}$ and $\\omega_d$ and $\\omega_n$ are related as follows:\n",
    "## $$ \\begin{array} {rcl} \\omega_d & = & \\displaystyle \\frac{\\sqrt{4mk - b^2}}{2m} \\\\ \\, & = & \\sqrt{\\omega_n^2 - p^2}, \\quad \\displaystyle \\omega_n = \\sqrt{\\frac{k}{m}} \\end{array} $$\n",
    "\n",
    "### ***Problem 8.1***\n",
    "### Analyze the spring-mass-dashpot system with $m=1, b=2, k=4$.\n",
    "### ***Note***: An analysis of a second order (homogenous linear constant coefficient) ODE includes determining whether the system is underdamped, overdamped, or critically damped, and if the system is underdamped, determining the damped frequency $\\omega_d$. But sometimes you may only be interested in the qualitative behavior of a solution. In this case, you could save the effort of computing the damped frequency!\n",
    "\n",
    "### ***Solution***:\n",
    "### The ODE is\n",
    "## $$ \\ddot{x} + 2\\dot{x} + 4x = 0 $$\n",
    " \n",
    "### Characteristic polynomial: $P9r) = r^2 + 2r + 4 = (r+1)^2 + 3$.\n",
    "### Roots: $-1\\pm i\\sqrt{3}$. These are complex, so the system is ***underdamped***.\n",
    "### Basis of the solution space: $e^{(-1+i\\sqrt{3})t}, e^{(-1-i\\sqrt{3})t}$.\n",
    "### Real-valued basis: $e^{-t}\\cos(\\sqrt{3}t), e^{-t}\\sin(\\sqrt{3}t)$.\n",
    "### General real solution: $e^{-t} (a\\cos(\\sqrt{3}t) + b\\sin(\\sqrt{3}) )$, where $a, b$ are real constants.\n",
    "### The damped frequency is $\\sqrt{3}$."
   ]
  },
  {
   "cell_type": "markdown",
   "id": "3acef5f1-d072-4bb8-950b-947c5623e1a7",
   "metadata": {},
   "source": [
    "## 10. Damping conditions examples and practice\n",
    "\n",
    "### ***Question 10.2***\n",
    "### What is the solution to the system $\\ddot{x} + \\dot{x} + 3x = 0$ with initial conditions $x(0) = 1, \\dot{x}(0) = 0$, ? What does the graph of $x(t)$ look like?\n",
    "\n",
    "### ***Answer***\n",
    "### The pair\n",
    "## $$ e^{-\\frac{t}{2}}\\cos\\left(\\frac{t\\sqrt{11}}{2}\\right), e^{-\\frac{t}{2}}\\sin\\left(\\frac{t\\sqrt{11}}{2}\\right) $$\n",
    " \t\t \t \n",
    "### form a basis for the real solutions of the system. So the general solution to the system is\n",
    "## $$ \\begin{array} {rcl} x(t) & = & \\displaystyle e^{-\\frac{t}{2}} \\left( c_1\\cos\\left(\\frac{t\\sqrt{11}}{2}\\right) + c_2 \\sin\\left(\\frac{t\\sqrt{11}}{2}\\right) \\right) \\\\ \\, & = & \\displaystyle A e^{-\\frac{t}{2}} \\cos\\left( \\frac{t\\sqrt{11}}{2} - \\phi \\right) \\end{array} $$\n",
    " \t \t\t \t \n",
    "### The damped angular frequency is $\\displaystyle \\omega_d = \\frac{\\sqrt{11}}{2}$, and the initial conditions are satisfied when $c_1 = 1$ and $\\displaystyle c_2 = \\frac{1}{\\sqrt{11}}$, so we can write the general solution as\n",
    "## $$ \\begin{array} {rcl} x(t) & = & \\displaystyle e^{-\\frac{t}{2}} \\left( \\cos\\left(\\frac{t\\sqrt{11}}{2}\\right) + \\frac{1}{\\sqrt{11}} \\sin\\left(\\frac{t\\sqrt{11}}{2}\\right) \\right) \\\\ \\, & = & \\displaystyle \\frac{\\sqrt{12}}{\\sqrt{11}} e^{-\\frac{t}{2}} \\cos\\left( \\frac{t\\sqrt{11}}{2} - \\phi \\right) \\end{array} $$\n",
    "\n",
    "### where $\\displaystyle \\phi = \\tan^{-1}\\left(\\frac{1}{\\sqrt{11}}\\right)$.\n",
    "\n",
    "### The graph of the solution is:\n",
    "![img](img/sc09.png)\n",
    "\n",
    "### ***Figure***: The graph of the underdamped system $\\ddot{x} + \\dot{x} + 3x = 0$ with initial conditions $x(0) = 0, \\dot{x}(0) = 0$."
   ]
  },
  {
   "cell_type": "markdown",
   "id": "eb0b8c9c-325b-451e-8824-d4e7c55ef836",
   "metadata": {},
   "source": [
    "## 13. Comparing damping qualitatively\n",
    "\n",
    "### Now let's try to qualitatively compare the different cases of damping by comparing the plots of solutions to $\\ddot{x} + b\\dot{x} + x = 0$ with initial conditions $x(0) = 1, \\dot{x}(0) = 0$. We'll consider the three cases $b=1,2,3$ and write $x_b(t)$ for the solution to $\\ddot{x} + b\\dot{x} + x = 0$ with the given initial conditions. By this point you should be able to work out the solutions to the system and find that\n",
    "## $$ \\begin{array} {rcl} x_1(t) & = & \\displaystyle e^{-\\frac{t}{2}}\\left( \\cos\\left(\\frac{t\\sqrt{3}}{2}\\right) + \\frac{1}{\\sqrt{3}}\\sin\\left(\\frac{t\\sqrt{3}}{2}\\right) \\right), \\\\ x_2(t) & = & \\displaystyle e^{-t}(1+t) \\\\ x_3(t) & = & \\displaystyle \\left( \\frac{1}{2} + \\frac{3}{2\\sqrt{5}} \\right) e^{\\frac{-3+\\sqrt{5}}{2}t} + \\left( \\frac{1}{2} - \\frac{3}{2\\sqrt{5}} \\right) e^{\\frac{-3-\\sqrt{5}}{2}t} \\end{array} $$\n",
    "\n",
    "### Looking at these solutions it's easy to see that $x_1$ is the solution to an ***underdamped*** system, $x_2$ is the solution to a ***critically damped*** system, and $x_3$ is the solution to an ***overdamped system***.\n",
    "\n",
    "### Now let's compare the graphs of each of these solutions.\n",
    "![img](img/sc10.png)\n",
    "\n",
    "### Notice that the graphs of the ***overdamped*** and ***critically damped*** cases are qualitatively similar."
   ]
  },
  {
   "cell_type": "markdown",
   "id": "a6bd32b6-8a80-445d-8a22-3c2a502709ac",
   "metadata": {},
   "source": []
  }
 ],
 "metadata": {
  "kernelspec": {
   "display_name": "Python 3",
   "language": "python",
   "name": "python3"
  },
  "language_info": {
   "codemirror_mode": {
    "name": "ipython",
    "version": 3
   },
   "file_extension": ".py",
   "mimetype": "text/x-python",
   "name": "python",
   "nbconvert_exporter": "python",
   "pygments_lexer": "ipython3",
   "version": "3.8.8"
  }
 },
 "nbformat": 4,
 "nbformat_minor": 5
}
