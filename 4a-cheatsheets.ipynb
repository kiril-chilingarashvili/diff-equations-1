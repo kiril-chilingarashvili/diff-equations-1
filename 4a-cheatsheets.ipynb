{
 "cells": [
  {
   "cell_type": "markdown",
   "id": "8c5d0480-1497-4bb9-b0ab-0076be0cbf2d",
   "metadata": {},
   "source": [
    "# Unit 4: Exponential Response and Resonance - Part a: Operators and Exponential Response"
   ]
  },
  {
   "cell_type": "markdown",
   "id": "b6b7da76-06ff-4b44-a56c-af6f5fda3bab",
   "metadata": {},
   "source": [
    "## 2. Operator Notation\n",
    "\n",
    "### If $y_1$ and $y_2$ are two solutions to a homogeneous, linear differential equation\n",
    "## $$ \\ddot{y} + p \\dot{y} + q y = 0 $$\n",
    " \n",
    "### why is $c_1 y_1 + c_2 y_2$ a solution?\n",
    "\n",
    "### You know superposition for linear homogeneous differential equations. We want an elegant proof because it will help us with more complicated problems, including solving higher order inhomogeneous equations."
   ]
  },
  {
   "cell_type": "markdown",
   "id": "9ac42974-6efd-4467-9e9f-dc40fc257923",
   "metadata": {},
   "source": [
    "### ***The operator*** $D$\n",
    "\n",
    "### - A function takes an input number and returns another number.\n",
    "### - An ***operator*** takes an input ***function*** and returns another ***function***.\n",
    "\n",
    "### For example, the ***differential operator*** $\\displaystyle \\frac{d}{dt}$ takes an input function $y(t)$ and returns $\\displaystyle \\frac{dy}{dt}$. This operator is also called $D$. For instance $De^{4t} = 4 e^{4t}$. The operator $D$ is ***linear***, which means that\n",
    "## $$ D(f+g) = Df + Dg, \\quad D(af) = aDf $$\n",
    " \n",
    "### for any functions $f$ and $g$, and any number $a$. Because of this, $D$ behaves well with respect to linear combinations, namely\n",
    "## $$ D(c_1 f_1 + \\cdots + c_n f_n) = c_1 D f_1 + \\cdots + c_n D f_n $$\n",
    " \n",
    "### for any numbers $c_1, \\ldots, c_n$ and functions $f_1,\\ldots,f_n$.\n",
    "\n",
    "### ***Example 2.1*** $Dt^3 = 3t^2$.\n",
    "\n",
    "### ***Warning***: You can't take this equation and substitute $t=2$ to get $D8 = 12$. The only way to interpret “$8$\" in “$D8$\" is as a ***constant*** function, which of course has derivative zero: $D8 = 0$. The point is that in order to know the function $Df(t)$ at a particular value of $t$, say $t=a$, you need to know more than just $f(a)$; you need to know how $f(t)$ is changing near $a$ as well. This is characteristic of operators; in general you have to expect to need to know the ***whole*** function $f(t)$ in order to evaluate an operator on it.\n",
    "\n",
    "### ***Definition 2.2***\n",
    "### In general, a ***linear operator*** $L$ is any operator that satisfies\n",
    "## $$ L(f+g) = Lf + Lg,\\quad L(af) = aLf $$\n",
    " \n",
    "### for any functions $f$ and $g$, and any number $a$.\n",
    "\n",
    "### ***Example 2.3***\n",
    "### The operator $L=D^2+p(t)D + q(t)$ where $p(t)$ and $q(t)$ are any functions of $t$ is a linear operator.\n",
    "\n",
    "### Why is $L$ linear? You know that $D$ is linear, and similarly, $D^2$ is linear. To see that $L$ is linear, verify that a linear combination of linear operators is again a linear operator."
   ]
  },
  {
   "cell_type": "markdown",
   "id": "9e1f044f-720f-48c9-a9af-7f9d8ad17ed2",
   "metadata": {},
   "source": []
  }
 ],
 "metadata": {
  "kernelspec": {
   "display_name": "Python 3",
   "language": "python",
   "name": "python3"
  },
  "language_info": {
   "codemirror_mode": {
    "name": "ipython",
    "version": 3
   },
   "file_extension": ".py",
   "mimetype": "text/x-python",
   "name": "python",
   "nbconvert_exporter": "python",
   "pygments_lexer": "ipython3",
   "version": "3.8.8"
  }
 },
 "nbformat": 4,
 "nbformat_minor": 5
}
