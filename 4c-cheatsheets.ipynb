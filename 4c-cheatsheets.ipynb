{
 "cells": [
  {
   "cell_type": "markdown",
   "id": "c83bcc8f-c6b9-4902-b9a6-8af0e79ea631",
   "metadata": {},
   "source": [
    "# Unit 4: Exponential Response and Resonance - Part c: Resonance and Frequency Response"
   ]
  },
  {
   "cell_type": "markdown",
   "id": "58918eb8-87c5-4d71-920d-4213e1ff771f",
   "metadata": {},
   "source": [
    "## 2. Warm-up and review\n",
    "\n",
    "### ***Harmonic oscillator with no input signal***\n",
    "### Suppose we model a swing on a playground as a harmonic oscillator with the ODE\n",
    "## $$ \\ddot{x} + 9x = 0 $$\n",
    " \n",
    "### In this model, $x$ is the angle of the swing away from vertical, and this is a good model when $x$ is small. We can write this using operator notation as\n",
    "## $$ \\begin{array} {rcl} P(D)x = 0 & & P(D) = D^2+9 \\\\ \\text{Characteristic polynomial}: & & P(r) = r^2 + 9 \\\\ \\text{Roots}: & & \\pm 3i \\\\ \\text{Basis of complex solutions}: & & e^{3it}, e^{-3it} \\\\ \\text{Real-valued basis}: & & \\cos(3t), \\sin(3t) \\\\ \\text{General real-valued solution}: & & a\\cos(3t) + b\\sin(3t)\\quad\\text{for real numbers}\\, a,b \\end{array} $$\n",
    "\n",
    "### These are all the sinusoids with angular frequency $3$, the natural frequency.\n",
    "## $$ A\\cos(3t - \\phi) $$"
   ]
  },
  {
   "cell_type": "markdown",
   "id": "3b4a917f-ea3a-4165-a824-03115685592a",
   "metadata": {},
   "source": [
    "## 3. Near resonance\n",
    "\n",
    "### ***Example 3.1***\n",
    "### We might try to model a swing on a playground as a simple harmonic oscillator. Recall that a harmonic oscillator has a natural frequency $\\omega_n$. When you push your kid on a swing, the key is to get in sync with the natural frequency of the swing. You keep pushing on regular intervals with the same force, but your sister swings higher and higher.\n",
    "\n",
    "### Let's model the swing-and-sister setup by a sinusoidally driven harmonic oscillator, $\\ddot{x} + \\omega_n^2 x = A\\cos(\\omega t)$. We find a periodic solution using the exponential response formula provided that $\\omega \\neq \\omega_n$:\n",
    "## $$ x_p = A\\frac{\\cos(\\omega t)}{\\omega_n^2 - \\omega^2} $$\n",
    "\n",
    "### Notice that as $\\omega$ gets closer to $\\omega_n$, the amplitude of this particular solution grows larger.\n",
    "\n",
    "### In this mathlet, the natural frequency is $\\omega_n=1$, and the frequency of the input signal is adjustable. The graph on the lower left shows the input signal in blue and the system response in orange. On the right, you see a graph of the amplitude of the response as a function of the input frequency. However, the vertical axis is scaled by $\\displaystyle \\frac{1}{\\sqrt{2}}$ to fit the frame. The abbreviation RMS stands for ***root mean square***, which for a sinusoid is $\\displaystyle \\frac{\\text{amplitude}}{\\sqrt{2}}$. It has a physical interpretation; it is used for a superposition of many frequencies.\n",
    "\n",
    "### Observe what happens to the amplitude of the system response as $\\omega$ approaches $1$."
   ]
  },
  {
   "cell_type": "code",
   "execution_count": 1,
   "id": "a91456ae-ee77-4b4b-8469-90c6413bc932",
   "metadata": {
    "jupyter": {
     "source_hidden": true
    },
    "tags": []
   },
   "outputs": [
    {
     "data": {
      "text/html": [
       "<iframe width=\"900\" height=\"650\" src=\"https://1803mathlets.netlify.app/harmonicfreqrespvarinputfreq\" frameborder=\"0\" allow=\"accelerometer; autoplay; clipboard-write; encrypted-media; gyroscope; picture-in-picture\" allowfullscreen></iframe>  \n"
      ],
      "text/plain": [
       "<IPython.core.display.HTML object>"
      ]
     },
     "metadata": {},
     "output_type": "display_data"
    }
   ],
   "source": [
    "%%html\n",
    "<iframe width=\"900\" height=\"650\" src=\"https://1803mathlets.netlify.app/harmonicfreqrespvarinputfreq\" frameborder=\"0\" allow=\"accelerometer; autoplay; clipboard-write; encrypted-media; gyroscope; picture-in-picture\" allowfullscreen></iframe>  "
   ]
  },
  {
   "cell_type": "markdown",
   "id": "7d04d2cd-8438-48a0-a0d9-c3dc38724add",
   "metadata": {},
   "source": [
    "### What happens when the two frequencies coincide, that is $\\omega=\\omega_n$? This is the phenomenon known as ***pure resonance***, which we explore next."
   ]
  },
  {
   "cell_type": "markdown",
   "id": "151edb31-b75f-47a6-8977-d29636168ccb",
   "metadata": {},
   "source": [
    "## 4. Pure resonance\n",
    "\n",
    "### The case in which we drive a harmonic oscillator by the natural frequency $\\omega_n$ is known as ***pure resonance***.\n",
    "## $$ (D^2+\\omega_n^2)x = \\cos(\\omega_n t) $$\n",
    "\n",
    "### To find a particular solution, we find a particular solution instead to the complexified equation\n",
    "## $$ (D^2+\\omega_n^2)z = e^{i\\omega_n t} $$\n",
    "\n",
    "### Note that $i\\omega_n$ is a root of the characteristic polynomial $P(r) = r^2 + \\omega_n^2$. But $P'(r) = 2r$, so $P'(i\\omega_n) = 2i\\omega_n \\neq 0$ and we use ERF' to find a complex particular solution\n",
    "## $$ \\begin{array} {rcl} z_p & = & \\displaystyle \\frac{t e^{i\\omega_n t}}{P'(i\\omega_n)} \\\\ \\, & = & \\displaystyle \\frac{t e^{i\\omega_n t}}{2i\\omega_n} \\\\ \\, & = & \\frac{t (\\cos(\\omega_n t) + i\\sin(\\omega_n t))}{2i\\omega_n} \\end{array} $$\n",
    "\n",
    "### The real part of $z_p$ is a real-valued particular solution\n",
    "## $$ \\operatorname{Re}(z_p) = x_p = \\frac{t \\sin(\\omega_n t)}{2 \\omega_n} $$\n",
    "\n",
    "### Even though our input signal is sinusoidal, the response is not a sinusoid. The response is an oscillating function whose oscillations grow linearly without bound as time increases.\n",
    "\n",
    "### ***Pure resonance*** is a phenomenon that occurs when a harmonic oscillator is driven with an input sinusoid whose frequency is at the natural frequency:\n",
    "### - the gain becomes larger and larger as the input frequency approaches the natural frequency, and\n",
    "### - when the input frequency equals the natural frequency, any particular solution is unbounded."
   ]
  },
  {
   "cell_type": "markdown",
   "id": "e597bc2b-7d53-4ef0-95cb-c0768aa8ec0a",
   "metadata": {},
   "source": [
    "## 5. Resonance with damping\n",
    "\n",
    "### In a realistic physical situation, there is at least a tiny amount of damping, and this prevents the runaway growth of the amplitude of the system response that we saw in the previous section.\n",
    "\n",
    "### ***Question 5.1***\n",
    "### What happens if $\\omega=3$ exactly, but there is a tiny amount of damping, so that the ODE is\n",
    "## $$ \\ddot{x} + \\underbrace{b\\dot{x}}_{\\text{damping term}} + 9x = \\underbrace{\\cos(\\omega t)}_{\\text{input signal}} $$\n",
    " \n",
    "### for some small positive constant $b$?\n",
    "\n",
    "### ***Answer***\n",
    "### The new characteristic polynomial is $P(r) = r^2 + br + 9$. Since $3i$ is no longer a root, the ERF applies. The complex gain is $\\displaystyle G = \\frac{1}{P(3i)} = \\frac{1}{3bi}$, and the gain is $\\displaystyle |G| = \\frac{1}{3b}$. This is large, but the oscillations are bounded; there is a steady-state solution."
   ]
  },
  {
   "cell_type": "markdown",
   "id": "0009620e-1627-4303-b871-b1816cd58513",
   "metadata": {},
   "source": [
    "## ***Resonant frequency recap***\n",
    "\n",
    "### There are three frequencies that come into play when we drive a spring-mass-dashpot system with a sinusoidal input of frequency $\\omega$.\n",
    "\n",
    "### $\\omega_n$ - the natural (undamped) frequency,\n",
    "### $\\omega_d$ - the natural damped (pseudo) frequency,\n",
    "### $\\omega_r$ - the resonant frequency .\n",
    "\n",
    "### The ***resonant frequency*** is defined as the input frequency that leads to the maximal amplitude in the response."
   ]
  },
  {
   "cell_type": "markdown",
   "id": "305021a5-337a-40f9-91c0-c6faaa504e04",
   "metadata": {},
   "source": [
    "## 6. Frequency response and amplitude response\n",
    "\n",
    "### Given any ODE\n",
    "## $$ P(D) x = Q(D) \\cos(\\omega t) $$\n",
    "\n",
    "### the complex gain is a complex function given by\n",
    "## $$ G(\\omega) = \\frac{Q(i\\omega)}{P(i\\omega)} = g e^{-i\\phi} \\quad (\\text{in polar form}) $$\n",
    "\n",
    "### The gain of the response $x$ is $g = |G(\\omega)|$, which can also be thought of as a function of the input sinusoidal frequency $\\omega$. The phase lag of the response $-\\phi = \\arg(G(\\omega))$ can similarly be thought of as a function of $\\omega$.\n",
    "\n",
    "### In engineering, the graph of gain as a function of $\\omega$ is called a ***Bode plot*** (Bode is pronounced Boh-dee), and is usually on a log-log scale. Alternatively, a ***Nyquist plot*** shows the trajectory of the complex gain $G$ as $\\omega$ varies. The Bode plots contain, at a glance, all of the information about the resonant response $\\omega_r$. By looking at the Bode plot of the amplitude as a function of frequency, we can observe any vertical asymptotes (pure resonant values) or local maxima (resonant values). Sometimes the gain is monotonically decreasing, this is the case of no resonance."
   ]
  },
  {
   "cell_type": "markdown",
   "id": "1ecf72d1-8abe-4d9d-9169-fdd429d3e29b",
   "metadata": {},
   "source": [
    "## 7. Review: worked examples on finding solutions using generalized ERF\n",
    "\n",
    "### ***Example 7.1***\n",
    "### Find a particular solution to the equation\n",
    "## $$ \\ddot{x} + 8\\dot{x} + 15x = e^{-5t} $$\n",
    "\n",
    "### ***Answer***\n",
    "### The characteristic polynomial is $P(r) = r^2 + 8r + 15$. Since $P(-5) = 0$ we need to use the generalized ERF. Computing we see that $P'(r) = 2r + 8$, which implies $P'(-5) = -2$. Therefore the generalized ERF gives\n",
    "## $$ x_p = \\frac{t e^{-5t}}{P'(-5)} = -\\frac{t e^{-5t}}{2} $$\n",
    "\n",
    "### ***Example 7.2***\n",
    "### Find a particular solution to\n",
    "## $$ \\ddot{x} + 2\\dot{x} + 2x = e^{-t} \\cos(t) $$\n",
    "\n",
    "### ***Answer***\n",
    "### First we complexify the equation\n",
    "## $$ \\ddot{z} + 2\\dot{z} + 2z = e^{(-1+i)t}, \\quad \\text{where}\\quad x = \\operatorname{Re}(z) $$\n",
    "\n",
    "### The characteristic polynomial is $P(r) = r^2 + 2r + 2$. Computing we see that,\n",
    "## $$ P(-1+i) = (-1+i)^2 + 2(-1+i) + 2 = 0,\\quad P'(r) = 2r + 2,\\quad P'(-1+i) = 2i $$\n",
    "\n",
    "### Since $P(-1+i) = 0$ we use the generalized ERF\n",
    "## $$ z_p = \\frac{t e^{(-1+i)t}}{P'(-1+i)} = \\frac{t e^{(-1+i)t}}{2i} = \\frac{t e^{-t} (\\cos(t) + i \\sin(t))}{2i} $$\n",
    "\n",
    "### Finally we take the real part to get\n",
    "## $$ x_p = \\operatorname{Re}(z_p) = \\frac{t e^{-t} \\sin(t)}{2} $$"
   ]
  },
  {
   "cell_type": "markdown",
   "id": "fd8fd52b-17fa-4f68-ad99-26c3eff6f103",
   "metadata": {},
   "source": [
    "### Mass-dashpot system mathlets:"
   ]
  },
  {
   "cell_type": "code",
   "execution_count": 4,
   "id": "31c323b5-f890-459b-9b46-b6aab24dfa0d",
   "metadata": {
    "jupyter": {
     "source_hidden": true
    },
    "tags": []
   },
   "outputs": [
    {
     "data": {
      "text/html": [
       "<iframe width=\"900\" height=\"650\" src=\"https://1803mathlets.netlify.app/ampphasesecondorderi\" frameborder=\"0\" allow=\"accelerometer; autoplay; clipboard-write; encrypted-media; gyroscope; picture-in-picture\" allowfullscreen></iframe> \n"
      ],
      "text/plain": [
       "<IPython.core.display.HTML object>"
      ]
     },
     "metadata": {},
     "output_type": "display_data"
    }
   ],
   "source": [
    "%%html\n",
    "<iframe width=\"900\" height=\"650\" src=\"https://1803mathlets.netlify.app/ampphasesecondorderi\" frameborder=\"0\" allow=\"accelerometer; autoplay; clipboard-write; encrypted-media; gyroscope; picture-in-picture\" allowfullscreen></iframe> "
   ]
  },
  {
   "cell_type": "code",
   "execution_count": 3,
   "id": "96d9acf3-12c0-4a82-8a9b-c56e3817ddb4",
   "metadata": {
    "jupyter": {
     "source_hidden": true
    },
    "tags": []
   },
   "outputs": [
    {
     "data": {
      "text/html": [
       "<iframe width=\"900\" height=\"650\" src=\"https://1803mathlets.netlify.app/ampphasesecondorderiii\" frameborder=\"0\" allow=\"accelerometer; autoplay; clipboard-write; encrypted-media; gyroscope; picture-in-picture\" allowfullscreen></iframe>  \n"
      ],
      "text/plain": [
       "<IPython.core.display.HTML object>"
      ]
     },
     "metadata": {},
     "output_type": "display_data"
    }
   ],
   "source": [
    "%%html\n",
    "<iframe width=\"900\" height=\"650\" src=\"https://1803mathlets.netlify.app/ampphasesecondorderiii\" frameborder=\"0\" allow=\"accelerometer; autoplay; clipboard-write; encrypted-media; gyroscope; picture-in-picture\" allowfullscreen></iframe>  "
   ]
  },
  {
   "cell_type": "markdown",
   "id": "6afea7fe-085a-4cc2-b619-05518ec25b74",
   "metadata": {},
   "source": []
  }
 ],
 "metadata": {
  "kernelspec": {
   "display_name": "Python 3",
   "language": "python",
   "name": "python3"
  },
  "language_info": {
   "codemirror_mode": {
    "name": "ipython",
    "version": 3
   },
   "file_extension": ".py",
   "mimetype": "text/x-python",
   "name": "python",
   "nbconvert_exporter": "python",
   "pygments_lexer": "ipython3",
   "version": "3.8.8"
  }
 },
 "nbformat": 4,
 "nbformat_minor": 5
}
