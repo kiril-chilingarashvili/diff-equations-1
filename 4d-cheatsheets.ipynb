{
 "cells": [
  {
   "cell_type": "markdown",
   "id": "e14701a8-b2ac-4cd1-b871-b4623b920138",
   "metadata": {},
   "source": [
    "# Unit 4: Exponential Response and Resonance - Part d: RLC circuits"
   ]
  },
  {
   "cell_type": "markdown",
   "id": "5104a05d-b19a-4fe7-aca9-af59ba70364a",
   "metadata": {},
   "source": [
    "## 2. Series RLC circuits\n",
    "\n",
    "### Resonance is a phenomenon that is very important in the design of electrical circuits. So we will model an RLC circuit in series. \n",
    "### Then we will explore how resonance enables different elements in the circuit act as low-pass filters, high-pass filters, or mid-pass filters – selectively allowing certain driving frequencies to pass through while others diminish."
   ]
  },
  {
   "cell_type": "markdown",
   "id": "4bc8d554-0843-48de-8f2b-c85f1e5c3a5e",
   "metadata": {},
   "source": [
    "### A very simple passive AM radio receiver may be modeled by the following circuit.\n",
    "![img](img/sc14.png) \n",
    "\n",
    "### The power source at left is the antenna, being driven by radio waves. The resistor at top is a speaker. The other components are a capacitor (at bottom) and an inductance coil (at right).\n",
    "\n",
    "### We will model this circuit using the same five-step process as before.\n",
    "\n",
    "### 1. ***Draw a diagram of the system***. We've already done Step 1!\n",
    "### 2. ***Identify and give symbols for the parameters and variables of the system***. The diagram shows symbols for four standard electronic components:\n",
    "### $R$ - resistance of the resistor (ohms)\n",
    "### $L$ - inductance of the inductor (henries)\n",
    "### $C$ - capacitance of the capacitor (farads)\n",
    "### $V$ - voltage source (volts)\n",
    "### The quantities $R, L, C$ are constants while the voltage source $V$ is a function of time.\n",
    "\n",
    "### Next, to understand the diagram above, we need to define an orientation of the circuit; say that current flows clockwise. Since it's a series circuit, the current through any of the wires is the same; write $I(t)$ for it. Then we can say that the power source, at left, produces a voltage ***increase*** of $V(t)$ volts at time $t$. This voltage increase may vary with time, and may be negative as well as positive. In fact we'll be especially interested in the case in which it is sinusoidal!\n",
    "\n",
    "### The meaning of each of the other components is specified by how the voltage ***decrease*** across it is related to the current flowing through it. For us, these relationships ***define*** the components. The impact of each component is determined by the constant appearing in these relationships.\n",
    "### Voltage drop across the ***inductor***: $V_L(t) = L \\dot{I}(t)$\n",
    "### Voltage drop across the ***resistor***: $V_R(t) = R I(t)$\n",
    "### Voltage drop across the ***capacitor***: $C \\dot{V}_C(t) = I(t)$\n",
    "\n",
    "### These are related by ***Kirchhoff's voltage law***: The voltage gain across the power source must equal the sum of the voltage drops across the other components:\n",
    "## $$ V = V_L + V_R + V_C $$\n",
    "\n",
    "### 3. ***Declare the input signal and the system response***. We will declare the voltage increase $V(t)$ produced by the power source as the input signal. For system response, we are interested in the loudness of the speaker, which is proportional to the voltage drop across the resistor. So we declare $V_R$ to be the system response.\n",
    "\n",
    "### This means that we want to set up a differential equation relating $V(t)$ to $V_R(t)$.\n",
    "\n",
    "### 4. ***Write down a differential equation relating the input signal and the system response, using Newton's “$F=ma$\" in the mechanical case or Kirchhoff's laws in the electrical case***. Because $\\dot{V}_C$ appears in the definition of a capacitor, it is natural to differentiate Kirchhoff's voltage law, and rewrite in terms of $I$;\n",
    "## $$ \\dot{V} = \\dot{V}_L + \\dot{V}_R + \\dot{V}_C = L\\ddot{I} + R\\dot{I} + \\frac{1}{C} I $$\n",
    "\n",
    "### To make this into an equation relating the input signal $V$ to the system response $V_R$, we just have to remember that $V_R = RI$. So multiply through by $R$ and make this substitution, along with its consequences $\\dot{V}_R = R\\dot{I}$ and $\\ddot{V}_R = R \\ddot{I}$:\n",
    "## $$ R \\dot{V} = L \\ddot{V}_R + R \\dot{V}_R + \\frac{1}{C} V_R $$\n",
    " \n",
    "### 5. ***Rewrite the equation in standard form***. Input and output are already separated; to put this in standard form we just swap sides:\n",
    "## $$ L\\ddot{V}_R + R \\dot{V}_R + \\frac{1}{C} V_R = R \\dot{V} $$\n",
    " \n",
    "### We're done. But before we discuss consequences, recall the equation describing the spring/mass/dashpot system driven through the dashpot:\n",
    "## $$ m\\ddot{x} + b\\dot{x} + kx = b\\dot{y} $$\n",
    "\n",
    "### These two equations are formally identical in the way they relate input and system response. This reflects a rough parallel between mechanical and electrical systems, in which"
   ]
  },
  {
   "cell_type": "markdown",
   "id": "8c2fc0d8-19b0-4165-86e2-7ac1679b6977",
   "metadata": {},
   "source": [
    "<table width=\"100%\">\n",
    "    <tr><th colspan=\"2\">Mechanical</th><th colspan=\"2\">Electrical</th></tr>\n",
    "    <tr><td>displacement</td><td>$x, y$</td><td>voltage drop, gain</td><td>$V_R, V$</td></tr>\n",
    "    <tr><td>mass</td><td>$m$</td><td>inductance</td><td>$L$</td></tr>\n",
    "    <tr><td>damping constant</td><td>$b$</td><td>resistance</td><td>$R$</td></tr>\n",
    "    <tr><td>spring constant</td><td>$k$</td><td>1/capacitance</td><td>$1/C$</td></tr>\n",
    "</table>"
   ]
  },
  {
   "cell_type": "markdown",
   "id": "17772e37-f9ae-408d-89e6-7a9afccbe84c",
   "metadata": {},
   "source": []
  }
 ],
 "metadata": {
  "kernelspec": {
   "display_name": "Python 3",
   "language": "python",
   "name": "python3"
  },
  "language_info": {
   "codemirror_mode": {
    "name": "ipython",
    "version": 3
   },
   "file_extension": ".py",
   "mimetype": "text/x-python",
   "name": "python",
   "nbconvert_exporter": "python",
   "pygments_lexer": "ipython3",
   "version": "3.8.8"
  }
 },
 "nbformat": 4,
 "nbformat_minor": 5
}
