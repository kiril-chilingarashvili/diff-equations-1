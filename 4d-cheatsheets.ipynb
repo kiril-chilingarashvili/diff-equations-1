{
 "cells": [
  {
   "cell_type": "markdown",
   "id": "e14701a8-b2ac-4cd1-b871-b4623b920138",
   "metadata": {},
   "source": [
    "# Unit 4: Exponential Response and Resonance - Part d: RLC circuits"
   ]
  },
  {
   "cell_type": "markdown",
   "id": "5104a05d-b19a-4fe7-aca9-af59ba70364a",
   "metadata": {},
   "source": [
    "## 2. Series RLC circuits\n",
    "\n",
    "### Resonance is a phenomenon that is very important in the design of electrical circuits. So we will model an RLC circuit in series. \n",
    "### Then we will explore how resonance enables different elements in the circuit act as low-pass filters, high-pass filters, or mid-pass filters – selectively allowing certain driving frequencies to pass through while others diminish."
   ]
  },
  {
   "cell_type": "markdown",
   "id": "4bc8d554-0843-48de-8f2b-c85f1e5c3a5e",
   "metadata": {},
   "source": [
    "### A very simple passive AM radio receiver may be modeled by the following circuit.\n",
    "![img](img/sc14.png) \n",
    "\n",
    "### The power source at left is the antenna, being driven by radio waves. The resistor at top is a speaker. The other components are a capacitor (at bottom) and an inductance coil (at right).\n",
    "\n",
    "### We will model this circuit using the same five-step process as before.\n",
    "\n",
    "### 1. ***Draw a diagram of the system***. We've already done Step 1!\n",
    "### 2. ***Identify and give symbols for the parameters and variables of the system***. The diagram shows symbols for four standard electronic components:\n",
    "### $R$ - resistance of the resistor (ohms)\n",
    "### $L$ - inductance of the inductor (henries)\n",
    "### $C$ - capacitance of the capacitor (farads)\n",
    "### $V$ - voltage source (volts)\n",
    "### The quantities $R, L, C$ are constants while the voltage source $V$ is a function of time.\n",
    "\n",
    "### Next, to understand the diagram above, we need to define an orientation of the circuit; say that current flows clockwise. Since it's a series circuit, the current through any of the wires is the same; write $I(t)$ for it. Then we can say that the power source, at left, produces a voltage ***increase*** of $V(t)$ volts at time $t$. This voltage increase may vary with time, and may be negative as well as positive. In fact we'll be especially interested in the case in which it is sinusoidal!\n",
    "\n",
    "### The meaning of each of the other components is specified by how the voltage ***decrease*** across it is related to the current flowing through it. For us, these relationships ***define*** the components. The impact of each component is determined by the constant appearing in these relationships.\n",
    "### Voltage drop across the ***inductor***: $V_L(t) = L \\dot{I}(t)$\n",
    "### Voltage drop across the ***resistor***: $V_R(t) = R I(t)$\n",
    "### Voltage drop across the ***capacitor***: $C \\dot{V}_C(t) = I(t)$\n",
    "\n",
    "### These are related by ***Kirchhoff's voltage law***: The voltage gain across the power source must equal the sum of the voltage drops across the other components:\n",
    "## $$ V = V_L + V_R + V_C $$\n",
    "\n",
    "### 3. ***Declare the input signal and the system response***. We will declare the voltage increase $V(t)$ produced by the power source as the input signal. For system response, we are interested in the loudness of the speaker, which is proportional to the voltage drop across the resistor. So we declare $V_R$ to be the system response.\n",
    "\n",
    "### This means that we want to set up a differential equation relating $V(t)$ to $V_R(t)$.\n",
    "\n",
    "### 4. ***Write down a differential equation relating the input signal and the system response, using Newton's “$F=ma$\" in the mechanical case or Kirchhoff's laws in the electrical case***. Because $\\dot{V}_C$ appears in the definition of a capacitor, it is natural to differentiate Kirchhoff's voltage law, and rewrite in terms of $I$;\n",
    "## $$ \\dot{V} = \\dot{V}_L + \\dot{V}_R + \\dot{V}_C = L\\ddot{I} + R\\dot{I} + \\frac{1}{C} I $$\n",
    "\n",
    "### To make this into an equation relating the input signal $V$ to the system response $V_R$, we just have to remember that $V_R = RI$. So multiply through by $R$ and make this substitution, along with its consequences $\\dot{V}_R = R\\dot{I}$ and $\\ddot{V}_R = R \\ddot{I}$:\n",
    "## $$ R \\dot{V} = L \\ddot{V}_R + R \\dot{V}_R + \\frac{1}{C} V_R $$\n",
    " \n",
    "### 5. ***Rewrite the equation in standard form***. Input and output are already separated; to put this in standard form we just swap sides:\n",
    "## $$ L\\ddot{V}_R + R \\dot{V}_R + \\frac{1}{C} V_R = R \\dot{V} $$\n",
    " \n",
    "### We're done. But before we discuss consequences, recall the equation describing the spring/mass/dashpot system driven through the dashpot:\n",
    "## $$ m\\ddot{x} + b\\dot{x} + kx = b\\dot{y} $$\n",
    "\n",
    "### These two equations are formally identical in the way they relate input and system response. This reflects a rough parallel between mechanical and electrical systems, in which"
   ]
  },
  {
   "cell_type": "markdown",
   "id": "8c2fc0d8-19b0-4165-86e2-7ac1679b6977",
   "metadata": {},
   "source": [
    "<table width=\"100%\">\n",
    "    <tr><th colspan=\"2\">Mechanical</th><th colspan=\"2\">Electrical</th></tr>\n",
    "    <tr><td>displacement</td><td>$x, y$</td><td>voltage drop, gain</td><td>$V_R, V$</td></tr>\n",
    "    <tr><td>mass</td><td>$m$</td><td>inductance</td><td>$L$</td></tr>\n",
    "    <tr><td>damping constant</td><td>$b$</td><td>resistance</td><td>$R$</td></tr>\n",
    "    <tr><td>spring constant</td><td>$k$</td><td>1/capacitance</td><td>$1/C$</td></tr>\n",
    "</table>"
   ]
  },
  {
   "cell_type": "markdown",
   "id": "17772e37-f9ae-408d-89e6-7a9afccbe84c",
   "metadata": {},
   "source": [
    "## 3. Gain for different system responses\n",
    "\n",
    "### If we derive two other equations for cases when we take $V_C$ and $V_L$ as system response variable, we get:\n",
    "## $$ \\begin{array} {rcl} \\displaystyle L\\ddot{V}_R + R \\dot{V}_R + \\frac{1}{C} V_R & = & \\displaystyle R \\dot{V} \\\\ \\displaystyle L\\ddot{V}_C + R \\dot{V}_C + \\frac{1}{C} V_C & = & \\displaystyle \\frac{1}{C} V \\\\ \\displaystyle L\\ddot{V}_L + R \\dot{V}_L + \\frac{1}{C} V_L & = & \\displaystyle L \\ddot{V} \\end{array} $$\n",
    "\n",
    "### Recall the DE for the system response $V_R$ and system input $V$ is\n",
    "## $$ \\begin{array} {rcl} P(D) V_R = Q(D) V, & \\displaystyle \\text{where} & \\displaystyle P(D) = LD^2 + RD + \\frac{1}{C} \\\\ \\, & \\, & Q(D) = RD \\end{array} $$\n",
    "\n",
    "### (Recall $D$ is the differential operator $\\displaystyle \\frac{d}{dt}$) The complex gain for $V_R$ is therefore\n",
    "## $$ G_R(\\omega) = \\frac{Q(i\\omega)}{P(i\\omega)} = \\frac{i R \\omega}{ \\left( \\frac{1}{C} - L \\omega^2 \\right) + i R\\omega} $$"
   ]
  },
  {
   "cell_type": "markdown",
   "id": "e0c28d08-5b0f-4a00-98a4-906393544af5",
   "metadata": {},
   "source": [
    "## Series RLC mathlet\n",
    "\n",
    "### Below is a mathlet that shows the input voltage $V$, as well as $V_R, V_L$ and $V_C$ in a series RLC circuit. The different responses are hidden or displayed in different colors when you click on their respective boxes. You can adjust the values of the resistor, the inductor, and the capacitor using the $R, L$ and $C$ sliders respectively. You can determine the amplitude $V_0$ and the angular frequency $\\omega$ of the input voltage using the respective sliders.\n",
    "\n",
    "### Using this Mathlet, you can simulate the experiment we did in the lab and others! Here are the values of resistance, capacitance, and inductance values."
   ]
  },
  {
   "cell_type": "code",
   "execution_count": 2,
   "id": "537a5881-b17d-4933-95cc-26e98f7e6f13",
   "metadata": {
    "jupyter": {
     "source_hidden": true
    },
    "tags": []
   },
   "outputs": [
    {
     "data": {
      "text/html": [
       "<iframe width=\"900\" height=\"650\" src=\"https://1803mathlets.netlify.app/seriesrlccircuit\" frameborder=\"0\" allow=\"accelerometer; autoplay; clipboard-write; encrypted-media; gyroscope; picture-in-picture\" allowfullscreen></iframe>\n"
      ],
      "text/plain": [
       "<IPython.core.display.HTML object>"
      ]
     },
     "metadata": {},
     "output_type": "display_data"
    }
   ],
   "source": [
    "%%html\n",
    "<iframe width=\"900\" height=\"650\" src=\"https://1803mathlets.netlify.app/seriesrlccircuit\" frameborder=\"0\" allow=\"accelerometer; autoplay; clipboard-write; encrypted-media; gyroscope; picture-in-picture\" allowfullscreen></iframe>"
   ]
  },
  {
   "cell_type": "markdown",
   "id": "f31550b3-00bb-4c8d-8d51-82ac3c5b8782",
   "metadata": {},
   "source": [
    "## 6. Worked example: a parallel RL circuit\n",
    "\n",
    "### ***Example 6.1***\n",
    "### A resistor of resistance $R$ and an inductor of inductance $L$ are attached in parallel. A voltage source provides the combination with AC voltage of angular frequency $\\omega$. Find the gain and phase lag of the resistor current relative to the total current (through the voltage source).\n",
    "\n",
    "### ***Solution***:\n",
    "![img](img/sc15.png)\n",
    "\n",
    "### Let $V(t)$ be the sinusoidal voltage provided.\n",
    "\n",
    "### ***Unknown functions***: Let $I_1$ be the resistor current. Let $I_2$ be the inductor current. Let $I$ be the total current.\n",
    "\n",
    "### ***Equations***: Physics says\n",
    "## $$ \\begin{array} {rcl} V & = & R I_1 \\\\ V & = & L \\dot{I}_2 \\\\ I & = & I_1 + I_2 \\end{array} $$\n",
    "\n",
    "### The same relationships hold between the complex replacements:\n",
    "## $$ \\begin{array} {rcl} \\tilde{V} & = & R \\tilde{I}_1 \\\\ \\tilde{V} & = & L \\dot{\\tilde{I}}_2 \\\\ \\tilde{I} & = & \\tilde{I}_1 + \\tilde{I}_2 \\end{array} $$\n",
    "\n",
    "### (because taking real parts is compatible with real scalar multiplication and with taking derivatives).\n",
    "\n",
    "### Suppose that $\\tilde{V} = e^{i\\omega t}$. (In general, $\\tilde{V} = \\gamma e^{i\\omega t}$ for some $\\gamma \\in \\mathbb{C}$, but then everything will be multiplied by $\\gamma$, so when we take a ratio to get complex gain, $\\gamma$ will disappear.) How do we solve for the other three functions $\\tilde{I}_1, \\tilde{I}_2, \\tilde{I}$?\n",
    "\n",
    "### In the steady-state solution,\n",
    "## $$ \\begin{array} {rcl} \\tilde{I}_1 & = & \\alpha_1 e^{i\\omega t} \\\\ \\tilde{I}_2 & = & \\alpha_2 e^{i\\omega t} \\\\ \\tilde{I} & = & \\beta e^{i\\omega t} \\end{array} $$\n",
    "\n",
    "### for some unknown complex numbers $\\alpha_1, \\alpha_2, \\beta$. \n",
    "### To find $\\alpha_1, \\alpha_2, \\beta$, substitute into the three complex replacement equations:\n",
    "## $$ \\begin{array} {rcl} e^{i\\omega t} & = & R \\alpha_1 e^{i\\omega t} \\\\ e^{i\\omega t} & = & L \\alpha_2 e^{i\\omega t} i \\omega \\\\ \\beta e^{i\\omega t} & = & \\alpha_1 e^{i\\omega t} + \\alpha_2 e^{i\\omega t} \\end{array} $$\n",
    "\n",
    "### This simplifies to\n",
    "## $$ \\begin{array} {rcl} 1 & = & R\\alpha_1 \\\\ 1 & = & L \\alpha_2 i\\omega \\\\ \\beta & = & \\alpha_1 + \\alpha_2 \\end{array} $$\n",
    "\n",
    "### So $\\displaystyle \\alpha_1 = \\frac{1}{R}, \\alpha_2 = \\frac{1}{Li\\omega}, \\beta=\\frac{1}{R} + \\frac{1}{Li\\omega}$. The complex gain of $I_1$ relative to $I$ is the complex constant\n",
    "## $$ G = \\frac{\\alpha_1}{\\beta} = \\frac{\\frac{1}{R}}{\\frac{1}{R}+\\frac{1}{Li\\omega}} $$\n",
    "\n",
    "### The gain is $|G|$, and the phase lag is $-\\arg(G)$."
   ]
  },
  {
   "cell_type": "markdown",
   "id": "9d4a6767-cb0a-4605-b4f1-8b4f411639dd",
   "metadata": {},
   "source": [
    "## 3. Method of undetermined coefficients\n",
    "\n",
    "### Consider the following DE\n",
    "## $$ P(D) x = F(t)\\quad \\text{where} \\quad P(D) = D^2 + 2 D + 2 $$\n",
    " \n",
    "### For some classes of functions $F$ we can guess an expression for a particular solution. \n",
    "### For example, if $F = \\sin(t)$ since the derivatives of $\\sin(t)$ are always either $\\pm \\cos(t)$ or $\\pm \\sin(t)$ it is reasonable to guess a particular solution of the form\n",
    "## $$ x_p(t) = A\\sin(t) + B\\cos(t) $$\n",
    "\n",
    "### Then, to determine the coefficients $A$ and $B$ we plug $x_p(t)$ into the DE:\n",
    "## $$ \\begin{array} {rcl} P(D) x_p & = & (D^2 + 2D + 2) (A\\sin(t) + B\\cos(t)) \\\\ \\, & = & A(-\\sin(t) + 2\\cos(t) + 2\\sin(t)) + B(-\\cos(t) -2\\sin(t) + 2\\cos(t)) \\\\ \\, & = & \\sin(t) (A-2B) + \\cos(t) (2A+B) \\end{array} $$\n",
    "\n",
    "### Setting $P(D) x_p = F$, we get\n",
    "## $$ \\sin(t) (A-2B) + \\cos(t) (2A + B) = \\sin(t) $$\n",
    "\n",
    "### Because the functions $\\sin(t)$ and $\\cos(t)$ are linearly independent, matching coefficients we have two linear equations with two unknowns:\n",
    "## $$ \\begin{array} {rcl} A-2B & = & 1 \\\\ 2A + B & = & 0 \\end{array} $$\n",
    "\n",
    "### Solving these two equations give $\\displaystyle A = \\frac{1}{5}$ and $\\displaystyle -\\frac{2}{5}$ and therefore $\\displaystyle x_p = \\frac{\\sin(t)}{5} - \\frac{2\\cos(t)}{5}$\n",
    "\n",
    "### This is an example of the ***method of undetermined coefficients***. We will revisit this method again once we have learned a systematic way of solving systems of linear equations."
   ]
  },
  {
   "cell_type": "markdown",
   "id": "78875856-69cf-4240-be60-4a6f2dc1a3a7",
   "metadata": {},
   "source": []
  }
 ],
 "metadata": {
  "kernelspec": {
   "display_name": "Python 3",
   "language": "python",
   "name": "python3"
  },
  "language_info": {
   "codemirror_mode": {
    "name": "ipython",
    "version": 3
   },
   "file_extension": ".py",
   "mimetype": "text/x-python",
   "name": "python",
   "nbconvert_exporter": "python",
   "pygments_lexer": "ipython3",
   "version": "3.8.8"
  }
 },
 "nbformat": 4,
 "nbformat_minor": 5
}
